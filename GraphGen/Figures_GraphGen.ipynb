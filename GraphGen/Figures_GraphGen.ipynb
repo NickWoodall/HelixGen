{
 "cells": [
  {
   "cell_type": "code",
   "execution_count": 1,
   "metadata": {},
   "outputs": [
    {
     "ename": "ModuleNotFoundError",
     "evalue": "No module named 'pyrosetta'",
     "output_type": "error",
     "traceback": [
      "\u001b[1;31m---------------------------------------------------------------------------\u001b[0m",
      "\u001b[1;31mModuleNotFoundError\u001b[0m                       Traceback (most recent call last)",
      "\u001b[1;32m<ipython-input-1-ed16fd937b8a>\u001b[0m in \u001b[0;36m<module>\u001b[1;34m\u001b[0m\n\u001b[0;32m     11\u001b[0m \u001b[1;32mimport\u001b[0m \u001b[0mpickle\u001b[0m\u001b[1;33m\u001b[0m\u001b[1;33m\u001b[0m\u001b[0m\n\u001b[0;32m     12\u001b[0m \u001b[1;32mimport\u001b[0m \u001b[0mos\u001b[0m\u001b[1;33m\u001b[0m\u001b[1;33m\u001b[0m\u001b[0m\n\u001b[1;32m---> 13\u001b[1;33m \u001b[1;32mimport\u001b[0m \u001b[0mRelaxFastdesign\u001b[0m \u001b[1;32mas\u001b[0m \u001b[0mros\u001b[0m\u001b[1;33m\u001b[0m\u001b[1;33m\u001b[0m\u001b[0m\n\u001b[0m\u001b[0;32m     14\u001b[0m \u001b[1;32mimport\u001b[0m \u001b[0mpickle\u001b[0m\u001b[1;33m\u001b[0m\u001b[1;33m\u001b[0m\u001b[0m\n\u001b[0;32m     15\u001b[0m \u001b[1;33m\u001b[0m\u001b[0m\n",
      "\u001b[1;32m~\\Desktop\\hTest\\HelixGen\\GraphGen\\RelaxFastdesign.py\u001b[0m in \u001b[0;36m<module>\u001b[1;34m\u001b[0m\n\u001b[0;32m      1\u001b[0m \u001b[1;32mimport\u001b[0m \u001b[0mos\u001b[0m\u001b[1;33m\u001b[0m\u001b[1;33m\u001b[0m\u001b[0m\n\u001b[1;32m----> 2\u001b[1;33m \u001b[1;32mimport\u001b[0m \u001b[0mpyrosetta\u001b[0m\u001b[1;33m\u001b[0m\u001b[1;33m\u001b[0m\u001b[0m\n\u001b[0m\u001b[0;32m      3\u001b[0m \u001b[1;32mfrom\u001b[0m \u001b[0mpyrosetta\u001b[0m\u001b[1;33m.\u001b[0m\u001b[0mrosetta\u001b[0m\u001b[1;33m.\u001b[0m\u001b[0mutility\u001b[0m \u001b[1;32mimport\u001b[0m \u001b[0mvector1_bool\u001b[0m\u001b[1;33m\u001b[0m\u001b[1;33m\u001b[0m\u001b[0m\n\u001b[0;32m      4\u001b[0m \u001b[1;32mfrom\u001b[0m \u001b[0mpyrosetta\u001b[0m\u001b[1;33m.\u001b[0m\u001b[0mrosetta\u001b[0m\u001b[1;33m.\u001b[0m\u001b[0mcore\u001b[0m\u001b[1;33m.\u001b[0m\u001b[0mpose\u001b[0m \u001b[1;32mimport\u001b[0m \u001b[0mPDBInfo\u001b[0m\u001b[1;33m\u001b[0m\u001b[1;33m\u001b[0m\u001b[0m\n\u001b[0;32m      5\u001b[0m \u001b[1;32mfrom\u001b[0m \u001b[0mpyrosetta\u001b[0m\u001b[1;33m.\u001b[0m\u001b[0mrosetta\u001b[0m\u001b[1;33m.\u001b[0m\u001b[0mcore\u001b[0m\u001b[1;33m.\u001b[0m\u001b[0mchemical\u001b[0m \u001b[1;32mimport\u001b[0m \u001b[0maa_from_oneletter_code\u001b[0m\u001b[1;33m\u001b[0m\u001b[1;33m\u001b[0m\u001b[0m\n",
      "\u001b[1;31mModuleNotFoundError\u001b[0m: No module named 'pyrosetta'"
     ]
    }
   ],
   "source": [
    "import sys\n",
    "\n",
    "\n",
    "import PredictSeq as ps\n",
    "import time\n",
    "import numpy as np\n",
    "import util.AA_Exchange as aa\n",
    "from pymol import cmd, stored, selector\n",
    "from sklearn.metrics import confusion_matrix\n",
    "import pandas as pd\n",
    "import pickle\n",
    "import os\n",
    "import RelaxFastdesign as ros\n",
    "import pickle\n",
    "\n",
    "import argparse\n",
    "import seaborn as sns\n",
    "import time\n",
    "import pyrosetta\n",
    "import matplotlib.pyplot as plt\n",
    "pyrosetta.init(\"-beta -mute all\")\n"
   ]
  },
  {
   "cell_type": "code",
   "execution_count": 2,
   "metadata": {},
   "outputs": [],
   "source": [
    "import Test_GraphGen as tgg\n",
    "#-graph gen test statistics for "
   ]
  },
  {
   "cell_type": "code",
   "execution_count": 17,
   "metadata": {},
   "outputs": [],
   "source": [
    "gg_net = 'data/best_checkpoint_epoch67_graphGenData.pt'\n",
    "net = 'data/Best_GraphGen.pt'\n",
    "modelDirec = '../data/4H_dataset/models/'\n",
    "straightDirec = '../data/4H_dataset/str_models/'\n",
    "\n",
    "limit=100000"
   ]
  },
  {
   "cell_type": "code",
   "execution_count": 21,
   "metadata": {},
   "outputs": [
    {
     "data": {
      "text/plain": [
       "'SLDEILETLKELGVPPELLEEVKKVLEELERRGDPKREEVRRLLEEARKVPDPREVRRLVEEAVR'"
      ]
     },
     "execution_count": 21,
     "metadata": {},
     "output_type": "execute_result"
    }
   ],
   "source": [
    "sA[0]"
   ]
  },
  {
   "cell_type": "code",
   "execution_count": 22,
   "metadata": {},
   "outputs": [
    {
     "data": {
      "text/plain": [
       "['SLEELLEEARKLGVPPELLERVEELLKELEERGDPRREEVRRLLEEIVKIPDPEEARKLLEEAIK',\n",
       " '0002182ba9e87d7b0d6b7d16b7001923_0001']"
      ]
     },
     "execution_count": 22,
     "metadata": {},
     "output_type": "execute_result"
    }
   ],
   "source": [
    "sP[0]"
   ]
  },
  {
   "cell_type": "code",
   "execution_count": 18,
   "metadata": {},
   "outputs": [
    {
     "name": "stdout",
     "output_type": "stream",
     "text": [
      "size of directory straight is 27877\n",
      "size of sequence directory is 27894\n",
      "Statistics for straight helix trained GraphGen\n",
      "GroupCharge 95%\n",
      "GroupPhobic 96%\n",
      "Hydrophobic Accuracy AILVF 70%\n",
      "Charged Accuracy DE_RK 62%\n",
      " AILVF [74 27 43 81 59]\n",
      " DE KR [75 75 44 48]\n",
      " P G [93 96]\n",
      "\n"
     ]
    }
   ],
   "source": [
    "start_pred = time.time()\n",
    "        \n",
    "#returns a sequence/ name of the protein\n",
    "sP = ps.getSeq(net, direcName = modelDirec,dtest=straightDirec, \n",
    "       limit = limit, hidden=64, mpnn=True,test=True, train=False,catSet=False)\n",
    "end_pred = time.time()\n",
    "\n",
    "sA = tgg.get_pdb_seq(sP,direcName=modelDirec,removeEnding=False)\n",
    "print('Statistics for straight helix trained GraphGen')\n",
    "matrix = tgg.compare_true_predicted(sP,sA)\n",
    "tgg.group_accuracy(matrix)  #prints accuracy\n",
    "\n"
   ]
  },
  {
   "cell_type": "code",
   "execution_count": 19,
   "metadata": {},
   "outputs": [
    {
     "name": "stdout",
     "output_type": "stream",
     "text": [
      "size of directory straight is 27877\n",
      "size of sequence directory is 27894\n",
      "Statistics for originally trained GraphGen Network\n",
      "GroupCharge 58%\n",
      "GroupPhobic 81%\n",
      "Hydrophobic Accuracy AILVF 30%\n",
      "Charged Accuracy DE_RK 27%\n",
      " AILVF [75  9  9 35  8]\n",
      " DE KR [34 38 18  9]\n",
      " P G [15  4]\n",
      "\n"
     ]
    }
   ],
   "source": [
    "sG = ps.getSeq(gg_net, direcName = modelDirec,dtest=straightDirec, \n",
    "               limit = limit, hidden=128, mpnn=True,test=True, train=False,catSet=False)\n",
    "               \n",
    "print('Statistics for originally trained GraphGen Network')\n",
    "matrix = tgg.compare_true_predicted(sG,sA)\n",
    "tgg.group_accuracy(matrix)  #prints accuracy"
   ]
  },
  {
   "cell_type": "code",
   "execution_count": 25,
   "metadata": {},
   "outputs": [],
   "source": [
    "#----------------predict_relax------------\n",
    "modelDirec = '../data/4H_dataset/models/'\n",
    "straightDirec = '../data/4H_dataset/str_models/'"
   ]
  },
  {
   "cell_type": "code",
   "execution_count": 26,
   "metadata": {},
   "outputs": [],
   "source": [
    "outDirec = '../Figures/GraphGen_Figure/output/gg_orig_test'\n",
    "scoreDirec = '../Figures/GraphGen_Figure/output/'\n",
    "outName = 'gg_orig'"
   ]
  },
  {
   "cell_type": "code",
   "execution_count": 44,
   "metadata": {},
   "outputs": [],
   "source": [
    "def relax_stats(seqList,outName,outDirec,scoreDirec, dOrig= modelDirec, dStraight = straightDirec, scoreList=[],nameList=[]):\n",
    "    \n",
    "    labels = ['name','pred_seq','pred_scores','pred_time','orig_scores']\n",
    "\n",
    "    \n",
    "    \n",
    "    for x in range(len(seqList)):\n",
    "        seq = seqList[x][0]\n",
    "        name = seqList[x][1]\n",
    "\n",
    "        #change residues to graphGen prediction\n",
    "        start = time.time()\n",
    "        pose = pyrosetta.pose_from_file(f'{dStraight}/{name}_str.pdb')\n",
    "        pred_pose = ros.mutate_residue(pose,seq)\n",
    "        pose_relax = ros.fastRelax(pred_pose)\n",
    "        end = time.time()\n",
    "        \n",
    "        pose_relax.dump_pdb(f'{outDirec}/{name}_{outName}.pdb')\n",
    "\n",
    "        scoreList.append([name, seq, ros.get_pose_scores(pred_pose), end-start])\n",
    "        nameList.append(name)\n",
    "        \n",
    "    tgg.save_scoreList(scoreDirec,nameList=nameList,scoreList=scoreList)\n",
    "    \n",
    "    return nameList, scoreList"
   ]
  },
  {
   "cell_type": "code",
   "execution_count": 1,
   "metadata": {},
   "outputs": [],
   "source": [
    "# sG = ps.getSeq(gg_net, direcName = modelDirec,dtest=straightDirec, \n",
    "#                limit = 2, hidden=128, mpnn=True,test=True, train=False,catSet=False)\n",
    "# nL, sL = relax_stats(sG,outName,outDirec,scoreDirec)\n",
    "    "
   ]
  },
  {
   "cell_type": "code",
   "execution_count": 6,
   "metadata": {},
   "outputs": [],
   "source": [
    "def openArray(name,direc='../Figures/GraphGen_Figure/output/'):\n",
    "    \n",
    "    with open(f'{direc}/{name}_nameList.pkl', 'rb') as f:\n",
    "        nameList = pickle.load(f)\n",
    "    with open(f'{direc}/{name}_scoreList.pkl', 'rb') as f:\n",
    "        scoreList = pickle.load(f)\n",
    "        \n",
    "    return nameList, scoreList\n",
    "        \n"
   ]
  },
  {
   "cell_type": "code",
   "execution_count": null,
   "metadata": {},
   "outputs": [],
   "source": [
    "#labels = ['name','pred_seq','pred_scores','pred_time']"
   ]
  },
  {
   "cell_type": "code",
   "execution_count": 7,
   "metadata": {},
   "outputs": [],
   "source": [
    "nL, sL = openArray('refRelax')"
   ]
  },
  {
   "cell_type": "code",
   "execution_count": 10,
   "metadata": {},
   "outputs": [],
   "source": [
    "def extract_spr(scoresList):\n",
    "    \n",
    "    outList = []\n",
    "    #get total score and normalize to sequence length, final score needs associated sequence in different array place\n",
    "    for x in scoresList:\n",
    "        inner = []\n",
    "        for y in range(len(x)):\n",
    "            if y == 2:\n",
    "                inner.append(x[y]['total_score']/len(x[1])) #score/res\n",
    "            else:  \n",
    "                inner.append(x[y])\n",
    "        outList.append(inner)\n",
    "        \n",
    "    return outList"
   ]
  },
  {
   "cell_type": "code",
   "execution_count": 11,
   "metadata": {},
   "outputs": [],
   "source": [
    "sL2 = extract_spr(sL)"
   ]
  },
  {
   "cell_type": "code",
   "execution_count": 13,
   "metadata": {},
   "outputs": [],
   "source": [
    "cols =['name','seq','spr','time']\n",
    "df = pd.DataFrame(sL2,columns=cols)"
   ]
  },
  {
   "cell_type": "code",
   "execution_count": 26,
   "metadata": {},
   "outputs": [],
   "source": [
    "ax =sns.histplot(data=df,x='spr')"
   ]
  },
  {
   "cell_type": "code",
   "execution_count": 27,
   "metadata": {},
   "outputs": [],
   "source": [
    "ax.figure.show()"
   ]
  },
  {
   "cell_type": "code",
   "execution_count": 19,
   "metadata": {},
   "outputs": [
    {
     "data": {
      "text/html": [
       "<div>\n",
       "<style scoped>\n",
       "    .dataframe tbody tr th:only-of-type {\n",
       "        vertical-align: middle;\n",
       "    }\n",
       "\n",
       "    .dataframe tbody tr th {\n",
       "        vertical-align: top;\n",
       "    }\n",
       "\n",
       "    .dataframe thead th {\n",
       "        text-align: right;\n",
       "    }\n",
       "</style>\n",
       "<table border=\"1\" class=\"dataframe\">\n",
       "  <thead>\n",
       "    <tr style=\"text-align: right;\">\n",
       "      <th></th>\n",
       "      <th>name</th>\n",
       "      <th>seq</th>\n",
       "      <th>spr</th>\n",
       "      <th>time</th>\n",
       "    </tr>\n",
       "  </thead>\n",
       "  <tbody>\n",
       "    <tr>\n",
       "      <th>0</th>\n",
       "      <td>0002182ba9e87d7b0d6b7d16b7001923_0001</td>\n",
       "      <td>SLDEILETLKELGVPPELLEEVKKVLEELERRGDPKREEVRRLLEE...</td>\n",
       "      <td>-2.643990</td>\n",
       "      <td>37.128287</td>\n",
       "    </tr>\n",
       "    <tr>\n",
       "      <th>1</th>\n",
       "      <td>000877380acb95e21726d9df052ec962_0001</td>\n",
       "      <td>DELEERVREALERGDPELLRKILRELVELLKKGDPEARKVLEILEE...</td>\n",
       "      <td>-2.550580</td>\n",
       "      <td>19.366846</td>\n",
       "    </tr>\n",
       "    <tr>\n",
       "      <th>2</th>\n",
       "      <td>0009c3faef123ed29e447cf47337d656_0001_1</td>\n",
       "      <td>SEDVEETAKELLERGTVEEFLKELKEELKERGDPELEKLLEKAEEL...</td>\n",
       "      <td>-2.515626</td>\n",
       "      <td>15.602136</td>\n",
       "    </tr>\n",
       "    <tr>\n",
       "      <th>3</th>\n",
       "      <td>000b40b97b3761973c100b7325f5bf41_0001_1</td>\n",
       "      <td>PEEEELKRLAKELGNPELAKLIELLLELLKQGDPDAEEALRLVKEL...</td>\n",
       "      <td>-2.489711</td>\n",
       "      <td>20.406318</td>\n",
       "    </tr>\n",
       "    <tr>\n",
       "      <th>4</th>\n",
       "      <td>001126bfe8b2f13d0bd52996ae0b77e8_0001_1</td>\n",
       "      <td>SDEELIEEIVEKLGLPPELREVARLIIELVKKGVPPEEVKELAKKL...</td>\n",
       "      <td>-2.770563</td>\n",
       "      <td>25.350820</td>\n",
       "    </tr>\n",
       "  </tbody>\n",
       "</table>\n",
       "</div>"
      ],
      "text/plain": [
       "                                      name  \\\n",
       "0    0002182ba9e87d7b0d6b7d16b7001923_0001   \n",
       "1    000877380acb95e21726d9df052ec962_0001   \n",
       "2  0009c3faef123ed29e447cf47337d656_0001_1   \n",
       "3  000b40b97b3761973c100b7325f5bf41_0001_1   \n",
       "4  001126bfe8b2f13d0bd52996ae0b77e8_0001_1   \n",
       "\n",
       "                                                 seq       spr       time  \n",
       "0  SLDEILETLKELGVPPELLEEVKKVLEELERRGDPKREEVRRLLEE... -2.643990  37.128287  \n",
       "1  DELEERVREALERGDPELLRKILRELVELLKKGDPEARKVLEILEE... -2.550580  19.366846  \n",
       "2  SEDVEETAKELLERGTVEEFLKELKEELKERGDPELEKLLEKAEEL... -2.515626  15.602136  \n",
       "3  PEEEELKRLAKELGNPELAKLIELLLELLKQGDPDAEEALRLVKEL... -2.489711  20.406318  \n",
       "4  SDEELIEEIVEKLGLPPELREVARLIIELVKKGVPPEEVKELAKKL... -2.770563  25.350820  "
      ]
     },
     "execution_count": 19,
     "metadata": {},
     "output_type": "execute_result"
    }
   ],
   "source": [
    "df.head()"
   ]
  },
  {
   "cell_type": "code",
   "execution_count": null,
   "metadata": {},
   "outputs": [],
   "source": []
  }
 ],
 "metadata": {
  "kernelspec": {
   "display_name": "torchGraph",
   "language": "python",
   "name": "torchgraph"
  },
  "language_info": {
   "codemirror_mode": {
    "name": "ipython",
    "version": 3
   },
   "file_extension": ".py",
   "mimetype": "text/x-python",
   "name": "python",
   "nbconvert_exporter": "python",
   "pygments_lexer": "ipython3",
   "version": "3.8.5"
  }
 },
 "nbformat": 4,
 "nbformat_minor": 4
}
