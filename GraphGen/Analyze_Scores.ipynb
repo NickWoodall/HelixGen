{
 "cells": [
  {
   "cell_type": "code",
   "execution_count": 4,
   "metadata": {},
   "outputs": [],
   "source": [
    "import pandas as pd\n",
    "import numpy as np\n",
    "import pickle\n",
    "import math\n",
    "\n",
    "import seaborn as sns\n",
    "import matplotlib.pyplot as plt"
   ]
  },
  {
   "cell_type": "code",
   "execution_count": 5,
   "metadata": {},
   "outputs": [],
   "source": [
    "def openArray(direc='output/GraphGen_TestSet/'):\n",
    "    \n",
    "    with open(f'{direc}nameList.pkl', 'rb') as f:\n",
    "        nameList = pickle.load(f)\n",
    "    with open(f'{direc}scoreList.pkl', 'rb') as f:\n",
    "        scoreList = pickle.load(f)\n",
    "        \n",
    "    return nameList, scoreList\n",
    "\n",
    "def extract_total_score(scoresList,regPlace=[],dictPlace=[2,5,8,10]):\n",
    "    \n",
    "    outList = []\n",
    "    \n",
    "    for x in scoresList:\n",
    "        inner = []\n",
    "        for y in range(len(x)):\n",
    "            if y in regPlace:\n",
    "                inner.append(x[y])\n",
    "            if y in dictPlace:\n",
    "                if y == 10:\n",
    "                    inner.append(x[y]['total_score']/len(x[7]))\n",
    "                if y == 8:\n",
    "                    inner.append(x[y]['total_score']/len(x[7]))\n",
    "                else:  \n",
    "                    inner.append(x[y]['total_score']/len(x[y-1]))\n",
    "        outList.append(inner)\n",
    "        \n",
    "    return outList\n",
    "\n",
    "def extract_stats(scoresList,scPlace=[2],scorePlace=[2]):\n",
    "    \n",
    "    outList = []\n",
    "    \n",
    "    for x in scoresList:\n",
    "        inner = []\n",
    "        for y in range(len(x)):\n",
    "            if y in scPlace:\n",
    "                inner.append(x[y]['sc'])\n",
    "            if y in scorePlace:  \n",
    "                inner.append(x[y]['total_score']/len(x[y-1]))\n",
    "                \n",
    "        inner.append(len(x[1]))\n",
    "        inner.append(x[3])\n",
    "        outList.append(inner)\n",
    "        \n",
    "    return outList\n",
    "    \n",
    "\n",
    "labels=['name',#0\n",
    "  'pred_seq_this_work','pred_scores_this_work','pred_time_this_work', #1,2,3\n",
    "  'pred_seq_graphGen','pred_scores_graphGen','pred_time_graphGen', #4,5,6\n",
    "  'actual_seq_graphGen','actual_scores_graphGen','actual_time_graphGen',#7,8,9\n",
    "  'orig_scores'] #10\n",
    "\n",
    "labels=['name',#0\n",
    "  'pred_seq_this_work','pred_scores_this_work','pred_time_this_work', #1,2,3\n",
    "  'actual_seq_graphGen','actual_scores_graphGen','actual_time_graphGen',#5,6,7\n",
    "  'orig_scores'] #8"
   ]
  },
  {
   "cell_type": "code",
   "execution_count": 105,
   "metadata": {},
   "outputs": [],
   "source": [
    "def make_dict(nameList,scoreList,removeExt=False):\n",
    "    \n",
    "    s = dict()\n",
    "    \n",
    "    for x in range(len(nameList)):\n",
    "        if removeExt:\n",
    "            name = nameList[x][:-4]\n",
    "        else:\n",
    "            name = nameList[x]\n",
    "        s[name] = scoreList[x][2]['total_score']/len(scoreList[x][1])\n",
    "        \n",
    "    return s\n",
    "    "
   ]
  },
  {
   "cell_type": "code",
   "execution_count": 107,
   "metadata": {},
   "outputs": [],
   "source": [
    "dictPlace=[2]\n",
    "nL, sL = openArray(direc='scores/gg_test_')\n",
    "g = make_dict(nL,sL,removeExt=True)\n"
   ]
  },
  {
   "cell_type": "code",
   "execution_count": 110,
   "metadata": {},
   "outputs": [],
   "source": [
    "dictPlace=[2]\n",
    "nL, sL = openArray(direc='scores/og_test_')\n",
    "o = make_dict(nL,sL,removeExt=True)\n"
   ]
  },
  {
   "cell_type": "code",
   "execution_count": 113,
   "metadata": {},
   "outputs": [],
   "source": [
    "dictPlace=[2]\n",
    "nL, sL = openArray(direc='scores/actual_test_')\n",
    "a = make_dict(nL,sL,removeExt=False)"
   ]
  },
  {
   "cell_type": "code",
   "execution_count": 116,
   "metadata": {},
   "outputs": [],
   "source": [
    "s = []\n",
    "for x in g.keys():\n",
    "    s.append([g[x],o[x],a[x]])"
   ]
  },
  {
   "cell_type": "code",
   "execution_count": null,
   "metadata": {},
   "outputs": [],
   "source": []
  },
  {
   "cell_type": "code",
   "execution_count": null,
   "metadata": {},
   "outputs": [],
   "source": []
  },
  {
   "cell_type": "code",
   "execution_count": null,
   "metadata": {},
   "outputs": [],
   "source": []
  },
  {
   "cell_type": "code",
   "execution_count": 117,
   "metadata": {},
   "outputs": [],
   "source": [
    "l2 = ['pred_str','og_str','actual']\n",
    "df = pd.DataFrame(s,columns=l2)"
   ]
  },
  {
   "cell_type": "code",
   "execution_count": 118,
   "metadata": {},
   "outputs": [
    {
     "data": {
      "text/html": [
       "<div>\n",
       "<style scoped>\n",
       "    .dataframe tbody tr th:only-of-type {\n",
       "        vertical-align: middle;\n",
       "    }\n",
       "\n",
       "    .dataframe tbody tr th {\n",
       "        vertical-align: top;\n",
       "    }\n",
       "\n",
       "    .dataframe thead th {\n",
       "        text-align: right;\n",
       "    }\n",
       "</style>\n",
       "<table border=\"1\" class=\"dataframe\">\n",
       "  <thead>\n",
       "    <tr style=\"text-align: right;\">\n",
       "      <th></th>\n",
       "      <th>pred_str</th>\n",
       "      <th>og_str</th>\n",
       "      <th>actual</th>\n",
       "    </tr>\n",
       "  </thead>\n",
       "  <tbody>\n",
       "    <tr>\n",
       "      <th>0</th>\n",
       "      <td>-2.366781</td>\n",
       "      <td>-2.278007</td>\n",
       "      <td>-2.760167</td>\n",
       "    </tr>\n",
       "    <tr>\n",
       "      <th>1</th>\n",
       "      <td>-2.612465</td>\n",
       "      <td>-1.925923</td>\n",
       "      <td>-2.599015</td>\n",
       "    </tr>\n",
       "    <tr>\n",
       "      <th>2</th>\n",
       "      <td>-2.467066</td>\n",
       "      <td>-1.935436</td>\n",
       "      <td>-2.512302</td>\n",
       "    </tr>\n",
       "    <tr>\n",
       "      <th>3</th>\n",
       "      <td>-2.221157</td>\n",
       "      <td>-1.765666</td>\n",
       "      <td>-2.550548</td>\n",
       "    </tr>\n",
       "    <tr>\n",
       "      <th>4</th>\n",
       "      <td>-2.673683</td>\n",
       "      <td>-2.220766</td>\n",
       "      <td>-2.815856</td>\n",
       "    </tr>\n",
       "    <tr>\n",
       "      <th>...</th>\n",
       "      <td>...</td>\n",
       "      <td>...</td>\n",
       "      <td>...</td>\n",
       "    </tr>\n",
       "    <tr>\n",
       "      <th>11546</th>\n",
       "      <td>-2.692339</td>\n",
       "      <td>-2.475121</td>\n",
       "      <td>-2.826446</td>\n",
       "    </tr>\n",
       "    <tr>\n",
       "      <th>11547</th>\n",
       "      <td>-2.480035</td>\n",
       "      <td>-2.079569</td>\n",
       "      <td>-2.534315</td>\n",
       "    </tr>\n",
       "    <tr>\n",
       "      <th>11548</th>\n",
       "      <td>-2.605460</td>\n",
       "      <td>-2.129420</td>\n",
       "      <td>-2.335940</td>\n",
       "    </tr>\n",
       "    <tr>\n",
       "      <th>11549</th>\n",
       "      <td>-2.513823</td>\n",
       "      <td>-2.093344</td>\n",
       "      <td>-2.638426</td>\n",
       "    </tr>\n",
       "    <tr>\n",
       "      <th>11550</th>\n",
       "      <td>-2.350138</td>\n",
       "      <td>-2.480609</td>\n",
       "      <td>-2.511988</td>\n",
       "    </tr>\n",
       "  </tbody>\n",
       "</table>\n",
       "<p>11551 rows × 3 columns</p>\n",
       "</div>"
      ],
      "text/plain": [
       "       pred_str    og_str    actual\n",
       "0     -2.366781 -2.278007 -2.760167\n",
       "1     -2.612465 -1.925923 -2.599015\n",
       "2     -2.467066 -1.935436 -2.512302\n",
       "3     -2.221157 -1.765666 -2.550548\n",
       "4     -2.673683 -2.220766 -2.815856\n",
       "...         ...       ...       ...\n",
       "11546 -2.692339 -2.475121 -2.826446\n",
       "11547 -2.480035 -2.079569 -2.534315\n",
       "11548 -2.605460 -2.129420 -2.335940\n",
       "11549 -2.513823 -2.093344 -2.638426\n",
       "11550 -2.350138 -2.480609 -2.511988\n",
       "\n",
       "[11551 rows x 3 columns]"
      ]
     },
     "execution_count": 118,
     "metadata": {},
     "output_type": "execute_result"
    }
   ],
   "source": [
    "df"
   ]
  },
  {
   "cell_type": "code",
   "execution_count": 119,
   "metadata": {},
   "outputs": [
    {
     "data": {
      "image/png": "[encoded data removed]",
      "text/plain": [
       "<Figure size 432x288 with 1 Axes>"
      ]
     },
     "metadata": {
      "needs_background": "light"
     },
     "output_type": "display_data"
    }
   ],
   "source": [
    "histp = sns.histplot(data=df,binrange=[-3.5,-1],binwidth=0.1)"
   ]
  },
  {
   "cell_type": "code",
   "execution_count": null,
   "metadata": {},
   "outputs": [],
   "source": []
  },
  {
   "cell_type": "code",
   "execution_count": 10,
   "metadata": {},
   "outputs": [],
   "source": []
  },
  {
   "cell_type": "code",
   "execution_count": null,
   "metadata": {},
   "outputs": [],
   "source": [
    "dfBeg = df[['original','pred_orig','actual']]\n",
    "dfBeg.columns"
   ]
  },
  {
   "cell_type": "code",
   "execution_count": null,
   "metadata": {},
   "outputs": [],
   "source": []
  },
  {
   "cell_type": "code",
   "execution_count": 8,
   "metadata": {},
   "outputs": [
    {
     "ename": "TypeError",
     "evalue": "object of type 'float' has no len()",
     "output_type": "error",
     "traceback": [
      "\u001b[1;31m---------------------------------------------------------------------------\u001b[0m",
      "\u001b[1;31mTypeError\u001b[0m                                 Traceback (most recent call last)",
      "\u001b[1;32m<ipython-input-8-0d289b20d24e>\u001b[0m in \u001b[0;36m<module>\u001b[1;34m\u001b[0m\n\u001b[0;32m      1\u001b[0m \u001b[0mdictPlace\u001b[0m\u001b[1;33m=\u001b[0m\u001b[1;33m[\u001b[0m\u001b[1;36m2\u001b[0m\u001b[1;33m,\u001b[0m\u001b[1;36m5\u001b[0m\u001b[1;33m,\u001b[0m\u001b[1;36m7\u001b[0m\u001b[1;33m]\u001b[0m\u001b[1;33m\u001b[0m\u001b[1;33m\u001b[0m\u001b[0m\n\u001b[0;32m      2\u001b[0m \u001b[0mnL\u001b[0m\u001b[1;33m,\u001b[0m \u001b[0msL\u001b[0m \u001b[1;33m=\u001b[0m \u001b[0mopenArray\u001b[0m\u001b[1;33m(\u001b[0m\u001b[0mdirec\u001b[0m\u001b[1;33m=\u001b[0m\u001b[1;34m'scores/test1_'\u001b[0m\u001b[1;33m)\u001b[0m\u001b[1;33m\u001b[0m\u001b[1;33m\u001b[0m\u001b[0m\n\u001b[1;32m----> 3\u001b[1;33m \u001b[0msL\u001b[0m \u001b[1;33m=\u001b[0m \u001b[0mextract_total_score\u001b[0m\u001b[1;33m(\u001b[0m\u001b[0msL\u001b[0m\u001b[1;33m,\u001b[0m\u001b[0mdictPlace\u001b[0m\u001b[1;33m=\u001b[0m\u001b[0mdictPlace\u001b[0m\u001b[1;33m)\u001b[0m\u001b[1;33m\u001b[0m\u001b[1;33m\u001b[0m\u001b[0m\n\u001b[0m\u001b[0;32m      4\u001b[0m \u001b[0ml2\u001b[0m \u001b[1;33m=\u001b[0m \u001b[1;33m[\u001b[0m\u001b[1;34m'pred_str'\u001b[0m\u001b[1;33m,\u001b[0m\u001b[1;34m'actual'\u001b[0m\u001b[1;33m,\u001b[0m\u001b[1;34m'original'\u001b[0m\u001b[1;33m]\u001b[0m\u001b[1;33m\u001b[0m\u001b[1;33m\u001b[0m\u001b[0m\n",
      "\u001b[1;32m<ipython-input-2-7d297bba9ad3>\u001b[0m in \u001b[0;36mextract_total_score\u001b[1;34m(scoresList, regPlace, dictPlace)\u001b[0m\n\u001b[0;32m     21\u001b[0m                     \u001b[0minner\u001b[0m\u001b[1;33m.\u001b[0m\u001b[0mappend\u001b[0m\u001b[1;33m(\u001b[0m\u001b[0mx\u001b[0m\u001b[1;33m[\u001b[0m\u001b[0my\u001b[0m\u001b[1;33m]\u001b[0m\u001b[1;33m[\u001b[0m\u001b[1;34m'total_score'\u001b[0m\u001b[1;33m]\u001b[0m\u001b[1;33m/\u001b[0m\u001b[0mlen\u001b[0m\u001b[1;33m(\u001b[0m\u001b[0mx\u001b[0m\u001b[1;33m[\u001b[0m\u001b[1;36m7\u001b[0m\u001b[1;33m]\u001b[0m\u001b[1;33m)\u001b[0m\u001b[1;33m)\u001b[0m\u001b[1;33m\u001b[0m\u001b[1;33m\u001b[0m\u001b[0m\n\u001b[0;32m     22\u001b[0m                 \u001b[1;32melse\u001b[0m\u001b[1;33m:\u001b[0m\u001b[1;33m\u001b[0m\u001b[1;33m\u001b[0m\u001b[0m\n\u001b[1;32m---> 23\u001b[1;33m                     \u001b[0minner\u001b[0m\u001b[1;33m.\u001b[0m\u001b[0mappend\u001b[0m\u001b[1;33m(\u001b[0m\u001b[0mx\u001b[0m\u001b[1;33m[\u001b[0m\u001b[0my\u001b[0m\u001b[1;33m]\u001b[0m\u001b[1;33m[\u001b[0m\u001b[1;34m'total_score'\u001b[0m\u001b[1;33m]\u001b[0m\u001b[1;33m/\u001b[0m\u001b[0mlen\u001b[0m\u001b[1;33m(\u001b[0m\u001b[0mx\u001b[0m\u001b[1;33m[\u001b[0m\u001b[0my\u001b[0m\u001b[1;33m-\u001b[0m\u001b[1;36m1\u001b[0m\u001b[1;33m]\u001b[0m\u001b[1;33m)\u001b[0m\u001b[1;33m)\u001b[0m\u001b[1;33m\u001b[0m\u001b[1;33m\u001b[0m\u001b[0m\n\u001b[0m\u001b[0;32m     24\u001b[0m         \u001b[0moutList\u001b[0m\u001b[1;33m.\u001b[0m\u001b[0mappend\u001b[0m\u001b[1;33m(\u001b[0m\u001b[0minner\u001b[0m\u001b[1;33m)\u001b[0m\u001b[1;33m\u001b[0m\u001b[1;33m\u001b[0m\u001b[0m\n\u001b[0;32m     25\u001b[0m \u001b[1;33m\u001b[0m\u001b[0m\n",
      "\u001b[1;31mTypeError\u001b[0m: object of type 'float' has no len()"
     ]
    }
   ],
   "source": [
    "dictPlace=[2,5,7]\n",
    "nL, sL = openArray(direc='scores/test1_')\n",
    "sL = extract_total_score(sL,dictPlace=dictPlace)\n",
    "l2 = ['pred_str','actual','original']"
   ]
  },
  {
   "cell_type": "code",
   "execution_count": 10,
   "metadata": {},
   "outputs": [
    {
     "data": {
      "text/plain": [
       "['0002182ba9e87d7b0d6b7d16b7001923_0001',\n",
       " 'SLEELLEEARKLGVPPELLERVEELLKELEERGDPRREEVRRLLEEIVKIPDPEEARKLLEEAIK',\n",
       " {'fa_atr': -390.1797437126041,\n",
       "  'fa_rep': 107.084412182707,\n",
       "  'fa_sol': 322.8521570359772,\n",
       "  'fa_intra_atr_xover4': -29.73483772026739,\n",
       "  'fa_intra_rep_xover4': 33.322863649572426,\n",
       "  'fa_intra_sol_xover4': 26.423346452905893,\n",
       "  'lk_ball': 189.5905232380632,\n",
       "  'lk_ball_iso': 438.1588331504614,\n",
       "  'lk_ball_bridge': 1.7553026866085517,\n",
       "  'lk_ball_bridge_uncpl': 11.722243817592018,\n",
       "  'fa_elec': -139.48601870675876,\n",
       "  'fa_intra_elec': -11.024397937149269,\n",
       "  'pro_close': 0.5343866311071819,\n",
       "  'hbond_sr_bb': -49.29611696121865,\n",
       "  'hbond_lr_bb': -1.754172992980338,\n",
       "  'hbond_bb_sc': -7.198299711051658,\n",
       "  'hbond_sc': -10.260944580135419,\n",
       "  'dslf_fa13': 0.0,\n",
       "  'omega': 10.304751060777935,\n",
       "  'fa_dun_dev': 12.553891011244719,\n",
       "  'fa_dun_rot': 62.15238783318254,\n",
       "  'fa_dun_semi': 86.74217843582248,\n",
       "  'p_aa_pp': -21.801411144482174,\n",
       "  'hxl_tors': 0.6018186954882362,\n",
       "  'ref': -67.799092,\n",
       "  'rama_prepro': 14.91736515822604,\n",
       "  'gen_bonded': 0.0,\n",
       "  'total_score': -152.82598168462846},\n",
       " 19.38020968437195,\n",
       " 'SLDEILETLKELGVPPELLEEVKKVLEELERRGDPKREEVRRLLEEARKVPDPREVRRLVEEAVR',\n",
       " {'fa_atr': -402.0208203094365,\n",
       "  'fa_rep': 113.29700558362663,\n",
       "  'fa_sol': 337.60336247964324,\n",
       "  'fa_intra_atr_xover4': -30.160569580560182,\n",
       "  'fa_intra_rep_xover4': 30.94554971260617,\n",
       "  'fa_intra_sol_xover4': 27.827152735153913,\n",
       "  'lk_ball': 198.20873758448147,\n",
       "  'lk_ball_iso': 455.74141674606403,\n",
       "  'lk_ball_bridge': 1.8177859162803003,\n",
       "  'lk_ball_bridge_uncpl': 11.954465261755345,\n",
       "  'fa_elec': -155.33458232318787,\n",
       "  'fa_intra_elec': -12.101853565431755,\n",
       "  'pro_close': 0.6819495775892093,\n",
       "  'hbond_sr_bb': -47.808098685162214,\n",
       "  'hbond_lr_bb': -1.9835481281374885,\n",
       "  'hbond_bb_sc': -8.383941632743731,\n",
       "  'hbond_sc': -13.672340009213293,\n",
       "  'dslf_fa13': 0.0,\n",
       "  'omega': 6.594548726743929,\n",
       "  'fa_dun_dev': 13.688737801263741,\n",
       "  'fa_dun_rot': 56.45692462751513,\n",
       "  'fa_dun_semi': 77.57338886110567,\n",
       "  'p_aa_pp': -23.116787210848504,\n",
       "  'hxl_tors': 2.886237007544109,\n",
       "  'ref': -63.983424000000014,\n",
       "  'rama_prepro': 19.32319435515241,\n",
       "  'gen_bonded': 0.0,\n",
       "  'total_score': -170.73565082190873},\n",
       " 16.63369607925415,\n",
       " {'fa_atr': -400.220579778317,\n",
       "  'fa_rep': 104.00022039618102,\n",
       "  'fa_sol': 332.9345174924833,\n",
       "  'fa_intra_atr_xover4': -29.833871207208727,\n",
       "  'fa_intra_rep_xover4': 32.216119369458696,\n",
       "  'fa_intra_sol_xover4': 27.04976045434716,\n",
       "  'lk_ball': 198.95476027743493,\n",
       "  'lk_ball_iso': 449.1358362955517,\n",
       "  'lk_ball_bridge': 1.4879958113088059,\n",
       "  'lk_ball_bridge_uncpl': 9.339812675586558,\n",
       "  'fa_elec': -160.8052350695184,\n",
       "  'fa_intra_elec': -10.738461670604886,\n",
       "  'pro_close': 0.3958059419236778,\n",
       "  'hbond_sr_bb': -46.914918261330726,\n",
       "  'hbond_lr_bb': -2.1384271741599883,\n",
       "  'hbond_bb_sc': -8.0219912963436,\n",
       "  'hbond_sc': -20.39024422476587,\n",
       "  'dslf_fa13': 0.0,\n",
       "  'omega': 5.41254863188454,\n",
       "  'fa_dun_dev': 9.906291347619627,\n",
       "  'fa_dun_rot': 59.66884122759978,\n",
       "  'fa_dun_semi': 77.14088349797203,\n",
       "  'p_aa_pp': -25.977311922820526,\n",
       "  'hxl_tors': 2.887970691555887,\n",
       "  'ref': -63.983424000000014,\n",
       "  'rama_prepro': 17.482720407874766,\n",
       "  'gen_bonded': 0.0,\n",
       "  'total_score': -188.12080211752843}]"
      ]
     },
     "execution_count": 10,
     "metadata": {},
     "output_type": "execute_result"
    }
   ],
   "source": [
    "sL[0]"
   ]
  },
  {
   "cell_type": "code",
   "execution_count": null,
   "metadata": {},
   "outputs": [],
   "source": []
  },
  {
   "cell_type": "code",
   "execution_count": null,
   "metadata": {},
   "outputs": [],
   "source": []
  },
  {
   "cell_type": "code",
   "execution_count": 3,
   "metadata": {},
   "outputs": [],
   "source": [
    "dictPlace=[2,5,8,10]\n",
    "nL, sL = openArray(direc='scores/test1_')\n",
    "sL = extract_total_score(sL,dictPlace=dictPlace)\n",
    "l2 = ['pred_str','pred_orig','actual','original']"
   ]
  },
  {
   "cell_type": "code",
   "execution_count": 4,
   "metadata": {},
   "outputs": [],
   "source": [
    "df = pd.DataFrame(sL,columns=l2)"
   ]
  },
  {
   "cell_type": "code",
   "execution_count": 5,
   "metadata": {},
   "outputs": [
    {
     "data": {
      "text/plain": [
       "Index(['original', 'pred_orig', 'actual'], dtype='object')"
      ]
     },
     "execution_count": 5,
     "metadata": {},
     "output_type": "execute_result"
    }
   ],
   "source": [
    "dfBeg = df[['original','pred_orig','actual']]\n",
    "dfBeg.columns"
   ]
  },
  {
   "cell_type": "code",
   "execution_count": 6,
   "metadata": {},
   "outputs": [],
   "source": [
    "dfBeg = dfBeg.rename(columns={\"original\": \"reference set\", \"actual\": \"Reference Sequence:Relax\", \"pred_orig\":\"PredictSeq GG:Relax\"})"
   ]
  },
  {
   "cell_type": "code",
   "execution_count": 7,
   "metadata": {},
   "outputs": [
    {
     "data": {
      "image/png": "[encoded data removed]",
      "text/plain": [
       "<Figure size 432x288 with 1 Axes>"
      ]
     },
     "metadata": {
      "needs_background": "light"
     },
     "output_type": "display_data"
    }
   ],
   "source": [
    "histp = sns.histplot(data=dfBeg)\n",
    "# histp.figure.savefig(f'../Figures/GraphGen_Figure/test_predict_orig.png')\n",
    "# histp.figure.savefig(f'../Figures/GraphGen_Figure/test_predict_orig.svg')"
   ]
  },
  {
   "cell_type": "code",
   "execution_count": 29,
   "metadata": {},
   "outputs": [],
   "source": [
    "df = df.rename(columns={\"pred_str\":\"PredictSeq 4H_GG\",\"original\": \"reference set\", \"actual\": \"Reference Sequence:Relax\", \"pred_orig\":\"PredictSeqGG:Relax\"})"
   ]
  },
  {
   "cell_type": "code",
   "execution_count": 10,
   "metadata": {},
   "outputs": [
    {
     "data": {
      "image/png": "[encoded data removed]",
      "text/plain": [
       "<Figure size 432x288 with 1 Axes>"
      ]
     },
     "metadata": {
      "needs_background": "light"
     },
     "output_type": "display_data"
    }
   ],
   "source": [
    "histp = sns.histplot(data=df)\n",
    "# histp.figure.savefig(f'../Figures/GraphGen_Figure/test_predict.png')\n",
    "# histp.figure.savefig(f'../Figures/GraphGen_Figure/test_predict.svg')"
   ]
  },
  {
   "cell_type": "code",
   "execution_count": 11,
   "metadata": {},
   "outputs": [
    {
     "data": {
      "text/plain": [
       "-2.834150803575287"
      ]
     },
     "execution_count": 11,
     "metadata": {},
     "output_type": "execute_result"
    }
   ],
   "source": [
    "df['original'].median()"
   ]
  },
  {
   "cell_type": "code",
   "execution_count": 12,
   "metadata": {},
   "outputs": [
    {
     "data": {
      "text/plain": [
       "-2.6101171244488843"
      ]
     },
     "execution_count": 12,
     "metadata": {},
     "output_type": "execute_result"
    }
   ],
   "source": [
    "df['actual'].median()"
   ]
  },
  {
   "cell_type": "code",
   "execution_count": 13,
   "metadata": {},
   "outputs": [
    {
     "data": {
      "text/plain": [
       "-2.5235179457747723"
      ]
     },
     "execution_count": 13,
     "metadata": {},
     "output_type": "execute_result"
    }
   ],
   "source": [
    "df['pred_str'].median()"
   ]
  },
  {
   "cell_type": "code",
   "execution_count": 210,
   "metadata": {},
   "outputs": [
    {
     "data": {
      "image/png": "[encoded data removed]",
      "text/plain": [
       "<Figure size 432x288 with 1 Axes>"
      ]
     },
     "metadata": {
      "needs_background": "light"
     },
     "output_type": "display_data"
    }
   ],
   "source": [
    "df['difference'] = df['actual']-df['pred_str']\n",
    "his2 = sns.histplot(data=df['difference'])\n",
    "his2.figure.savefig(f'../Figures/GraphGen_Figure/diff_predict.png')\n",
    "his2.figure.savefig(f'../Figures/GraphGen_Figure/diff_predict.svg')"
   ]
  },
  {
   "cell_type": "code",
   "execution_count": 211,
   "metadata": {},
   "outputs": [
    {
     "data": {
      "image/png": "[encoded data removed]",
      "text/plain": [
       "<Figure size 432x288 with 1 Axes>"
      ]
     },
     "metadata": {
      "needs_background": "light"
     },
     "output_type": "display_data"
    }
   ],
   "source": [
    "df2 = df.loc[df['difference']>-10]\n",
    "his3=sns.histplot(data=df2[[\"pred_str\", \"actual\",\"original\"]])\n",
    "his3.figure.savefig(f'../Figures/GraphGen_Figure/diff_remove_predict.png')\n",
    "his3.figure.savefig(f'../Figures/GraphGen_Figure/diff_remove_predict.svg')"
   ]
  },
  {
   "cell_type": "code",
   "execution_count": null,
   "metadata": {},
   "outputs": [],
   "source": []
  },
  {
   "cell_type": "code",
   "execution_count": null,
   "metadata": {},
   "outputs": [],
   "source": []
  },
  {
   "cell_type": "code",
   "execution_count": 273,
   "metadata": {},
   "outputs": [],
   "source": [
    "nL,sL = openArray(direc='output/278_GAN/t1/')"
   ]
  },
  {
   "cell_type": "code",
   "execution_count": null,
   "metadata": {},
   "outputs": [],
   "source": [
    "tL = \n",
    "for x in sL:"
   ]
  },
  {
   "cell_type": "code",
   "execution_count": 274,
   "metadata": {},
   "outputs": [
    {
     "data": {
      "text/plain": [
       "['b100_build_phi_0_n0_phi_1_n0_phi_5_n0',\n",
       " 'SVEEEFEERVRELRKRDPDEARKLEELLRLILELAGGDPRLVEELLRRLEELKKRLPPEEVIKVAEKLG',\n",
       " {'sc': 0.7387703061103821,\n",
       "  'fa_atr': -409.3070678728057,\n",
       "  'fa_rep': 99.84364962776587,\n",
       "  'fa_sol': 353.84376104253295,\n",
       "  'fa_intra_atr_xover4': -30.34613446148488,\n",
       "  'fa_intra_rep_xover4': 31.56028699777713,\n",
       "  'fa_intra_sol_xover4': 27.23532810342484,\n",
       "  'lk_ball': 198.85438316121653,\n",
       "  'lk_ball_iso': 473.3832219374224,\n",
       "  'lk_ball_bridge': 1.597137435062304,\n",
       "  'lk_ball_bridge_uncpl': 9.457626044863773,\n",
       "  'fa_elec': -165.88225513118408,\n",
       "  'fa_intra_elec': -11.745815936517523,\n",
       "  'pro_close': 0.22188689168519937,\n",
       "  'hbond_sr_bb': -59.305517532907366,\n",
       "  'hbond_lr_bb': -1.184795447428463,\n",
       "  'hbond_bb_sc': -5.119194324012371,\n",
       "  'hbond_sc': -19.231106949554007,\n",
       "  'dslf_fa13': 0.0,\n",
       "  'omega': 12.253751346513997,\n",
       "  'fa_dun_dev': 13.580596755665338,\n",
       "  'fa_dun_rot': 60.91811173062355,\n",
       "  'fa_dun_semi': 88.71439904401686,\n",
       "  'p_aa_pp': -28.043848286006416,\n",
       "  'hxl_tors': 0.6019266431883905,\n",
       "  'ref': -59.727876000000045,\n",
       "  'rama_prepro': 21.169240733490252,\n",
       "  'gen_bonded': 0.0,\n",
       "  'total_score': -183.98160639474594},\n",
       " 21.486239194869995]"
      ]
     },
     "execution_count": 274,
     "metadata": {},
     "output_type": "execute_result"
    }
   ],
   "source": [
    "sL[0]"
   ]
  },
  {
   "cell_type": "code",
   "execution_count": null,
   "metadata": {},
   "outputs": [],
   "source": []
  },
  {
   "cell_type": "code",
   "execution_count": null,
   "metadata": {},
   "outputs": [],
   "source": []
  },
  {
   "cell_type": "code",
   "execution_count": 14,
   "metadata": {},
   "outputs": [],
   "source": [
    "def get_time(iN):\n",
    "    nL = []\n",
    "    sL = []\n",
    "    nL,sL = openArray(direc=iN)\n",
    "    print(f'total struct: {len(sL)}')\n",
    "    sL = extract_stats(sL,scPlace=[2],scorePlace=[2])\n",
    "    b=[]\n",
    "    for x in range(len(sL)):\n",
    "        name = nL[x][0].split('_')\n",
    "        num = int(name[0][1:])\n",
    "        b.append([sL[x][0],sL[x][1],sL[x][2],sL[x][3],num,nL[x][0]])\n",
    "        \n",
    "    labels=['sc','score','len','time','num','name']\n",
    "    df = pd.DataFrame(b,columns=labels)\n",
    "    #his4 = sns.histplot(data=df[stat])\n",
    "    \n",
    "    total_time = df['time'].sum()\n",
    "    \n",
    "    med = df['time'].median()\n",
    "    print(f'median time is {med}')\n",
    "    \n",
    "    scj = df.columns.get_loc('sc')\n",
    "    scorej = df.columns.get_loc('score')\n",
    "    lenj = df.columns.get_loc('len')\n",
    "    \n",
    "    sList=[]\n",
    "    counter = 0\n",
    "    for x in range(len(b)):\n",
    "        if not df.loc[df['num']==x].empty:\n",
    "            counter += 1 \n",
    "        else:\n",
    "            continue\n",
    "            \n",
    "    print(f'time per best structure is {total_time/counter/60:.1f}min')"
   ]
  },
  {
   "cell_type": "code",
   "execution_count": 15,
   "metadata": {},
   "outputs": [],
   "source": [
    "def single_stats(iN,stat='len'):\n",
    "    nL = []\n",
    "    sL = []\n",
    "    nL,sL = openArray(direc=iN)\n",
    "    print(f'total struct: {len(sL)}')\n",
    "    sL = extract_stats(sL,scPlace=[2],scorePlace=[2])\n",
    "    b=[]\n",
    "    for x in range(len(sL)):\n",
    "        name = nL[x][0].split('_')\n",
    "        num = int(name[0][1:])\n",
    "        b.append([sL[x][0],sL[x][1],sL[x][2],sL[x][3],num,nL[x][0]])\n",
    "        \n",
    "    labels=['sc','score','len','time','num','name']\n",
    "    df = pd.DataFrame(b,columns=labels)\n",
    "    #his4 = sns.histplot(data=df[stat])\n",
    "    his5 = sns.regplot(data=df,x=stat,y='score')\n",
    "    med = df[stat].median()\n",
    "    print(f'median {stat} is {med}')\n",
    "    \n",
    "    return df\n",
    "    \n",
    "def bin_stats(iN,stat='score'):\n",
    "    nL = []\n",
    "    sL = []\n",
    "    nL,sL = openArray(direc=iN)\n",
    "    print(f'total struct: {len(sL)}')\n",
    "    sL = extract_stats(sL,scPlace=[2],scorePlace=[2])\n",
    "    b=[]\n",
    "    for x in range(len(sL)):\n",
    "        name = nL[x][0].split('_')\n",
    "        num = int(name[0][1:])\n",
    "        b.append([sL[x][0],sL[x][1],sL[x][2],sL[x][3],num,nL[x][0]])\n",
    "        \n",
    "    labels=['sc','score','len','time','num','name']\n",
    "    df = pd.DataFrame(b,columns=labels)\n",
    "    #his4 = sns.histplot(data=df[stat])\n",
    "    \n",
    "    med = df[stat].median()\n",
    "    print(f'median is {med}')\n",
    "    \n",
    "    scj = df.columns.get_loc('sc')\n",
    "    scorej = df.columns.get_loc('score')\n",
    "    lenj = df.columns.get_loc('len')\n",
    "    \n",
    "    sList=[]\n",
    "    for x in range(len(b)):\n",
    "        if not df.loc[df['num']==x]['score'].empty:\n",
    "            i = df.loc[df['num']==x]['score'].idxmin()\n",
    "        else:\n",
    "            continue\n",
    "        sList.append([df.iloc[i,scorej],df.iloc[i,lenj],x])\n",
    "            \n",
    "    l3 = ['score','len','build']\n",
    "    print(f'number of unique structs is {len(sList)}')\n",
    "    #df = pd.DataFrame(b,columns=labels)\n",
    "    df2 = pd.DataFrame(sList,columns=l3)\n",
    "    his5 = sns.histplot(data=df2[stat])\n",
    "    #his5 = sns.regplot(data=df2,x='score',y='len')\n",
    "    \n",
    "    med2 = df2[stat].median()\n",
    "    print(med2)\n",
    "    \n",
    "    return df2\n",
    "    \n",
    "# def bin_stats(iN,stat='score'):\n",
    "#     nL = []\n",
    "#     sL = []\n",
    "#     nL,sL = openArray(direc=iN)\n",
    "#     print(f'total struct: {len(sL)}')\n",
    "#     sL = extract_stats(sL,scPlace=[2],scorePlace=[2])\n",
    "#     b=[]\n",
    "#     for x in range(len(sL)):\n",
    "#         name = nL[x][0].split('_')\n",
    "#         num = int(name[0][1:])\n",
    "#         b.append([sL[x][0],sL[x][1],sL[x][2],num,nL[x][0]])\n",
    "        \n",
    "#     labels=['sc','score','len','num','name']\n",
    "#     df = pd.DataFrame(b,columns=labels)\n",
    "#     #his4 = sns.histplot(data=df[stat])\n",
    "    \n",
    "#     med = df[stat].median()\n",
    "#     print(f'median is {med}')\n",
    "    \n",
    "#     scj = df.columns.get_loc('sc')\n",
    "#     scorej = df.columns.get_loc('score')\n",
    "#     lenj = df.columns.get_loc('len')\n",
    "    \n",
    "#     sList=[]\n",
    "#     for x in range(len(b)):\n",
    "#         co = df.loc[df['num']==x].shape[0]\n",
    "#         if co != 0:\n",
    "#             sList.append(co)\n",
    "        \n",
    "#     label = ['count']\n",
    "    \n",
    "#     df2 = pd.DataFrame(sList,columns=label)\n",
    "#     sns.histplot(data=df2)\n",
    "#     print(df2.median())"
   ]
  },
  {
   "cell_type": "code",
   "execution_count": 16,
   "metadata": {},
   "outputs": [
    {
     "name": "stdout",
     "output_type": "stream",
     "text": [
      "total struct: 9952\n",
      "median is -2.385097082276594\n",
      "number of unique structs is 320\n",
      "-2.571958800396061\n"
     ]
    },
    {
     "data": {
      "image/png": "[encoded data removed]",
      "text/plain": [
       "<Figure size 432x288 with 1 Axes>"
      ]
     },
     "metadata": {
      "needs_background": "light"
     },
     "output_type": "display_data"
    }
   ],
   "source": [
    "full_df = bin_stats('output/Full_GAN/scoreList/t1_')"
   ]
  },
  {
   "cell_type": "code",
   "execution_count": 19,
   "metadata": {},
   "outputs": [
    {
     "name": "stdout",
     "output_type": "stream",
     "text": [
      "total struct: 7605\n",
      "median is -2.408854007382628\n",
      "number of unique structs is 297\n",
      "-2.5732129953357523\n"
     ]
    },
    {
     "data": {
      "image/png": "[encoded data removed]",
      "text/plain": [
       "<Figure size 432x288 with 1 Axes>"
      ]
     },
     "metadata": {
      "needs_background": "light"
     },
     "output_type": "display_data"
    }
   ],
   "source": [
    "g278_df = bin_stats('output/278_GAN/t1/')"
   ]
  },
  {
   "cell_type": "code",
   "execution_count": null,
   "metadata": {},
   "outputs": [],
   "source": []
  },
  {
   "cell_type": "code",
   "execution_count": 61,
   "metadata": {},
   "outputs": [],
   "source": [
    "se = df.copy()\n",
    "\n",
    "se['Full GAN:Best Loop'] = full_df['score']\n",
    "se['278_GAN: Best Loop'] = g278_df['score']"
   ]
  },
  {
   "cell_type": "code",
   "execution_count": 62,
   "metadata": {},
   "outputs": [],
   "source": [
    "se = se.dropna(how='any')"
   ]
  },
  {
   "cell_type": "code",
   "execution_count": 63,
   "metadata": {},
   "outputs": [],
   "source": [
    "se = se.rename(columns={\"original\": \"Reference Proteins\", \"actual\": \"Reference Sequence:Relax\",})"
   ]
  },
  {
   "cell_type": "code",
   "execution_count": 67,
   "metadata": {},
   "outputs": [
    {
     "data": {
      "image/png": "[encoded data removed]",
      "text/plain": [
       "<Figure size 432x288 with 1 Axes>"
      ]
     },
     "metadata": {
      "needs_background": "light"
     },
     "output_type": "display_data"
    }
   ],
   "source": [
    "hist11 = sns.histplot(data=se[['Reference Proteins',\"Reference Sequence:Relax\",'Full GAN:Best Loop','278_GAN: Best Loop']],stat='probability',hue_order=[\"Reference Sequence:Relax\",'278_GAN: Best Loop','Full GAN:Best Loop',\"Reference Proteins\"])\n",
    "hist11.figure.savefig(f'../Figures/GraphGen_Figure/DesignGAN_Output.svg')\n",
    "hist11.figure.savefig(f'../Figures/GraphGen_Figure/DesignGAN_Output.png')"
   ]
  },
  {
   "cell_type": "code",
   "execution_count": null,
   "metadata": {},
   "outputs": [],
   "source": []
  },
  {
   "cell_type": "code",
   "execution_count": null,
   "metadata": {},
   "outputs": [],
   "source": []
  },
  {
   "cell_type": "code",
   "execution_count": null,
   "metadata": {},
   "outputs": [],
   "source": []
  },
  {
   "cell_type": "code",
   "execution_count": 286,
   "metadata": {},
   "outputs": [
    {
     "name": "stdout",
     "output_type": "stream",
     "text": [
      "total struct: 9952\n",
      "median time is 12.607028365135193\n",
      "time per best structure is 6.8min\n"
     ]
    }
   ],
   "source": [
    "get_time('output/Full_GAN/scoreList/t1_')"
   ]
  },
  {
   "cell_type": "code",
   "execution_count": 287,
   "metadata": {},
   "outputs": [
    {
     "name": "stdout",
     "output_type": "stream",
     "text": [
      "total struct: 9628\n",
      "median time is 12.547322630882263\n",
      "time per best structure is 6.3min\n"
     ]
    }
   ],
   "source": [
    "get_time('output/Full_GAN/scoreList/t2_')"
   ]
  },
  {
   "cell_type": "code",
   "execution_count": 288,
   "metadata": {},
   "outputs": [
    {
     "name": "stdout",
     "output_type": "stream",
     "text": [
      "total struct: 10197\n",
      "median time is 12.407009601593018\n",
      "time per best structure is 6.7min\n"
     ]
    }
   ],
   "source": [
    "get_time('output/Full_GAN/scoreList/t3_')"
   ]
  },
  {
   "cell_type": "code",
   "execution_count": 294,
   "metadata": {},
   "outputs": [
    {
     "name": "stdout",
     "output_type": "stream",
     "text": [
      "total struct: 7605\n",
      "median time is 14.306405544281006\n",
      "time per best structure is 6.3min\n"
     ]
    }
   ],
   "source": [
    "get_time('output/278_GAN/t1/')"
   ]
  },
  {
   "cell_type": "code",
   "execution_count": 302,
   "metadata": {},
   "outputs": [
    {
     "name": "stdout",
     "output_type": "stream",
     "text": [
      "total struct: 8684\n",
      "median time is 14.220554828643799\n",
      "time per best structure is 6.7min\n"
     ]
    }
   ],
   "source": [
    "get_time('output/278_GAN/t2/')"
   ]
  },
  {
   "cell_type": "code",
   "execution_count": 291,
   "metadata": {},
   "outputs": [
    {
     "name": "stdout",
     "output_type": "stream",
     "text": [
      "total struct: 7796\n",
      "median time is 14.24651026725769\n",
      "time per best structure is 5.9min\n"
     ]
    }
   ],
   "source": [
    "get_time('output/278_GAN/t3/')"
   ]
  },
  {
   "cell_type": "code",
   "execution_count": null,
   "metadata": {},
   "outputs": [],
   "source": []
  },
  {
   "cell_type": "code",
   "execution_count": null,
   "metadata": {},
   "outputs": [],
   "source": []
  },
  {
   "cell_type": "code",
   "execution_count": 229,
   "metadata": {},
   "outputs": [
    {
     "name": "stdout",
     "output_type": "stream",
     "text": [
      "total struct: 9952\n",
      "median is -2.385097082276594\n",
      "-2.571958800396061\n"
     ]
    },
    {
     "data": {
      "image/png": "[encoded data removed]",
      "text/plain": [
       "<Figure size 432x288 with 1 Axes>"
      ]
     },
     "metadata": {
      "needs_background": "light"
     },
     "output_type": "display_data"
    }
   ],
   "source": [
    "bin_stats('output/Full_GAN/scoreList/t1_')"
   ]
  },
  {
   "cell_type": "code",
   "execution_count": 230,
   "metadata": {},
   "outputs": [
    {
     "name": "stdout",
     "output_type": "stream",
     "text": [
      "total struct: 9628\n",
      "median is -2.3950567194587054\n",
      "-2.553054699592517\n"
     ]
    },
    {
     "data": {
      "image/png": "[encoded data removed]",
      "text/plain": [
       "<Figure size 432x288 with 1 Axes>"
      ]
     },
     "metadata": {
      "needs_background": "light"
     },
     "output_type": "display_data"
    }
   ],
   "source": [
    "bin_stats('output/Full_GAN/scoreList/t2_')"
   ]
  },
  {
   "cell_type": "code",
   "execution_count": 231,
   "metadata": {},
   "outputs": [
    {
     "name": "stdout",
     "output_type": "stream",
     "text": [
      "total struct: 10197\n",
      "median is -2.387544131193447\n",
      "-2.5586775709956875\n"
     ]
    },
    {
     "data": {
      "image/png": "[encoded data removed]",
      "text/plain": [
       "<Figure size 432x288 with 1 Axes>"
      ]
     },
     "metadata": {
      "needs_background": "light"
     },
     "output_type": "display_data"
    }
   ],
   "source": [
    "bin_stats('output/Full_GAN/scoreList/t3_')"
   ]
  },
  {
   "cell_type": "code",
   "execution_count": 296,
   "metadata": {},
   "outputs": [
    {
     "name": "stdout",
     "output_type": "stream",
     "text": [
      "total struct: 7605\n",
      "median is -2.408854007382628\n",
      "number of unique structs is 297\n",
      "-2.5732129953357523\n"
     ]
    },
    {
     "data": {
      "image/png": "[encoded data removed]",
      "text/plain": [
       "<Figure size 432x288 with 1 Axes>"
      ]
     },
     "metadata": {
      "needs_background": "light"
     },
     "output_type": "display_data"
    }
   ],
   "source": [
    "bin_stats('output/278_GAN/t1/')"
   ]
  },
  {
   "cell_type": "code",
   "execution_count": 297,
   "metadata": {},
   "outputs": [
    {
     "name": "stdout",
     "output_type": "stream",
     "text": [
      "total struct: 8424\n",
      "median is -2.416577235046838\n",
      "number of unique structs is 304\n",
      "-2.584544902260212\n"
     ]
    },
    {
     "data": {
      "image/png": "[encoded data removed]",
      "text/plain": [
       "<Figure size 432x288 with 1 Axes>"
      ]
     },
     "metadata": {
      "needs_background": "light"
     },
     "output_type": "display_data"
    }
   ],
   "source": [
    "bin_stats('output/278_GAN/t2/')"
   ]
  },
  {
   "cell_type": "code",
   "execution_count": 298,
   "metadata": {},
   "outputs": [
    {
     "name": "stdout",
     "output_type": "stream",
     "text": [
      "total struct: 7828\n",
      "median is -2.4129282889167536\n",
      "number of unique structs is 322\n",
      "-2.5786964784302064\n"
     ]
    },
    {
     "data": {
      "image/png": "[encoded data removed]",
      "text/plain": [
       "<Figure size 432x288 with 1 Axes>"
      ]
     },
     "metadata": {
      "needs_background": "light"
     },
     "output_type": "display_data"
    }
   ],
   "source": [
    "bin_stats('output/278_GAN/t3/')"
   ]
  },
  {
   "cell_type": "code",
   "execution_count": 261,
   "metadata": {},
   "outputs": [
    {
     "name": "stdout",
     "output_type": "stream",
     "text": [
      "total struct: 9952\n",
      "median is 68.0\n"
     ]
    },
    {
     "data": {
      "image/png": "[encoded data removed]",
      "text/plain": [
       "<Figure size 432x288 with 1 Axes>"
      ]
     },
     "metadata": {
      "needs_background": "light"
     },
     "output_type": "display_data"
    }
   ],
   "source": [
    "single_stats('output/Full_GAN/scoreList/t1_',stat='len')"
   ]
  },
  {
   "cell_type": "code",
   "execution_count": 262,
   "metadata": {},
   "outputs": [
    {
     "name": "stdout",
     "output_type": "stream",
     "text": [
      "total struct: 9628\n",
      "median is 67.0\n"
     ]
    },
    {
     "data": {
      "image/png": "[encoded data removed]",
      "text/plain": [
       "<Figure size 432x288 with 1 Axes>"
      ]
     },
     "metadata": {
      "needs_background": "light"
     },
     "output_type": "display_data"
    }
   ],
   "source": [
    "single_stats('output/Full_GAN/scoreList/t2_',stat='len')"
   ]
  },
  {
   "cell_type": "code",
   "execution_count": 263,
   "metadata": {},
   "outputs": [
    {
     "name": "stdout",
     "output_type": "stream",
     "text": [
      "total struct: 10197\n",
      "median is 68.0\n"
     ]
    },
    {
     "data": {
      "image/png": "[encoded data removed]",
      "text/plain": [
       "<Figure size 432x288 with 1 Axes>"
      ]
     },
     "metadata": {
      "needs_background": "light"
     },
     "output_type": "display_data"
    }
   ],
   "source": [
    "single_stats('output/Full_GAN/scoreList/t3_',stat='len')"
   ]
  },
  {
   "cell_type": "code",
   "execution_count": 299,
   "metadata": {},
   "outputs": [
    {
     "name": "stdout",
     "output_type": "stream",
     "text": [
      "total struct: 7605\n",
      "median len is 70.0\n"
     ]
    },
    {
     "data": {
      "image/png": "[encoded data removed]",
      "text/plain": [
       "<Figure size 432x288 with 1 Axes>"
      ]
     },
     "metadata": {
      "needs_background": "light"
     },
     "output_type": "display_data"
    }
   ],
   "source": [
    "single_stats('output/278_GAN/t1/',stat='len')"
   ]
  },
  {
   "cell_type": "code",
   "execution_count": 300,
   "metadata": {},
   "outputs": [
    {
     "name": "stdout",
     "output_type": "stream",
     "text": [
      "total struct: 8425\n",
      "median len is 70.0\n"
     ]
    },
    {
     "data": {
      "image/png": "[encoded data removed]",
      "text/plain": [
       "<Figure size 432x288 with 1 Axes>"
      ]
     },
     "metadata": {
      "needs_background": "light"
     },
     "output_type": "display_data"
    }
   ],
   "source": [
    "single_stats('output/278_GAN/t2/',stat='len')"
   ]
  },
  {
   "cell_type": "code",
   "execution_count": 301,
   "metadata": {},
   "outputs": [
    {
     "name": "stdout",
     "output_type": "stream",
     "text": [
      "total struct: 7828\n",
      "median len is 69.0\n"
     ]
    },
    {
     "data": {
      "image/png": "[encoded data removed]",
      "text/plain": [
       "<Figure size 432x288 with 1 Axes>"
      ]
     },
     "metadata": {
      "needs_background": "light"
     },
     "output_type": "display_data"
    }
   ],
   "source": [
    "single_stats('output/278_GAN/t3/',stat='len')"
   ]
  },
  {
   "cell_type": "code",
   "execution_count": 104,
   "metadata": {},
   "outputs": [
    {
     "name": "stdout",
     "output_type": "stream",
     "text": [
      "total struct: 9628\n",
      "median is -2.3950567194587054\n",
      "-2.553054699592517\n"
     ]
    },
    {
     "data": {
      "image/png": "[encoded data removed]",
      "text/plain": [
       "<Figure size 432x288 with 1 Axes>"
      ]
     },
     "metadata": {
      "needs_background": "light"
     },
     "output_type": "display_data"
    }
   ],
   "source": [
    "score_stats('output/Full_GAN/scoreList/t2_')"
   ]
  },
  {
   "cell_type": "code",
   "execution_count": 105,
   "metadata": {},
   "outputs": [
    {
     "name": "stdout",
     "output_type": "stream",
     "text": [
      "total struct: 9628\n",
      "median is 0.69395312666893\n"
     ]
    },
    {
     "data": {
      "image/png": "[encoded data removed]",
      "text/plain": [
       "<Figure size 432x288 with 1 Axes>"
      ]
     },
     "metadata": {
      "needs_background": "light"
     },
     "output_type": "display_data"
    }
   ],
   "source": [
    "single_stats('output/Full_GAN/scoreList/t2_',stat='len')"
   ]
  },
  {
   "cell_type": "code",
   "execution_count": 106,
   "metadata": {},
   "outputs": [
    {
     "name": "stdout",
     "output_type": "stream",
     "text": [
      "total struct: 10197\n",
      "median is -2.387544131193447\n",
      "-2.5586775709956875\n"
     ]
    },
    {
     "data": {
      "image/png": "[encoded data removed]",
      "text/plain": [
       "<Figure size 432x288 with 1 Axes>"
      ]
     },
     "metadata": {
      "needs_background": "light"
     },
     "output_type": "display_data"
    }
   ],
   "source": [
    "score_stats('output/Full_GAN/scoreList/t3_')"
   ]
  },
  {
   "cell_type": "code",
   "execution_count": 98,
   "metadata": {},
   "outputs": [
    {
     "name": "stdout",
     "output_type": "stream",
     "text": [
      "total struct: 10197\n",
      "median is 0.6979733109474182\n"
     ]
    },
    {
     "data": {
      "image/png": "[encoded data removed]",
      "text/plain": [
       "<Figure size 432x288 with 1 Axes>"
      ]
     },
     "metadata": {
      "needs_background": "light"
     },
     "output_type": "display_data"
    }
   ],
   "source": [
    "single_stats('output/Full_GAN/scoreList/t3_',stat='sc')"
   ]
  },
  {
   "cell_type": "code",
   "execution_count": 175,
   "metadata": {},
   "outputs": [
    {
     "name": "stdout",
     "output_type": "stream",
     "text": [
      "total struct: 3799\n",
      "median is -2.40316245204587\n",
      "-2.5796977803492087\n"
     ]
    },
    {
     "data": {
      "image/png": "[encoded data removed]",
      "text/plain": [
       "<Figure size 432x288 with 1 Axes>"
      ]
     },
     "metadata": {
      "needs_background": "light"
     },
     "output_type": "display_data"
    }
   ],
   "source": [
    "score_stats(iN = 'output/278_GAN/t1/')"
   ]
  },
  {
   "cell_type": "code",
   "execution_count": 223,
   "metadata": {
    "scrolled": true
   },
   "outputs": [
    {
     "name": "stdout",
     "output_type": "stream",
     "text": [
      "total struct: 4836\n",
      "median is -2.418866927910903\n",
      "-2.5853896948343946\n"
     ]
    },
    {
     "data": {
      "image/png": "[encoded data removed]",
      "text/plain": [
       "<Figure size 432x288 with 1 Axes>"
      ]
     },
     "metadata": {
      "needs_background": "light"
     },
     "output_type": "display_data"
    }
   ],
   "source": [
    "bin_stats(iN = 'output/278_GAN/t2/',stat='score')"
   ]
  },
  {
   "cell_type": "code",
   "execution_count": 224,
   "metadata": {},
   "outputs": [
    {
     "name": "stdout",
     "output_type": "stream",
     "text": [
      "total struct: 4809\n",
      "median is -2.41180170912027\n",
      "-2.5698549933399555\n"
     ]
    },
    {
     "data": {
      "image/png": "[encoded data removed]",
      "text/plain": [
       "<Figure size 432x288 with 1 Axes>"
      ]
     },
     "metadata": {
      "needs_background": "light"
     },
     "output_type": "display_data"
    }
   ],
   "source": [
    "bin_stats(iN = 'output/278_GAN/t3/',stat='score')"
   ]
  },
  {
   "cell_type": "code",
   "execution_count": 225,
   "metadata": {},
   "outputs": [
    {
     "name": "stdout",
     "output_type": "stream",
     "text": [
      "total struct: 4809\n",
      "median is -2.41180170912027\n",
      "-2.5698549933399555\n"
     ]
    },
    {
     "data": {
      "image/png": "[encoded data removed]",
      "text/plain": [
       "<Figure size 432x288 with 1 Axes>"
      ]
     },
     "metadata": {
      "needs_background": "light"
     },
     "output_type": "display_data"
    }
   ],
   "source": [
    "bin_stats(iN = 'output/278_GAN/t3/',stat='score')"
   ]
  },
  {
   "cell_type": "code",
   "execution_count": 118,
   "metadata": {},
   "outputs": [
    {
     "name": "stdout",
     "output_type": "stream",
     "text": [
      "total struct: 1472\n",
      "median is 72.0\n"
     ]
    },
    {
     "data": {
      "image/png": "[encoded data removed]",
      "text/plain": [
       "<Figure size 432x288 with 1 Axes>"
      ]
     },
     "metadata": {
      "needs_background": "light"
     },
     "output_type": "display_data"
    }
   ],
   "source": [
    "single_stats(iN = 'output/278_GAN/t1/',stat='len')"
   ]
  },
  {
   "cell_type": "code",
   "execution_count": 219,
   "metadata": {},
   "outputs": [
    {
     "name": "stdout",
     "output_type": "stream",
     "text": [
      "total struct: 4835\n",
      "median is -2.418731073555945\n",
      "-2.5853896948343946\n"
     ]
    },
    {
     "data": {
      "image/png": "[encoded data removed]",
      "text/plain": [
       "<Figure size 432x288 with 1 Axes>"
      ]
     },
     "metadata": {
      "needs_background": "light"
     },
     "output_type": "display_data"
    }
   ],
   "source": [
    "score_stats(iN = 'output/278_GAN/t2/')"
   ]
  },
  {
   "cell_type": "code",
   "execution_count": 220,
   "metadata": {},
   "outputs": [
    {
     "name": "stdout",
     "output_type": "stream",
     "text": [
      "total struct: 4835\n",
      "median is 70.0\n"
     ]
    },
    {
     "data": {
      "image/png": "[encoded data removed]",
      "text/plain": [
       "<Figure size 432x288 with 1 Axes>"
      ]
     },
     "metadata": {
      "needs_background": "light"
     },
     "output_type": "display_data"
    }
   ],
   "source": [
    "single_stats(iN = 'output/278_GAN/t2/',stat='len')"
   ]
  },
  {
   "cell_type": "code",
   "execution_count": 221,
   "metadata": {},
   "outputs": [
    {
     "name": "stdout",
     "output_type": "stream",
     "text": [
      "total struct: 4808\n",
      "median is -2.4117714233787306\n",
      "-2.5698549933399555\n"
     ]
    },
    {
     "data": {
      "image/png": "[encoded data removed]",
      "text/plain": [
       "<Figure size 432x288 with 1 Axes>"
      ]
     },
     "metadata": {
      "needs_background": "light"
     },
     "output_type": "display_data"
    }
   ],
   "source": [
    "score_stats(iN = 'output/278_GAN/t3/')"
   ]
  },
  {
   "cell_type": "code",
   "execution_count": 222,
   "metadata": {},
   "outputs": [
    {
     "name": "stdout",
     "output_type": "stream",
     "text": [
      "total struct: 4808\n",
      "median is 69.0\n"
     ]
    },
    {
     "data": {
      "image/png": "[encoded data removed]",
      "text/plain": [
       "<Figure size 432x288 with 1 Axes>"
      ]
     },
     "metadata": {
      "needs_background": "light"
     },
     "output_type": "display_data"
    }
   ],
   "source": [
    "single_stats(iN = 'output/278_GAN/t3/',stat='len')"
   ]
  },
  {
   "cell_type": "code",
   "execution_count": 66,
   "metadata": {},
   "outputs": [],
   "source": [
    "nL,sL = openArray(direc='output/Full_GAN/t1')"
   ]
  },
  {
   "cell_type": "code",
   "execution_count": 67,
   "metadata": {},
   "outputs": [
    {
     "data": {
      "text/plain": [
       "1963"
      ]
     },
     "execution_count": 67,
     "metadata": {},
     "output_type": "execute_result"
    }
   ],
   "source": [
    "len(sL)"
   ]
  },
  {
   "cell_type": "code",
   "execution_count": 69,
   "metadata": {},
   "outputs": [],
   "source": [
    "sL = extract_total_score(sL,dictPlace=[2])"
   ]
  },
  {
   "cell_type": "code",
   "execution_count": 70,
   "metadata": {},
   "outputs": [],
   "source": [
    "b=[]\n",
    "for x in range(len(sL)):\n",
    "    name = nL[x][0].split('_')\n",
    "    num = int(name[0][1:])\n",
    "    b.append([sL[x][0],num,nL[x][0]])\n",
    "    "
   ]
  },
  {
   "cell_type": "code",
   "execution_count": 71,
   "metadata": {},
   "outputs": [],
   "source": [
    "labels=['score','num','name']"
   ]
  },
  {
   "cell_type": "code",
   "execution_count": 72,
   "metadata": {},
   "outputs": [],
   "source": [
    "df = pd.DataFrame(b,columns=labels)"
   ]
  },
  {
   "cell_type": "code",
   "execution_count": 73,
   "metadata": {},
   "outputs": [
    {
     "data": {
      "image/png": "[encoded data removed]",
      "text/plain": [
       "<Figure size 432x288 with 1 Axes>"
      ]
     },
     "metadata": {
      "needs_background": "light"
     },
     "output_type": "display_data"
    }
   ],
   "source": [
    "his4 = sns.histplot(data=df['score'])"
   ]
  },
  {
   "cell_type": "code",
   "execution_count": 74,
   "metadata": {},
   "outputs": [
    {
     "data": {
      "text/plain": [
       "-2.3912749358339003"
      ]
     },
     "execution_count": 74,
     "metadata": {},
     "output_type": "execute_result"
    }
   ],
   "source": [
    "df['score'].median()"
   ]
  },
  {
   "cell_type": "code",
   "execution_count": 75,
   "metadata": {},
   "outputs": [
    {
     "data": {
      "text/plain": [
       "58"
      ]
     },
     "execution_count": 75,
     "metadata": {},
     "output_type": "execute_result"
    }
   ],
   "source": [
    "len(np.unique(df['num'].to_numpy()))"
   ]
  },
  {
   "cell_type": "code",
   "execution_count": 76,
   "metadata": {},
   "outputs": [],
   "source": [
    "sList=[]\n",
    "for x in range(len(b)):\n",
    "    s=df.loc[df['num']==x].min()['score']\n",
    "    if not math.isnan(s):\n",
    "        sList.append([s,x])"
   ]
  },
  {
   "cell_type": "code",
   "execution_count": 77,
   "metadata": {},
   "outputs": [],
   "source": [
    "l3 = ['score','build']"
   ]
  },
  {
   "cell_type": "code",
   "execution_count": 78,
   "metadata": {},
   "outputs": [],
   "source": [
    "#df = pd.DataFrame(b,columns=labels)\n",
    "df2 = pd.DataFrame(sList,columns=l3)"
   ]
  },
  {
   "cell_type": "code",
   "execution_count": 79,
   "metadata": {},
   "outputs": [
    {
     "data": {
      "image/png": "[encoded data removed]",
      "text/plain": [
       "<Figure size 432x288 with 1 Axes>"
      ]
     },
     "metadata": {
      "needs_background": "light"
     },
     "output_type": "display_data"
    }
   ],
   "source": [
    "his4 = sns.histplot(data=df2['score'])\n",
    "# his4.figure.savefig(f'../Figures/GraphGen_Figure/generated.png')\n",
    "# his4.figure.savefig(f'../Figures/GraphGen_Figure/generated.svg')"
   ]
  },
  {
   "cell_type": "code",
   "execution_count": 81,
   "metadata": {},
   "outputs": [
    {
     "data": {
      "text/plain": [
       "-2.5688841433877165"
      ]
     },
     "execution_count": 81,
     "metadata": {},
     "output_type": "execute_result"
    }
   ],
   "source": [
    "df2['score'].median()"
   ]
  },
  {
   "cell_type": "code",
   "execution_count": 524,
   "metadata": {},
   "outputs": [],
   "source": [
    "nL,sL = openArray(direc='output/278_GAN/')\n"
   ]
  },
  {
   "cell_type": "code",
   "execution_count": 498,
   "metadata": {},
   "outputs": [
    {
     "data": {
      "image/png": "[encoded data removed]",
      "text/plain": [
       "<Figure size 432x288 with 1 Axes>"
      ]
     },
     "metadata": {
      "needs_background": "light"
     },
     "output_type": "display_data"
    }
   ],
   "source": [
    "sL = extract_total_score(sL,dictPlace=[2])\n",
    "b=[]\n",
    "for x in range(len(sL)):\n",
    "    name = nL[x][0].split('_')\n",
    "    num = int(name[0][1:])\n",
    "    if len(sL[x]) == 0:\n",
    "        sL[x]=[math.nan]\n",
    "    b.append([sL[x][0],num,nL[x][0]])\n",
    "\n",
    "labels=['score','num','name']\n",
    "l3 = ['score','build']\n",
    "df = pd.DataFrame(b,columns=labels)\n",
    "sList=[]\n",
    "for x in range(len(b)):\n",
    "    s=df.loc[df['num']==x].min()['score']\n",
    "    if not math.isnan(s):\n",
    "        sList.append([s,x])\n",
    "df2 = pd.DataFrame(sList,columns=l3)\n",
    "his4 = sns.histplot(data=df2['score'])"
   ]
  },
  {
   "cell_type": "code",
   "execution_count": 499,
   "metadata": {},
   "outputs": [
    {
     "data": {
      "text/plain": [
       "-2.392069892589542"
      ]
     },
     "execution_count": 499,
     "metadata": {},
     "output_type": "execute_result"
    }
   ],
   "source": [
    "df['score'].median()"
   ]
  },
  {
   "cell_type": "code",
   "execution_count": 500,
   "metadata": {},
   "outputs": [
    {
     "data": {
      "text/plain": [
       "[-2.2393215966526823]"
      ]
     },
     "execution_count": 500,
     "metadata": {},
     "output_type": "execute_result"
    }
   ],
   "source": [
    "sL[2]"
   ]
  },
  {
   "cell_type": "code",
   "execution_count": 501,
   "metadata": {},
   "outputs": [
    {
     "data": {
      "text/plain": [
       "-2.5185667296041294"
      ]
     },
     "execution_count": 501,
     "metadata": {},
     "output_type": "execute_result"
    }
   ],
   "source": [
    "df2['score'].median()"
   ]
  },
  {
   "cell_type": "code",
   "execution_count": 134,
   "metadata": {},
   "outputs": [
    {
     "name": "stdout",
     "output_type": "stream",
     "text": [
      "10199\n"
     ]
    }
   ],
   "source": [
    "import os\n",
    "dire = 'output/Full_GAN/t3'\n",
    "fL = os.listdir(dire)\n",
    "print(len(fL))"
   ]
  },
  {
   "cell_type": "code",
   "execution_count": 148,
   "metadata": {},
   "outputs": [
    {
     "name": "stdout",
     "output_type": "stream",
     "text": [
      "total struct: 29777\n"
     ]
    }
   ],
   "source": [
    "#split nL, sL\n",
    "nL,sL = openArray(direc='output/Full_GAN/t3')\n",
    "print(f'total struct: {len(sL)}')"
   ]
  },
  {
   "cell_type": "code",
   "execution_count": 149,
   "metadata": {},
   "outputs": [],
   "source": [
    "t1=9952\n",
    "t2=19580\n",
    "t3=29777"
   ]
  },
  {
   "cell_type": "code",
   "execution_count": 153,
   "metadata": {},
   "outputs": [],
   "source": [
    "sL1 = sL[:t1]\n",
    "sL2 = sL[t1:t2]\n",
    "sL3 = sL[t2:t3]\n",
    "\n",
    "nL1 = nL[:t1]\n",
    "nL2 = nL[t1:t2]\n",
    "nL3 = nL[t2:t3]"
   ]
  },
  {
   "cell_type": "code",
   "execution_count": 154,
   "metadata": {},
   "outputs": [],
   "source": [
    "def save_scoreList(nameList=[],scoreList=[],direc='output/Aug9/'):\n",
    "\n",
    "    with open(f'{direc}nameList.pkl',\"wb\") as f:\n",
    "        pickle.dump(nameList,f)\n",
    "\n",
    "    with open(f'{direc}scoreList.pkl',\"wb\") as f:\n",
    "        pickle.dump(scoreList,f)"
   ]
  },
  {
   "cell_type": "code",
   "execution_count": 155,
   "metadata": {},
   "outputs": [],
   "source": [
    "save_scoreList(nL1,sL1,direc='output/Full_GAN/scoreList/t1_')"
   ]
  },
  {
   "cell_type": "code",
   "execution_count": 156,
   "metadata": {},
   "outputs": [],
   "source": [
    "save_scoreList(nL2,sL2,direc='output/Full_GAN/scoreList/t2_')"
   ]
  },
  {
   "cell_type": "code",
   "execution_count": 157,
   "metadata": {},
   "outputs": [],
   "source": [
    "save_scoreList(nL3,sL3,direc='output/Full_GAN/scoreList/t3_')"
   ]
  },
  {
   "cell_type": "code",
   "execution_count": null,
   "metadata": {},
   "outputs": [],
   "source": []
  },
  {
   "cell_type": "code",
   "execution_count": 268,
   "metadata": {},
   "outputs": [
    {
     "name": "stdout",
     "output_type": "stream",
     "text": [
      "7977\n"
     ]
    }
   ],
   "source": [
    "import os\n",
    "\n",
    "fL = os.listdir('../output/278_GAN/t3/')\n",
    "print(len(fL))"
   ]
  },
  {
   "cell_type": "code",
   "execution_count": null,
   "metadata": {},
   "outputs": [],
   "source": []
  },
  {
   "cell_type": "code",
   "execution_count": null,
   "metadata": {},
   "outputs": [],
   "source": []
  }
 ],
 "metadata": {
  "kernelspec": {
   "display_name": "torchGraph",
   "language": "python",
   "name": "torchgraph"
  },
  "language_info": {
   "codemirror_mode": {
    "name": "ipython",
    "version": 3
   },
   "file_extension": ".py",
   "mimetype": "text/x-python",
   "name": "python",
   "nbconvert_exporter": "python",
   "pygments_lexer": "ipython3",
   "version": "3.8.5"
  }
 },
 "nbformat": 4,
 "nbformat_minor": 4
}
