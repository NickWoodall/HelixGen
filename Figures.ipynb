{
 "cells": [
  {
   "cell_type": "code",
   "execution_count": 1,
   "id": "ee03d467",
   "metadata": {},
   "outputs": [],
   "source": [
    "import pandas as pd\n",
    "import FitTransform as ft\n",
    "import HelixFit as hf\n",
    "import seaborn as sns\n",
    "import shutil\n",
    "import numpy as np\n",
    "import LoopEndpoints as le\n",
    "import GenerateEndpoints as ge\n",
    "import util.npose_util as nu\n",
    "import pickle\n",
    "\n",
    "import util.npose_util as nu\n",
    "import os\n",
    "from pymol import cmd, stored, selector\n",
    "import util.AA_Exchange as aa\n",
    "\n",
    "import matplotlib.pyplot as plt\n",
    "\n",
    "import sys\n",
    "sys.path.insert(0,f'Clustering/')\n",
    "import Clustering as cl\n",
    "\n",
    "import random"
   ]
  },
  {
   "cell_type": "markdown",
   "id": "2483366a",
   "metadata": {},
   "source": [
    "Figure 1 Helical Fit"
   ]
  },
  {
   "cell_type": "code",
   "execution_count": 2,
   "id": "aed68d21",
   "metadata": {},
   "outputs": [],
   "source": [
    "df = pd.read_csv('data/Fits_4H.csv')\n",
    "df = df.loc[df['name'] != 'name']\n",
    "\n",
    "for col in df.columns:\n",
    "    t=\"float\"\n",
    "    if \"length\" in col:\n",
    "        t = \"integer\"\n",
    "    elif 'name'  in col:\n",
    "        continue\n",
    "    df[col] = pd.to_numeric(df[col],downcast=t)\n",
    "\n",
    "#remove poor fitting rmsd\n",
    "df.insert(1, 'max_rmsd', df[df.filter(like='rmsd').columns].max(axis=1))\n",
    "df = df.loc[df['max_rmsd']<100]"
   ]
  },
  {
   "cell_type": "code",
   "execution_count": 3,
   "id": "7f599fa1",
   "metadata": {},
   "outputs": [
    {
     "data": {
      "image/png": "[encoded data removed]",
      "text/plain": [
       "<Figure size 360x360 with 1 Axes>"
      ]
     },
     "metadata": {
      "needs_background": "light"
     },
     "output_type": "display_data"
    }
   ],
   "source": [
    "rmsd_dist = sns.displot(df['max_rmsd'], kde=False, color='red', bins=50)\n",
    "#rmsd_dist.savefig(f'Figures/HelicalFit_Figure/rmsd.svg')"
   ]
  },
  {
   "cell_type": "markdown",
   "id": "7a516227",
   "metadata": {},
   "source": [
    "Code to get examples of rmsd levels of the dataset"
   ]
  },
  {
   "cell_type": "code",
   "execution_count": 4,
   "id": "f1d637e7",
   "metadata": {},
   "outputs": [
    {
     "name": "stdout",
     "output_type": "stream",
     "text": [
      " PyMOL not running, entering library mode (experimental)\n"
     ]
    },
    {
     "data": {
      "text/plain": [
       "[<HelixFit.ParametricHelix at 0x20f1dbe6910>,\n",
       " <HelixFit.ParametricHelix at 0x20f1efdca00>,\n",
       " <HelixFit.ParametricHelix at 0x20f1f0045b0>,\n",
       " <HelixFit.ParametricHelix at 0x20f1ee44af0>]"
      ]
     },
     "execution_count": 4,
     "metadata": {},
     "output_type": "execute_result"
    }
   ],
   "source": [
    "dfp5_rmsd = df.loc[(df['max_rmsd']>0.49) & (df['max_rmsd']<0.51)]\n",
    "df1_rmsd = df.loc[(df['max_rmsd']>0.99) & (df['max_rmsd']<1.01)]\n",
    "nameLocp5 = dfp5_rmsd.columns.get_loc(f'name')\n",
    "nameLoc1 = df1_rmsd.columns.get_loc(f'name')\n",
    "fname_rmsdp5 = dfp5_rmsd.iloc[0,nameLocp5]\n",
    "fname_rmsd1 = df1_rmsd.iloc[0,nameLoc1]\n",
    "rp5 = hf.HelicalProtein(f'{fname_rmsdp5}.pdb',direc='data/4H_dataset/models')\n",
    "r1 = hf.HelicalProtein(f'{fname_rmsd1}.pdb',direc=  'data/4H_dataset/models')\n",
    "rp5.fit_all()\n",
    "r1.fit_all()"
   ]
  },
  {
   "cell_type": "code",
   "execution_count": 5,
   "id": "d38ca3de",
   "metadata": {},
   "outputs": [],
   "source": [
    "#rp5.dump_comparison_poses_(outDirectory='Figures/HelicalFit_Figure/',name='rp5')\n",
    "#r1.dump_comparison_poses_(outDirectory='Figures/HelicalFit_Figure/',name='r1')\n",
    "#shutil.copyfile(f'data/bCov_4H_dataset/BCov_Models/{fname_rmsdp5}.pdb',f'Figures/HelicalFit_Figure/rmsdp5_{fname_rmsd1}.pdb')\n",
    "#shutil.copyfile(f'data/bCov_4H_dataset/BCov_Models/{fname_rmsd1}.pdb',f'Figures/HelicalFit_Figure/rmsd1_{fname_rmsd1}.pdb')"
   ]
  },
  {
   "cell_type": "code",
   "execution_count": null,
   "id": "01a4240b",
   "metadata": {},
   "outputs": [],
   "source": [
    "#r1.dump_endpoints(outDirec='Figures/HelicalFit_Figure/',name=f'ep_{fname_rmsd1}')"
   ]
  },
  {
   "cell_type": "markdown",
   "id": "bc35c6c1",
   "metadata": {},
   "source": [
    "\n",
    "Figure 2 GAN\n"
   ]
  },
  {
   "cell_type": "code",
   "execution_count": 23,
   "id": "10b7ff9d",
   "metadata": {},
   "outputs": [
    {
     "name": "stdout",
     "output_type": "stream",
     "text": [
      "Structures Generation Attempts: 27877\n",
      "MSE for recon is 0.12 Angstroms\n",
      "Elapsed time: 724.78\n",
      "0.03s per structure\n",
      "No Clash Structures: 8226\n",
      "Two Atoms or less Clash Structures: 20832\n",
      "Clashed Atoms Mean: 1.67 +/- 1.30\n",
      "Percent Core: 0.13 +/- 0.05\n"
     ]
    }
   ],
   "source": [
    "le.bb_analyze(\"data/BestGenerator\",batch=27877,z=12,loopTry=False,print_output=True,analysisOnly=True, outDirec='')"
   ]
  },
  {
   "cell_type": "code",
   "execution_count": 9,
   "id": "c5ff6b29",
   "metadata": {},
   "outputs": [
    {
     "name": "stdout",
     "output_type": "stream",
     "text": [
      "Structures Generation Attempts: 27877\n",
      "MSE for recon is 0.39 Angstroms\n",
      "Elapsed time: 712.02\n",
      "0.03s per structure\n",
      "No Clash Structures: 7384\n",
      "Two Atoms or less Clash Structures: 18782\n",
      "Clashed Atoms Mean: 1.85 +/- 1.35\n",
      "Percent Core: 0.13 +/- 0.06\n"
     ]
    }
   ],
   "source": [
    "le.bb_analyze(\"data/onePer\",batch=27877,z=12,loopTry=False,print_output=True,analysisOnly=True, outDirec='')"
   ]
  },
  {
   "cell_type": "code",
   "execution_count": 10,
   "id": "2f7ef7b2",
   "metadata": {},
   "outputs": [],
   "source": [
    "#make endpoint list of ref dataset\n",
    "\n",
    "dfRead = pd.read_csv('data/H4_parameters_straight_phi.csv')\n",
    "df = ft.prepData_Str(dfRead)\n",
    "dfEnd = ft.EndPoint(df)\n",
    "npEnd = dfEnd.to_numpy()\n",
    "epList = npEnd[:,:-5].astype(dtype=np.float32)\n",
    "epList = epList.reshape((-1,8,3))\n",
    "np.savez_compressed(f'Figures/GAN_Figure/epGenList.npz',ep=epList)"
   ]
  },
  {
   "cell_type": "code",
   "execution_count": null,
   "id": "a82837d1",
   "metadata": {},
   "outputs": [],
   "source": []
  },
  {
   "cell_type": "code",
   "execution_count": 3,
   "id": "36d9333d",
   "metadata": {},
   "outputs": [
    {
     "name": "stdout",
     "output_type": "stream",
     "text": [
      "shape of ep list is (27877, 8, 3)\n"
     ]
    }
   ],
   "source": [
    "epR = ge.EP_Recon('Figures/GAN_Figure/epGenList')\n",
    "print(f'shape of ep list is {epR.endpoints_list.shape}')\n",
    "npList = epR.to_npose()"
   ]
  },
  {
   "cell_type": "code",
   "execution_count": 13,
   "id": "5d391b18",
   "metadata": {},
   "outputs": [
    {
     "name": "stdout",
     "output_type": "stream",
     "text": [
      "No Clash Structures: 8412\n",
      "Two Atoms or less Clash Structures: 21443\n",
      "Clashed Atoms Mean: 1.61 +/- 1.26\n",
      "Percent Core: 0.15 +/- 0.05\n"
     ]
    }
   ],
   "source": [
    "#ref dataset calculation for straight helix stats\n",
    "cc =  []\n",
    "scn_core = []\n",
    "\n",
    "for x in range(len(epR.npose_list)):\n",
    "    cc.append(le.whole_prot_clash_check(epR.npose_list[x],epR.helixLength_list[x]))\n",
    "    neighs = le.get_neighbor_2D(epR.npose_list[x])\n",
    "    scn_core.append(le.get_scn(neighs))\n",
    "\n",
    "cc = np.array(cc)\n",
    "\n",
    "print(f'No Clash Structures: {len(np.where(cc<1)[0])}')\n",
    "print(f'Two Atoms or less Clash Structures: {len(np.where(cc<3)[0])}')\n",
    "print(f'Clashed Atoms Mean: {np.mean(cc):.2f} +/- {np.std(cc):.2f}')\n",
    "print(f'Percent Core: {np.mean(scn_core):.2f} +/- {np.std(scn_core):.2f}')"
   ]
  },
  {
   "cell_type": "code",
   "execution_count": 38,
   "id": "360a842a",
   "metadata": {},
   "outputs": [],
   "source": [
    "#get example of atom clashing structure\n",
    "indList = np.where(cc>0)[0]\n",
    "npEnd[1,-1]\n",
    "pro1 = nu.npose_from_file(f'data/bCov_4H_dataset/BCov_Models/{npEnd[1,-1]}.pdb')\n",
    "# nu.dump_npdb(pro1,'Figures/GAN_Figure/testpro.pdb')\n",
    "# nu.dump_npdb(npList[1],'Figures/GAN_Figure/testpro_ep.pdb')"
   ]
  },
  {
   "cell_type": "code",
   "execution_count": 49,
   "id": "2b92bb8e",
   "metadata": {},
   "outputs": [],
   "source": []
  },
  {
   "cell_type": "markdown",
   "id": "56c511ad",
   "metadata": {},
   "source": [
    "------------- Reference clustering check -----------------------------  \n",
    "Run and Load alternately since going through to_predict.npz path"
   ]
  },
  {
   "cell_type": "code",
   "execution_count": 3,
   "id": "ac15a035",
   "metadata": {},
   "outputs": [],
   "source": [
    "#reference clustering for 278 training\n",
    "#ge.generate_dist_dihe(genName='data/onePer',outName='Figures/GAN_Figure/onePer_dist_dihe',batch_size=27877)\n",
    "#run to predict via spectral net\n",
    "#python Clustering.py -i onePer_dist_dihe.npz -n refData -d ../Figures/GAN_Figure/onePer_Clus/ -e -s refData -a data"
   ]
  },
  {
   "cell_type": "code",
   "execution_count": null,
   "id": "11b9cf59",
   "metadata": {},
   "outputs": [],
   "source": [
    "#Generate BestGen dataset\n",
    "#python GenerateEndpoints.py -b 27877 -o Figures/GAN_Figure/data/FullSet_Clus -d -i data/BestGenerator\n",
    "#python Clustering.py -i FullSet_27877.npz -n refData -d ../Figures/GAN_Figure/FullSet_Clus -e -s refData -a data\n",
    "\n"
   ]
  },
  {
   "cell_type": "code",
   "execution_count": null,
   "id": "2b2ea20a",
   "metadata": {},
   "outputs": [],
   "source": [
    "#specNetGPU environ\n",
    "#python Clustering_SpectralNeuralNet.py -p -i data/refData.npz -n data/sNet #load to predict and save"
   ]
  },
  {
   "cell_type": "code",
   "execution_count": 2,
   "id": "1019d330",
   "metadata": {},
   "outputs": [],
   "source": [
    "def prep_for_specNetCluster(name,scaler,inDirec='data',scaler_direc='data'):\n",
    "    \"\"\"Applies scaler and saves for loading by spectral net code.\"\"\"\n",
    "    chp = cl.ClusterHelixParams(name,direc=inDirec,load_scaler=scaler,scaler_direc=scaler_direc) #scale the new data using the old scaler\n",
    "    chp.save_for_spectralNet() # save for loading by spectral net, produces to_predict.npz in data/"
   ]
  },
  {
   "cell_type": "code",
   "execution_count": 5,
   "id": "5f11a822",
   "metadata": {},
   "outputs": [],
   "source": [
    "# #full data\n",
    "dataDirec = 'Figures/GAN_Figure/FullSet_Clus/'\n",
    "scaleDirec = 'Clustering/data/'\n",
    "dataFile = 'FullSet_dist_dihe.npz'\n",
    "\n",
    "prep_for_specNetCluster(dataFile,'refData',inDirec=dataDirec,scaler_direc=scaleDirec)  \n",
    "\n",
    "# run in  \n",
    "# # specNetGPU environ\n",
    "# # python Clustering_SpectralNeuralNet.py -p -i data/refData.npz -n data/sNet #load to predict and save"
   ]
  },
  {
   "cell_type": "code",
   "execution_count": 6,
   "id": "88a86d34",
   "metadata": {},
   "outputs": [
    {
     "data": {
      "text/plain": [
       "array([15,  9,  0, ...,  4,  3,  2])"
      ]
     },
     "execution_count": 6,
     "metadata": {},
     "output_type": "execute_result"
    }
   ],
   "source": [
    "# chp = cl.ClusterHelixParams('refData', direc='Clustering/data/', scaler_direc='Clustering/data/',loadCluster=True)\n",
    "# chp.load_for_spectralNet(direc='Clustering/data/')"
   ]
  },
  {
   "cell_type": "code",
   "execution_count": 7,
   "id": "2a4f9368",
   "metadata": {},
   "outputs": [],
   "source": [
    "# np.savez_compressed('Figures/GAN_Figure/FullSet_Clus/FullSet_Clusters.npz',y_train= chp.y_train, y_ = chp.y_)"
   ]
  },
  {
   "cell_type": "code",
   "execution_count": 12,
   "id": "c2b07711",
   "metadata": {},
   "outputs": [],
   "source": [
    "#one percent data\n",
    "# dataDirec = 'Figures/GAN_Figure/onePer_Clus/'\n",
    "# scaleDirec = 'Clustering/data/'\n",
    "# dataFile = 'onePer_dist_dihe.npz'\n",
    "\n",
    "# prep_for_specNetCluster(dataFile,'refData',inDirec=dataDirec,scaler_direc=scaleDirec)  \n",
    "\n",
    "# run in  \n",
    "# # specNetGPU environ\n",
    "# # python Clustering_SpectralNeuralNet.py -p -i data/refData.npz -n data/sNet #load to predict and save"
   ]
  },
  {
   "cell_type": "code",
   "execution_count": 13,
   "id": "ae2087a5",
   "metadata": {},
   "outputs": [],
   "source": [
    "# chp = cl.ClusterHelixParams('refData', direc='Clustering/data/', scaler_direc='Clustering/data/',loadCluster=True)\n",
    "# chp.load_for_spectralNet(direc='Clustering/data/')"
   ]
  },
  {
   "cell_type": "code",
   "execution_count": 14,
   "id": "5479c869",
   "metadata": {},
   "outputs": [],
   "source": [
    "#np.savez_compressed('Figures/GAN_Figure/onePer_Clus/onePer_clusters.npz',y_train= chp.y_train, y_ = chp.y_)"
   ]
  },
  {
   "cell_type": "code",
   "execution_count": 15,
   "id": "2b0ea5ed",
   "metadata": {},
   "outputs": [],
   "source": [
    "# remove Cluster7 data\n",
    "# dataDirec = 'Figures/GAN_Figure/Remove_Clus7/'\n",
    "# scaleDirec = 'Clustering/data/'\n",
    "# dataFile = 'removeClus7_dist_dihe.npz'\n",
    "\n",
    "# prep_for_specNetCluster(dataFile,'refData',inDirec=dataDirec,scaler_direc=scaleDirec)  \n",
    "\n",
    "# run in  \n",
    "# specNetGPU environ\n",
    "# python Clustering_SpectralNeuralNet.py -p -i data/refData.npz -n data/sNet #load to predict and save"
   ]
  },
  {
   "cell_type": "code",
   "execution_count": 16,
   "id": "57055166",
   "metadata": {},
   "outputs": [
    {
     "data": {
      "text/plain": [
       "array([13, 16,  0, ...,  5,  9,  2])"
      ]
     },
     "execution_count": 16,
     "metadata": {},
     "output_type": "execute_result"
    }
   ],
   "source": [
    "# chp = cl.ClusterHelixParams('refData', direc='Clustering/data/', scaler_direc='Clustering/data/',loadCluster=True)\n",
    "# chp.load_for_spectralNet(direc='Clustering/data/')"
   ]
  },
  {
   "cell_type": "code",
   "execution_count": 17,
   "id": "bf60c9ea",
   "metadata": {},
   "outputs": [],
   "source": [
    "# np.savez_compressed('Figures/GAN_Figure/Remove_Clus7/Remove_Clus7_clusters.npz',y_train= chp.y_train, y_ = chp.y_)"
   ]
  },
  {
   "cell_type": "code",
   "execution_count": null,
   "id": "ffd5ae91",
   "metadata": {},
   "outputs": [],
   "source": []
  },
  {
   "cell_type": "code",
   "execution_count": 2,
   "id": "7d1f2649",
   "metadata": {},
   "outputs": [],
   "source": [
    "dataDirec = 'Figures/GAN_Figure/FullSet_Clus/'\n",
    "name = 'FullSet_Clusters.npz'\n",
    "rr = np.load(f'{dataDirec}{name}', allow_pickle=True)\n",
    "#Loading data for plotting\n",
    "full_y_train, full_y_ = [rr[f] for f in rr.files]\n"
   ]
  },
  {
   "cell_type": "code",
   "execution_count": 3,
   "id": "045fbdb9",
   "metadata": {},
   "outputs": [],
   "source": [
    "dataDirec = 'Figures/GAN_Figure/Remove_Clus7/'\n",
    "name = 'Remove_Clus7_clusters.npz'\n",
    "rr = np.load(f'{dataDirec}{name}', allow_pickle=True)\n",
    "#Loading data for plotting\n",
    "r7_y_train, r7_y_ = [rr[f] for f in rr.files]"
   ]
  },
  {
   "cell_type": "code",
   "execution_count": 4,
   "id": "81660458",
   "metadata": {},
   "outputs": [],
   "source": [
    "dataDirec = 'Figures/GAN_Figure/onePer_Clus/'\n",
    "name = 'onePer_clusters.npz'\n",
    "rr = np.load(f'{dataDirec}{name}', allow_pickle=True)\n",
    "#Loading data for plotting\n",
    "p1_y_train, p1_y_ = [rr[f] for f in rr.files]"
   ]
  },
  {
   "cell_type": "code",
   "execution_count": 5,
   "id": "03339d08",
   "metadata": {},
   "outputs": [],
   "source": [
    "chp = cl.ClusterHelixParams('refData', direc='Clustering/data/', scaler_direc='Clustering/data/',loadCluster=True)"
   ]
  },
  {
   "cell_type": "code",
   "execution_count": 6,
   "id": "21bd96b8",
   "metadata": {},
   "outputs": [
    {
     "data": {
      "text/plain": [
       "array([ 8,  6,  0, ..., 22,  5,  5])"
      ]
     },
     "execution_count": 6,
     "metadata": {},
     "output_type": "execute_result"
    }
   ],
   "source": [
    "chp.y_"
   ]
  },
  {
   "cell_type": "code",
   "execution_count": 7,
   "id": "e5b31a19",
   "metadata": {},
   "outputs": [],
   "source": [
    "co = ['Generator 27877', 'Generator 278', 'RemoveCluster_7', 'Reference Set']\n",
    "npClus = np.vstack((full_y_.reshape(-1,1),p1_y_.reshape(-1,1), r7_y_.reshape(-1,1), chp.y_.reshape(-1,1))).squeeze()\n",
    "typeArray = np.expand_dims(np.array(co,dtype=object),axis=0).repeat(full_y_.shape[0])"
   ]
  },
  {
   "cell_type": "code",
   "execution_count": 8,
   "id": "08c8f642",
   "metadata": {},
   "outputs": [
    {
     "data": {
      "text/plain": [
       "(111508,)"
      ]
     },
     "execution_count": 8,
     "metadata": {},
     "output_type": "execute_result"
    }
   ],
   "source": [
    "npClus.shape"
   ]
  },
  {
   "cell_type": "code",
   "execution_count": 9,
   "id": "6e9453fc",
   "metadata": {},
   "outputs": [
    {
     "data": {
      "text/plain": [
       "4.0"
      ]
     },
     "execution_count": 9,
     "metadata": {},
     "output_type": "execute_result"
    }
   ],
   "source": [
    "typeArray.shape[0]/27877"
   ]
  },
  {
   "cell_type": "code",
   "execution_count": 10,
   "id": "2b8ff3ef",
   "metadata": {},
   "outputs": [],
   "source": [
    "df1 = pd.DataFrame(np.hstack((npClus.reshape(-1,1),typeArray.reshape(-1,1))),columns=['Cluster Number','Type'])"
   ]
  },
  {
   "cell_type": "code",
   "execution_count": 25,
   "id": "a83fd271",
   "metadata": {},
   "outputs": [
    {
     "data": {
      "image/png": "[encoded data removed]",
      "text/plain": [
       "<Figure size 842.4x595.44 with 1 Axes>"
      ]
     },
     "metadata": {},
     "output_type": "display_data"
    }
   ],
   "source": [
    "sns.set(rc={'figure.figsize':(11.7,8.27),'grid.color':'white'})\n",
    "sns.set_style(\"whitegrid\")\n",
    "\n",
    "colorpal = sns.xkcd_palette(['sea blue', 'blue', 'leaf green', 'fire engine red'])\n",
    "\n",
    "sns.set_palette(sns.color_palette(colorpal))\n",
    "fig, ax = plt.subplots()\n",
    "plotcount = sns.countplot(data=df1, hue='Type', x='Cluster Number')\n",
    "def change_width(ax, new_value) :\n",
    "    for patch in ax.patches :\n",
    "        current_width = patch.get_width()\n",
    "        diff = current_width - new_value\n",
    "\n",
    "        # we change the bar width\n",
    "        patch.set_width(new_value)\n",
    "\n",
    "        # we recenter the bar\n",
    "        patch.set_x(patch.get_x() + diff * .5)\n",
    "\n",
    "\n",
    "change_width(ax, .20)\n",
    "plt.show()\n",
    "fig.savefig(f'Figures/GAN_Figure/Clus_rem7_Fig.svg')"
   ]
  },
  {
   "cell_type": "code",
   "execution_count": null,
   "id": "5c0939e6",
   "metadata": {},
   "outputs": [],
   "source": []
  },
  {
   "cell_type": "code",
   "execution_count": null,
   "id": "b1fce5f3",
   "metadata": {},
   "outputs": [],
   "source": []
  },
  {
   "cell_type": "code",
   "execution_count": 44,
   "id": "98914644",
   "metadata": {},
   "outputs": [],
   "source": [
    "?sns.countplot"
   ]
  },
  {
   "cell_type": "code",
   "execution_count": 24,
   "id": "d9a71373",
   "metadata": {},
   "outputs": [
    {
     "name": "stdout",
     "output_type": "stream",
     "text": [
      "2056\n",
      "2345\n",
      "2056\n",
      "2345\n",
      "472\n",
      "2345\n",
      "1302\n",
      "536\n",
      "1302\n",
      "1152\n",
      "2105\n",
      "850\n",
      "2118\n",
      "955\n",
      "1647\n",
      "857\n",
      "1625\n",
      "2116\n",
      "2217\n",
      "1454\n",
      "1269\n",
      "2104\n",
      "1190\n",
      "2217\n",
      "1647\n",
      "4160\n",
      "857\n",
      "1023\n",
      "321\n",
      "1151\n",
      "850\n",
      "1495\n",
      "2104\n",
      "1223\n",
      "700\n",
      "1224\n",
      "1270\n",
      "708\n",
      "1702\n",
      "723\n",
      "187\n",
      "571\n",
      "576\n",
      "1024\n",
      "372\n",
      "571\n",
      "531\n",
      "576\n",
      "1702\n",
      "373\n",
      "1024\n",
      "845\n",
      "1162\n",
      "507\n",
      "507\n",
      "761\n",
      "845\n",
      "370\n",
      "2155\n",
      "382\n",
      "382\n",
      "992\n",
      "515\n",
      "473\n",
      "503\n",
      "677\n",
      "677\n",
      "696\n",
      "563\n",
      "364\n",
      "663\n",
      "473\n",
      "355\n",
      "289\n",
      "168\n",
      "168\n",
      "475\n",
      "364\n"
     ]
    }
   ],
   "source": [
    "for x in range(26):\n",
    "    print(sum(full_y_==x))\n",
    "    print(sum(chp.y_==x))\n",
    "    print(sum(r7_y_==x))"
   ]
  },
  {
   "cell_type": "code",
   "execution_count": null,
   "id": "da0ae9ad",
   "metadata": {},
   "outputs": [],
   "source": []
  },
  {
   "cell_type": "code",
   "execution_count": 56,
   "id": "8c283a98",
   "metadata": {},
   "outputs": [
    {
     "data": {
      "text/plain": [
       "2055"
      ]
     },
     "execution_count": 56,
     "metadata": {},
     "output_type": "execute_result"
    }
   ],
   "source": [
    "sum(chp.y_==1)"
   ]
  },
  {
   "cell_type": "code",
   "execution_count": 26,
   "id": "8c1818c6",
   "metadata": {},
   "outputs": [],
   "source": [
    "#this loads the compare clusters and then uses the numbers in the reference clusters to match clusters\n",
    "\n",
    "gen_278 = chp.loc[chp['type']=='generated'].to_numpy()\n",
    "ref_278 = chp.loc[chp['type']=='reference'].to_numpy()\n",
    "\n",
    "gen_full = chp_full.loc[chp['type']=='generated'].to_numpy()\n",
    "ref_full = chp_full.loc[chp['type']=='reference'].to_numpy()\n",
    "\n",
    "index_278 = ref_278[:, 1].argsort()\n",
    "index_Full = ref_full[:,1].argsort()\n",
    "\n",
    "gen_full_norm = gen_full[index_Full][:,2]\n",
    "ref = ref_full[index_Full][:,2]\n",
    "gen_278_norm = gen_278[index_278][:,2]"
   ]
  },
  {
   "cell_type": "code",
   "execution_count": 23,
   "id": "e9698f81",
   "metadata": {},
   "outputs": [],
   "source": [
    "?np.argsort"
   ]
  },
  {
   "cell_type": "markdown",
   "id": "961fa3ec",
   "metadata": {},
   "source": [
    "Plot all three clustered sets together"
   ]
  },
  {
   "cell_type": "code",
   "execution_count": 139,
   "id": "0b027338",
   "metadata": {},
   "outputs": [
    {
     "data": {
      "text/html": [
       "<div>\n",
       "<style scoped>\n",
       "    .dataframe tbody tr th:only-of-type {\n",
       "        vertical-align: middle;\n",
       "    }\n",
       "\n",
       "    .dataframe tbody tr th {\n",
       "        vertical-align: top;\n",
       "    }\n",
       "\n",
       "    .dataframe thead th {\n",
       "        text-align: right;\n",
       "    }\n",
       "</style>\n",
       "<table border=\"1\" class=\"dataframe\">\n",
       "  <thead>\n",
       "    <tr style=\"text-align: right;\">\n",
       "      <th></th>\n",
       "      <th>Cluster Number</th>\n",
       "      <th>Amount</th>\n",
       "      <th>Type</th>\n",
       "    </tr>\n",
       "  </thead>\n",
       "  <tbody>\n",
       "    <tr>\n",
       "      <th>0</th>\n",
       "      <td>0</td>\n",
       "      <td>228</td>\n",
       "      <td>Generator 27877</td>\n",
       "    </tr>\n",
       "    <tr>\n",
       "      <th>1</th>\n",
       "      <td>1</td>\n",
       "      <td>442</td>\n",
       "      <td>Generator 27877</td>\n",
       "    </tr>\n",
       "    <tr>\n",
       "      <th>2</th>\n",
       "      <td>2</td>\n",
       "      <td>368</td>\n",
       "      <td>Generator 27877</td>\n",
       "    </tr>\n",
       "    <tr>\n",
       "      <th>3</th>\n",
       "      <td>3</td>\n",
       "      <td>583</td>\n",
       "      <td>Generator 27877</td>\n",
       "    </tr>\n",
       "    <tr>\n",
       "      <th>4</th>\n",
       "      <td>4</td>\n",
       "      <td>367</td>\n",
       "      <td>Generator 27877</td>\n",
       "    </tr>\n",
       "    <tr>\n",
       "      <th>...</th>\n",
       "      <td>...</td>\n",
       "      <td>...</td>\n",
       "      <td>...</td>\n",
       "    </tr>\n",
       "    <tr>\n",
       "      <th>73</th>\n",
       "      <td>21</td>\n",
       "      <td>1632</td>\n",
       "      <td>Reference Set</td>\n",
       "    </tr>\n",
       "    <tr>\n",
       "      <th>74</th>\n",
       "      <td>22</td>\n",
       "      <td>2103</td>\n",
       "      <td>Reference Set</td>\n",
       "    </tr>\n",
       "    <tr>\n",
       "      <th>75</th>\n",
       "      <td>23</td>\n",
       "      <td>2149</td>\n",
       "      <td>Reference Set</td>\n",
       "    </tr>\n",
       "    <tr>\n",
       "      <th>76</th>\n",
       "      <td>24</td>\n",
       "      <td>2349</td>\n",
       "      <td>Reference Set</td>\n",
       "    </tr>\n",
       "    <tr>\n",
       "      <th>77</th>\n",
       "      <td>25</td>\n",
       "      <td>4164</td>\n",
       "      <td>Reference Set</td>\n",
       "    </tr>\n",
       "  </tbody>\n",
       "</table>\n",
       "<p>78 rows × 3 columns</p>\n",
       "</div>"
      ],
      "text/plain": [
       "   Cluster Number Amount             Type\n",
       "0               0    228  Generator 27877\n",
       "1               1    442  Generator 27877\n",
       "2               2    368  Generator 27877\n",
       "3               3    583  Generator 27877\n",
       "4               4    367  Generator 27877\n",
       "..            ...    ...              ...\n",
       "73             21   1632    Reference Set\n",
       "74             22   2103    Reference Set\n",
       "75             23   2149    Reference Set\n",
       "76             24   2349    Reference Set\n",
       "77             25   4164    Reference Set\n",
       "\n",
       "[78 rows x 3 columns]"
      ]
     },
     "execution_count": 139,
     "metadata": {},
     "output_type": "execute_result"
    }
   ],
   "source": [
    "co = ['Generator 27877', 'Generator 278', 'Reference Set']\n",
    "npClus = np.vstack((gen_full_norm.reshape(-1,1),gen_278_norm.reshape(-1,1), ref.reshape(-1,1)))\n",
    "\n",
    "typeArray = np.array(['Generator 27877']*ref.shape[0],dtype=object).reshape((-1,1))\n",
    "typeArray = np.vstack((typeArray,np.array(['Generator 278']*ref.shape[0],dtype=object).reshape((-1,1))))\n",
    "typeArray = np.vstack((typeArray,np.array(['Reference Set']*ref.shape[0],dtype=object).reshape((-1,1)))).squeeze()\n",
    "\n",
    "\n",
    "\n",
    "cn= np.vstack((np.array(range(ref.shape[0])).reshape((-1,1)),np.array(range(ref.shape[0])).reshape((-1,1)),np.array(range(ref.shape[0])).reshape((-1,1)))).squeeze()\n",
    "\n",
    "dataComb = np.hstack((cn.reshape((-1,1)),npClus,typeArray.reshape((-1,1))))\n",
    "df = pd.DataFrame(dataComb,columns=['Cluster Number','Amount','Type'])\n",
    "df"
   ]
  },
  {
   "cell_type": "code",
   "execution_count": 141,
   "id": "8ebebd56",
   "metadata": {},
   "outputs": [
    {
     "data": {
      "image/png": "[encoded data removed]",
      "text/plain": [
       "<Figure size 432x288 with 1 Axes>"
      ]
     },
     "metadata": {
      "needs_background": "light"
     },
     "output_type": "display_data"
    }
   ],
   "source": [
    "ax = sns.barplot(data=df, hue='Type',x='Cluster Number',y='Amount')"
   ]
  },
  {
   "cell_type": "code",
   "execution_count": 144,
   "id": "1038fe02",
   "metadata": {},
   "outputs": [],
   "source": [
    "ax.figure.savefig('Figures/GAN_Figure/ClusterCheck_Generation.svg')"
   ]
  },
  {
   "cell_type": "code",
   "execution_count": null,
   "id": "a0b9a8e8",
   "metadata": {},
   "outputs": [],
   "source": []
  },
  {
   "cell_type": "markdown",
   "id": "fdae1b3d",
   "metadata": {},
   "source": [
    "Figure 3 Looping Endpoints"
   ]
  },
  {
   "cell_type": "code",
   "execution_count": 5,
   "id": "01d7d270",
   "metadata": {},
   "outputs": [
    {
     "name": "stdout",
     "output_type": "stream",
     "text": [
      "Structures Generation Attempts: 16\n",
      "MSE for recon is 0.12 Angstroms\n",
      "Elapsed time: 0.46\n",
      "0.03s per structure\n",
      "No Clash Structures: 7\n",
      "Two Atoms or less Clash Structures: 12\n",
      "Clashed Atoms Mean: 1.38 +/- 1.36\n",
      "Percent Core: 0.13 +/- 0.06\n",
      "Loop Success: 16. Phi Reduced Structures: 199\n",
      "Total time: 11.63\n",
      "Time Per Unique Topology: 0.73s\n",
      "Time Per Phi Bins Struct: 0.06s\n"
     ]
    }
   ],
   "source": [
    "#Looped Endpoints example line\n",
    "le.bb_analyze(\"data/BestGenerator\",batch=16,z=12,loopTry=True,print_output=False,analysisOnly=False, outDirec='output/')"
   ]
  },
  {
   "cell_type": "code",
   "execution_count": 2,
   "id": "8362a95f",
   "metadata": {},
   "outputs": [],
   "source": [
    "#create example of helix_loop_helix for the loop fitting part of loop endpoints\n",
    "#this first method is defunct.\n",
    "prot1 = le.loop_fit_protein(0)\n",
    "nu.dump_npdb(prot1,'Figures/Loop_Figure/exampleLoop.pdb')\n",
    "l2 = hf.HelicalProtein('exampleLoop.pdb',direc='Figures/Loop_Figure/',expected_helices=2)\n",
    "l2.fit_all()\n",
    "l2.dump_endpoints(name='exampleEP',outDirec='Figures/Loop_Figure/')"
   ]
  },
  {
   "cell_type": "code",
   "execution_count": 3,
   "id": "f90e3d8d",
   "metadata": {},
   "outputs": [],
   "source": [
    "#load epList\n",
    "rr = np.load(f'Figures/GAN_Figure/epGenList.npz')\n",
    "epList = [rr[f] for f in rr.files][0]"
   ]
  },
  {
   "cell_type": "code",
   "execution_count": 13,
   "id": "10ae8caf",
   "metadata": {},
   "outputs": [],
   "source": [
    "#example to make e_true and e_guide, changed and now defunct\n",
    "# ep_guide = epList[:8]\n",
    "# #guide/ true endpoint example\n",
    "# n1=100 \n",
    "# neighbors=10\n",
    "# dist_cut=5\n",
    "# phiQueryNum=10\n",
    "# maxTot=5000\n",
    "# maxTotN1=5000\n",
    "# randMult=10\n",
    "\n",
    "# size = 8\n",
    "# build = le.stub.copy()\n",
    "# #ep_guide = end_points.copy()\n",
    "    \n",
    "    \n",
    "# build, extlength = le.first_helix(ep_guide[0]) #create first helix based on length of first/second endpoints\n",
    "# buildList, eguide, etrue, indexTot, clashTot, distTot = le.first_loop_second_helix_phi_rand(build, extlength, ep_guide[0], neighbors=n1,size=size,\n",
    "#                                                       dist_cut=dist_cut, maxTot=maxTotN1, phiQueryNum=phiQueryNum, debug=True, randMult=randMult)\n",
    "# hf.HelicalProtein.makePointPDB(etrue[0][0][:4],'ep_true.pdb',outDirec='Figures/Loop_Figure/guide_true/')\n",
    "# hf.HelicalProtein.makePointPDB(eguide[0][0],'ep_guide.pdb',outDirec='Figures/Loop_Figure/guide_true/')\n",
    "# nu.dump_npdb(buildList[0][0],'Figures/Loop_Figure/guide_true/t_build.pdb')"
   ]
  },
  {
   "cell_type": "code",
   "execution_count": 5,
   "id": "2dcb456b",
   "metadata": {},
   "outputs": [],
   "source": [
    "oD = 'Figures/Loop_Figure/output/reference_1028/'"
   ]
  },
  {
   "cell_type": "code",
   "execution_count": 22,
   "id": "d7a7e28e",
   "metadata": {},
   "outputs": [],
   "source": [
    "#random 1028 from epList to compare to generator\n",
    "indexer = np.random.choice(range(epList.shape[0]),1028 ,replace=False)\n",
    "np.savez_compressed(f'Figures/Loop_Figure/epList_rand1028.npz',ep=epList[indexer])"
   ]
  },
  {
   "cell_type": "code",
   "execution_count": 6,
   "id": "8e00f83d",
   "metadata": {
    "scrolled": true
   },
   "outputs": [
    {
     "name": "stdout",
     "output_type": "stream",
     "text": [
      "Num Endpoints: 1028\n",
      "No Clash Structures: 314\n",
      "2 or less atoms clashes: 789\n",
      "Clashed Atoms Mean: 1.61 +/- 1.27\n",
      "Percent Core: 0.15 +/- 0.05\n",
      "Loop Success: 1020. Total Phi Bins Generated: 12407\n",
      "Total time: 686.89\n",
      "Time Per Unique Topology: 0.67s\n",
      "Time Per Phi Bins Struct: 0.06s\n"
     ]
    }
   ],
   "source": [
    "#reference endpoints\n",
    "le.bb_loop(f'Figures/Loop_Figure/epList_rand1028',z=12,loopTry=True,print_output=False,analysisOnly=False, outDirec=oD)"
   ]
  },
  {
   "cell_type": "code",
   "execution_count": 7,
   "id": "59c79662",
   "metadata": {},
   "outputs": [
    {
     "name": "stdout",
     "output_type": "stream",
     "text": [
      "Structures Generation Attempts: 1028\n",
      "MSE for recon is 0.13 Angstroms\n",
      "Elapsed time: 25.62\n",
      "0.02s per structure\n",
      "No Clash Structures: 292\n",
      "Two Atoms or less Clash Structures: 767\n",
      "Clashed Atoms Mean: 1.71 +/- 1.30\n",
      "Percent Core: 0.13 +/- 0.05\n",
      "Loop Success: 1015. Phi Reduced Structures: 12303\n",
      "Total time: 902.05\n",
      "Time Per Unique Topology: 0.89s\n",
      "Time Per Phi Bins Struct: 0.07s\n"
     ]
    }
   ],
   "source": [
    "oD = 'Figures/Loop_Figure/output/Full_1028/'\n",
    "\n",
    "le.bb_analyze(\"data/BestGenerator\",batch=1028,outDirec=oD,analysisOnly=False,loopTry=True,print_output=False)"
   ]
  },
  {
   "cell_type": "code",
   "execution_count": 8,
   "id": "427ad6ef",
   "metadata": {},
   "outputs": [
    {
     "name": "stdout",
     "output_type": "stream",
     "text": [
      "Structures Generation Attempts: 1028\n",
      "MSE for recon is 0.38 Angstroms\n",
      "Elapsed time: 25.90\n",
      "0.03s per structure\n",
      "No Clash Structures: 289\n",
      "Two Atoms or less Clash Structures: 706\n",
      "Clashed Atoms Mean: 1.79 +/- 1.35\n",
      "Percent Core: 0.12 +/- 0.06\n",
      "Loop Success: 1010. Phi Reduced Structures: 11830\n",
      "Total time: 1090.67\n",
      "Time Per Unique Topology: 1.08s\n",
      "Time Per Phi Bins Struct: 0.09s\n"
     ]
    }
   ],
   "source": [
    "oD = 'Figures/Loop_Figure/output/onePer_1028/'\n",
    "\n",
    "le.bb_analyze(\"data/onePer\",batch=1028,outDirec=oD,analysisOnly=False,loopTry=True,print_output=False)"
   ]
  },
  {
   "cell_type": "markdown",
   "id": "0a5de624",
   "metadata": {},
   "source": [
    "Generation of Looped Protein for Design Test"
   ]
  },
  {
   "cell_type": "code",
   "execution_count": 184,
   "id": "1df3bd4a",
   "metadata": {},
   "outputs": [
    {
     "name": "stdout",
     "output_type": "stream",
     "text": [
      "Structures Generation Attempts: 512\n",
      "MSE for recon is 0.12 Angstroms\n",
      "Elapsed time: 13.36\n",
      "0.03s per structure\n",
      "No Clash Structures: 134\n",
      "Two Atoms or less Clash Structures: 357\n",
      "Clashed Atoms Mean: 1.80 +/- 1.32\n",
      "Percent Core: 0.13 +/- 0.05\n",
      "Loop Success: 503. Phi Reduced Structures: 6040\n",
      "Total time: 452.13\n",
      "Time Per Unique Topology: 0.90s\n",
      "Time Per Phi Bins Struct: 0.07s\n"
     ]
    }
   ],
   "source": [
    "oD = 'Figures/DesignTest/full_Looped_b512/'\n",
    "\n",
    "le.bb_analyze(\"data/BestGenerator\",batch=512,outDirec=oD,analysisOnly=False,loopTry=True,print_output=False)"
   ]
  },
  {
   "cell_type": "code",
   "execution_count": 185,
   "id": "585980d4",
   "metadata": {},
   "outputs": [
    {
     "name": "stdout",
     "output_type": "stream",
     "text": [
      "Structures Generation Attempts: 512\n",
      "MSE for recon is 0.37 Angstroms\n",
      "Elapsed time: 13.63\n",
      "0.03s per structure\n",
      "No Clash Structures: 147\n",
      "Two Atoms or less Clash Structures: 363\n",
      "Clashed Atoms Mean: 1.75 +/- 1.33\n",
      "Percent Core: 0.12 +/- 0.06\n",
      "Loop Success: 503. Phi Reduced Structures: 5927\n",
      "Total time: 635.82\n",
      "Time Per Unique Topology: 1.26s\n",
      "Time Per Phi Bins Struct: 0.11s\n"
     ]
    }
   ],
   "source": [
    "oD = 'Figures/DesignTest/onePer_Looped_b512/'\n",
    "\n",
    "le.bb_analyze(\"data/onePer\",batch=512,outDirec=oD,analysisOnly=False,loopTry=True,print_output=False)"
   ]
  },
  {
   "cell_type": "code",
   "execution_count": null,
   "id": "54fe6705",
   "metadata": {},
   "outputs": [],
   "source": []
  },
  {
   "cell_type": "code",
   "execution_count": null,
   "id": "f467e9ca",
   "metadata": {},
   "outputs": [],
   "source": []
  },
  {
   "cell_type": "markdown",
   "id": "5c43bc60",
   "metadata": {},
   "source": [
    "For the GraphGen Series  \n",
    "This  First Section is defunct low correlation between score and number of missing rotamers, could investigate more "
   ]
  },
  {
   "cell_type": "code",
   "execution_count": 124,
   "id": "3d1f0c3a",
   "metadata": {},
   "outputs": [],
   "source": [
    "#----------------predict_relax------------\n",
    "modelDirec = 'data/4H_dataset/models/'\n",
    "straightDirec = 'data/4H_dataset/str_models/'"
   ]
  },
  {
   "cell_type": "code",
   "execution_count": 130,
   "id": "4aade29c",
   "metadata": {},
   "outputs": [],
   "source": [
    "direc_in = 'Figures/GraphGen_Figure/output/ref_relax_test/'\n",
    "fL = os.listdir(direc_in)"
   ]
  },
  {
   "cell_type": "code",
   "execution_count": 131,
   "id": "d2cfe669",
   "metadata": {},
   "outputs": [],
   "source": [
    "direc = 'Figures/GraphGen_Figure/rmd_calc/'\n",
    "ref = f'reference'\n",
    "ref_rel = 'refseq_relax'"
   ]
  },
  {
   "cell_type": "code",
   "execution_count": 103,
   "id": "98b215a6",
   "metadata": {},
   "outputs": [],
   "source": [
    "def get_seq_pymol(direcName=direc):\n",
    "    \"\"\"record actual sequence from designed protein\"\"\"\n",
    "\n",
    "    cmd.delete(\"all\")\n",
    "    cmd.load(f'{direc}{ref}.pdb')\n",
    "\n",
    "    #get sequence per Atom\n",
    "    stored.resn = []\n",
    "    cmd.iterate_state(1, selector.process(f\"{ref} and *\"), \"stored.resn.append(resn)\")\n",
    "    seqa = ''\n",
    "    for x in stored.resn:\n",
    "        seqa = f'{seqa}{aa.aaCodeExchange(x)}'\n",
    "        \n",
    "    #get sequence\n",
    "    stored.resn = []\n",
    "    cmd.iterate_state(1, selector.process(f\"{ref} and n. CA\"), \"stored.resn.append(resn)\")\n",
    "    seq = ''\n",
    "    for x in stored.resn:\n",
    "        seq = f'{seq}{aa.aaCodeExchange(x)}'\n",
    "\n",
    "    return seqa, seq\n",
    "\n",
    "def get_index(seq,arr=['A','I','L','V','F','M']):\n",
    "    \n",
    "    indexArray = []\n",
    "    \n",
    "    for x in range(len(seq)):\n",
    "        if seq[x] in arr:\n",
    "            indexArray.append(x)\n",
    "            \n",
    "    return indexArray\n"
   ]
  },
  {
   "cell_type": "code",
   "execution_count": 104,
   "id": "e4fc9bb9",
   "metadata": {},
   "outputs": [],
   "source": [
    "def rmsd_calc_refRelax(direcName=direc):\n",
    "    seq_all_atom, seq = get_seq_pymol()\n",
    "    \n",
    "    cmd.delete(\"all\")\n",
    "    cmd.load(f'{direcName}{ref}.pdb')\n",
    "    ref_all = cmd.get_coords(f\"{ref}\", 1)\n",
    "    ref_ca = cmd.get_coords(f\"{ref}  and n. CA\", 1)\n",
    "    \n",
    "    cmd.delete(\"all\")\n",
    "    cmd.load(f'{direcName}{ref_rel}.pdb')\n",
    "    ref_relax_all = cmd.get_coords(f\"{ref_rel}\", 1)\n",
    "    ref_relax_ca = cmd.get_coords(f\"{ref_rel}  and n. CA\", 1)\n",
    "    \n",
    "    #index just the hydrophobics\n",
    "    diff_ca = ref_ca - ref_relax_ca\n",
    "    diff_all = ref_all - ref_relax_all\n",
    "    \n",
    "    d_ca = np.linalg.norm(diff_ca,axis=1)\n",
    "    d_all = np.linalg.norm(diff_all,axis=1)\n",
    "    \n",
    "    return d_ca, d_all\n",
    "    "
   ]
  },
  {
   "cell_type": "code",
   "execution_count": 117,
   "id": "4aa81f71",
   "metadata": {},
   "outputs": [],
   "source": [
    "def perAA_msd(direcName=direc):\n",
    "    seq_all_atom, seq = get_seq_pymol()\n",
    "    \n",
    "    ref_aa = []\n",
    "    ref_rel_aa = []\n",
    "    \n",
    "    cmd.delete(\"all\")\n",
    "    cmd.load(f'{direcName}{ref}.pdb')\n",
    "    \n",
    "    for x in range(len(seq)):\n",
    "        aaXYZ = cmd.get_coords(f'{ref}  and resi {x+1}', 1)\n",
    "        ref_aa.append(aaXYZ)\n",
    "        \n",
    "    cmd.delete(\"all\")\n",
    "    cmd.load(f'{direcName}{ref_rel}.pdb')\n",
    "    \n",
    "    for x in range(len(seq)):\n",
    "        aaXYZ = cmd.get_coords(f'{ref_rel}  and resi {x+1}', 1)\n",
    "        ref_rel_aa.append(aaXYZ)\n",
    "    \n",
    "    max_msd_aa = []\n",
    "    \n",
    "    for x in range(len(seq)):\n",
    "        max_msd_aa.append(np.max(np.linalg.norm(ref_aa[x] - ref_rel_aa[x],axis=1)))\n",
    "\n",
    "    \n",
    "    return np.array(max_msd_aa)\n",
    "        \n",
    "    \n",
    "    "
   ]
  },
  {
   "cell_type": "code",
   "execution_count": 136,
   "id": "c66245d3",
   "metadata": {},
   "outputs": [],
   "source": [
    "rotamer_change = []\n",
    "limit = 10\n",
    "counter = 0\n",
    "\n",
    "msd_aa_hydro = []\n",
    "d_ca_hydro = []\n",
    "\n",
    "for x in fL:\n",
    "    name = x[:-13]\n",
    "    name_rel = x[:-4]\n",
    "    cmd.delete(\"all\")\n",
    "    cmd.load(f'{modelDirec}{name}.pdb')\n",
    "    cmd.load(f'{direc_in}{name_rel}.pdb')\n",
    "    cmd.super(name, name_rel)\n",
    "    cmd.save(f'{direc}{ref}.pdb', selection=name)\n",
    "    cmd.save(f'{direc}{ref_rel}.pdb', selection=name_rel)\n",
    "    seq_all_atom, seq = get_seq_pymol()\n",
    "    ind_all = np.array(get_index(seq_all_atom)) #returns indices of AIFLV AA's\n",
    "    ind = np.array(get_index(seq))\n",
    "    \n",
    "    msd_aa = perAA_msd()\n",
    "    d_ca, d_all = rmsd_calc_refRelax()\n",
    "    \n",
    "    msd_aa = msd_aa[ind]\n",
    "    d_ca = d_ca[ind]\n",
    "    \n",
    "    rotamer_change.append([name,sum(msd_aa>1.5)])\n",
    "    \n",
    "    msd_aa_hydro.append(msd_aa)\n",
    "    d_ca_hydro.append(d_ca)"
   ]
  },
  {
   "cell_type": "code",
   "execution_count": 172,
   "id": "951feaef",
   "metadata": {},
   "outputs": [
    {
     "name": "stderr",
     "output_type": "stream",
     "text": [
      "<ipython-input-172-446b425ba99b>:1: VisibleDeprecationWarning: Creating an ndarray from ragged nested sequences (which is a list-or-tuple of lists-or-tuples-or ndarrays with different lengths or shapes) is deprecated. If you meant to do this, you must specify 'dtype=object' when creating the ndarray.\n",
      "  df_rmsd = np.hstack((rotamer_change,np.array(msd_aa_hydro).reshape(-1,1),np.array(d_ca_hydro).reshape(-1,1)))\n"
     ]
    }
   ],
   "source": [
    "df_rmsd = np.hstack((rotamer_change,np.array(msd_aa_hydro).reshape(-1,1),np.array(d_ca_hydro).reshape(-1,1)))\n",
    "df_rmsd = pd.DataFrame(df_rmsd,columns=['name','RotWrong','msd_aa','ca_msd'])"
   ]
  },
  {
   "cell_type": "code",
   "execution_count": 173,
   "id": "106bad5b",
   "metadata": {},
   "outputs": [
    {
     "data": {
      "text/html": [
       "<div>\n",
       "<style scoped>\n",
       "    .dataframe tbody tr th:only-of-type {\n",
       "        vertical-align: middle;\n",
       "    }\n",
       "\n",
       "    .dataframe tbody tr th {\n",
       "        vertical-align: top;\n",
       "    }\n",
       "\n",
       "    .dataframe thead th {\n",
       "        text-align: right;\n",
       "    }\n",
       "</style>\n",
       "<table border=\"1\" class=\"dataframe\">\n",
       "  <thead>\n",
       "    <tr style=\"text-align: right;\">\n",
       "      <th></th>\n",
       "      <th>name</th>\n",
       "      <th>RotWrong</th>\n",
       "      <th>msd_aa</th>\n",
       "      <th>ca_msd</th>\n",
       "    </tr>\n",
       "  </thead>\n",
       "  <tbody>\n",
       "    <tr>\n",
       "      <th>0</th>\n",
       "      <td>0002182ba9e87d7b0d6b7d16b7001923_0001</td>\n",
       "      <td>3</td>\n",
       "      <td>[0.6295118, 0.69549274, 0.6353631, 0.45776635,...</td>\n",
       "      <td>[0.4940537, 0.369332, 0.23803343, 0.279782, 0....</td>\n",
       "    </tr>\n",
       "    <tr>\n",
       "      <th>1</th>\n",
       "      <td>000877380acb95e21726d9df052ec962_0001</td>\n",
       "      <td>3</td>\n",
       "      <td>[0.5692838, 0.27968004, 0.4156457, 3.4844878, ...</td>\n",
       "      <td>[0.2787364, 0.18250757, 0.29595578, 0.51076984...</td>\n",
       "    </tr>\n",
       "    <tr>\n",
       "      <th>2</th>\n",
       "      <td>0009c3faef123ed29e447cf47337d656_0001_1</td>\n",
       "      <td>4</td>\n",
       "      <td>[0.2720643, 0.49752465, 0.71007186, 4.5127707,...</td>\n",
       "      <td>[0.2379771, 0.42500806, 0.29450598, 0.59163684...</td>\n",
       "    </tr>\n",
       "    <tr>\n",
       "      <th>3</th>\n",
       "      <td>000b40b97b3761973c100b7325f5bf41_0001_1</td>\n",
       "      <td>5</td>\n",
       "      <td>[3.9889429, 0.69999224, 0.4738529, 1.1594276, ...</td>\n",
       "      <td>[0.3522059, 0.43206617, 0.30024657, 0.5210696,...</td>\n",
       "    </tr>\n",
       "    <tr>\n",
       "      <th>4</th>\n",
       "      <td>001126bfe8b2f13d0bd52996ae0b77e8_0001_1</td>\n",
       "      <td>5</td>\n",
       "      <td>[0.73133504, 5.0132637, 0.8628743, 0.50977856,...</td>\n",
       "      <td>[0.6071459, 0.64689183, 0.48766473, 0.28169495...</td>\n",
       "    </tr>\n",
       "  </tbody>\n",
       "</table>\n",
       "</div>"
      ],
      "text/plain": [
       "                                      name RotWrong  \\\n",
       "0    0002182ba9e87d7b0d6b7d16b7001923_0001        3   \n",
       "1    000877380acb95e21726d9df052ec962_0001        3   \n",
       "2  0009c3faef123ed29e447cf47337d656_0001_1        4   \n",
       "3  000b40b97b3761973c100b7325f5bf41_0001_1        5   \n",
       "4  001126bfe8b2f13d0bd52996ae0b77e8_0001_1        5   \n",
       "\n",
       "                                              msd_aa  \\\n",
       "0  [0.6295118, 0.69549274, 0.6353631, 0.45776635,...   \n",
       "1  [0.5692838, 0.27968004, 0.4156457, 3.4844878, ...   \n",
       "2  [0.2720643, 0.49752465, 0.71007186, 4.5127707,...   \n",
       "3  [3.9889429, 0.69999224, 0.4738529, 1.1594276, ...   \n",
       "4  [0.73133504, 5.0132637, 0.8628743, 0.50977856,...   \n",
       "\n",
       "                                              ca_msd  \n",
       "0  [0.4940537, 0.369332, 0.23803343, 0.279782, 0....  \n",
       "1  [0.2787364, 0.18250757, 0.29595578, 0.51076984...  \n",
       "2  [0.2379771, 0.42500806, 0.29450598, 0.59163684...  \n",
       "3  [0.3522059, 0.43206617, 0.30024657, 0.5210696,...  \n",
       "4  [0.6071459, 0.64689183, 0.48766473, 0.28169495...  "
      ]
     },
     "execution_count": 173,
     "metadata": {},
     "output_type": "execute_result"
    }
   ],
   "source": [
    "df_rmsd.head()"
   ]
  },
  {
   "cell_type": "code",
   "execution_count": 179,
   "id": "d238f33e",
   "metadata": {},
   "outputs": [
    {
     "data": {
      "text/html": [
       "<div>\n",
       "<style scoped>\n",
       "    .dataframe tbody tr th:only-of-type {\n",
       "        vertical-align: middle;\n",
       "    }\n",
       "\n",
       "    .dataframe tbody tr th {\n",
       "        vertical-align: top;\n",
       "    }\n",
       "\n",
       "    .dataframe thead th {\n",
       "        text-align: right;\n",
       "    }\n",
       "</style>\n",
       "<table border=\"1\" class=\"dataframe\">\n",
       "  <thead>\n",
       "    <tr style=\"text-align: right;\">\n",
       "      <th></th>\n",
       "      <th>name</th>\n",
       "      <th>RotWrong</th>\n",
       "      <th>msd_aa</th>\n",
       "      <th>ca_msd</th>\n",
       "      <th>seq</th>\n",
       "      <th>spr</th>\n",
       "      <th>time</th>\n",
       "      <th>Name</th>\n",
       "    </tr>\n",
       "  </thead>\n",
       "  <tbody>\n",
       "    <tr>\n",
       "      <th>0</th>\n",
       "      <td>0002182ba9e87d7b0d6b7d16b7001923_0001</td>\n",
       "      <td>3</td>\n",
       "      <td>[0.6295118, 0.69549274, 0.6353631, 0.45776635,...</td>\n",
       "      <td>[0.4940537, 0.369332, 0.23803343, 0.279782, 0....</td>\n",
       "      <td>MIEELLEKALARNASEELLKKAAEKIEEHKKAKSKEYEKALKLLEE...</td>\n",
       "      <td>-2.241017</td>\n",
       "      <td>21.385715</td>\n",
       "      <td>gg_orig</td>\n",
       "    </tr>\n",
       "    <tr>\n",
       "      <th>1</th>\n",
       "      <td>0002182ba9e87d7b0d6b7d16b7001923_0001</td>\n",
       "      <td>3</td>\n",
       "      <td>[0.6295118, 0.69549274, 0.6353631, 0.45776635,...</td>\n",
       "      <td>[0.4940537, 0.369332, 0.23803343, 0.279782, 0....</td>\n",
       "      <td>SLEELLEEARKLGVPPELLERVEELLKELEERGDPRREEVRRLLEE...</td>\n",
       "      <td>-2.394907</td>\n",
       "      <td>31.892265</td>\n",
       "      <td>gg_new</td>\n",
       "    </tr>\n",
       "    <tr>\n",
       "      <th>2</th>\n",
       "      <td>0002182ba9e87d7b0d6b7d16b7001923_0001</td>\n",
       "      <td>3</td>\n",
       "      <td>[0.6295118, 0.69549274, 0.6353631, 0.45776635,...</td>\n",
       "      <td>[0.4940537, 0.369332, 0.23803343, 0.279782, 0....</td>\n",
       "      <td>SLDEILETLKELGVPPELLEEVKKVLEELERRGDPKREEVRRLLEE...</td>\n",
       "      <td>-2.643990</td>\n",
       "      <td>37.128287</td>\n",
       "      <td>ref_relax</td>\n",
       "    </tr>\n",
       "    <tr>\n",
       "      <th>3</th>\n",
       "      <td>000877380acb95e21726d9df052ec962_0001</td>\n",
       "      <td>3</td>\n",
       "      <td>[0.5692838, 0.27968004, 0.4156457, 3.4844878, ...</td>\n",
       "      <td>[0.2787364, 0.18250757, 0.29595578, 0.51076984...</td>\n",
       "      <td>SMALEKLKEAMAAKDVEALAAECAALAAARAAGSAEAAAAAAALAA...</td>\n",
       "      <td>-1.887903</td>\n",
       "      <td>10.228325</td>\n",
       "      <td>gg_orig</td>\n",
       "    </tr>\n",
       "    <tr>\n",
       "      <th>4</th>\n",
       "      <td>000877380acb95e21726d9df052ec962_0001</td>\n",
       "      <td>3</td>\n",
       "      <td>[0.5692838, 0.27968004, 0.4156457, 3.4844878, ...</td>\n",
       "      <td>[0.2787364, 0.18250757, 0.29595578, 0.51076984...</td>\n",
       "      <td>DELEEELRRALEEGDEELLRRILEEIVRLLKEGDPRAKKVLEKLEE...</td>\n",
       "      <td>-2.668185</td>\n",
       "      <td>20.834725</td>\n",
       "      <td>gg_new</td>\n",
       "    </tr>\n",
       "  </tbody>\n",
       "</table>\n",
       "</div>"
      ],
      "text/plain": [
       "                                    name RotWrong  \\\n",
       "0  0002182ba9e87d7b0d6b7d16b7001923_0001        3   \n",
       "1  0002182ba9e87d7b0d6b7d16b7001923_0001        3   \n",
       "2  0002182ba9e87d7b0d6b7d16b7001923_0001        3   \n",
       "3  000877380acb95e21726d9df052ec962_0001        3   \n",
       "4  000877380acb95e21726d9df052ec962_0001        3   \n",
       "\n",
       "                                              msd_aa  \\\n",
       "0  [0.6295118, 0.69549274, 0.6353631, 0.45776635,...   \n",
       "1  [0.6295118, 0.69549274, 0.6353631, 0.45776635,...   \n",
       "2  [0.6295118, 0.69549274, 0.6353631, 0.45776635,...   \n",
       "3  [0.5692838, 0.27968004, 0.4156457, 3.4844878, ...   \n",
       "4  [0.5692838, 0.27968004, 0.4156457, 3.4844878, ...   \n",
       "\n",
       "                                              ca_msd  \\\n",
       "0  [0.4940537, 0.369332, 0.23803343, 0.279782, 0....   \n",
       "1  [0.4940537, 0.369332, 0.23803343, 0.279782, 0....   \n",
       "2  [0.4940537, 0.369332, 0.23803343, 0.279782, 0....   \n",
       "3  [0.2787364, 0.18250757, 0.29595578, 0.51076984...   \n",
       "4  [0.2787364, 0.18250757, 0.29595578, 0.51076984...   \n",
       "\n",
       "                                                 seq       spr       time  \\\n",
       "0  MIEELLEKALARNASEELLKKAAEKIEEHKKAKSKEYEKALKLLEE... -2.241017  21.385715   \n",
       "1  SLEELLEEARKLGVPPELLERVEELLKELEERGDPRREEVRRLLEE... -2.394907  31.892265   \n",
       "2  SLDEILETLKELGVPPELLEEVKKVLEELERRGDPKREEVRRLLEE... -2.643990  37.128287   \n",
       "3  SMALEKLKEAMAAKDVEALAAECAALAAARAAGSAEAAAAAAALAA... -1.887903  10.228325   \n",
       "4  DELEEELRRALEEGDEELLRRILEEIVRLLKEGDPRAKKVLEKLEE... -2.668185  20.834725   \n",
       "\n",
       "        Name  \n",
       "0    gg_orig  \n",
       "1     gg_new  \n",
       "2  ref_relax  \n",
       "3    gg_orig  \n",
       "4     gg_new  "
      ]
     },
     "execution_count": 179,
     "metadata": {},
     "output_type": "execute_result"
    }
   ],
   "source": [
    "df_rotGraph.head()"
   ]
  },
  {
   "cell_type": "code",
   "execution_count": 178,
   "id": "8bdfa676",
   "metadata": {},
   "outputs": [],
   "source": [
    "df_rotGraph = pd.merge(df_rmsd, df_tot, on=['name'])"
   ]
  },
  {
   "cell_type": "code",
   "execution_count": 182,
   "id": "0567105d",
   "metadata": {},
   "outputs": [
    {
     "data": {
      "text/plain": [
       "<AxesSubplot:xlabel='RotWrong', ylabel='spr'>"
      ]
     },
     "execution_count": 182,
     "metadata": {},
     "output_type": "execute_result"
    },
    {
     "data": {
      "image/png": "[encoded data removed]",
      "text/plain": [
       "<Figure size 432x288 with 1 Axes>"
      ]
     },
     "metadata": {
      "needs_background": "light"
     },
     "output_type": "display_data"
    }
   ],
   "source": [
    "sns.scatterplot(data=df_rotGraph.loc[df_rotGraph['Name']=='ref_relax'], x='RotWrong', y='spr')"
   ]
  },
  {
   "cell_type": "code",
   "execution_count": 167,
   "id": "cef8b322",
   "metadata": {},
   "outputs": [
    {
     "name": "stderr",
     "output_type": "stream",
     "text": [
      "<ipython-input-167-bda9b283e37b>:1: VisibleDeprecationWarning: Creating an ndarray from ragged nested sequences (which is a list-or-tuple of lists-or-tuples-or ndarrays with different lengths or shapes) is deprecated. If you meant to do this, you must specify 'dtype=object' when creating the ndarray.\n",
      "  np.array(msd_aa_hydro).shape\n"
     ]
    },
    {
     "data": {
      "text/plain": [
       "(8431,)"
      ]
     },
     "execution_count": 167,
     "metadata": {},
     "output_type": "execute_result"
    }
   ],
   "source": [
    "np.array(msd_aa_hydro).shape"
   ]
  },
  {
   "cell_type": "markdown",
   "id": "8c0aa9e4",
   "metadata": {},
   "source": [
    "GraphGen Stats Data - actually used"
   ]
  },
  {
   "cell_type": "code",
   "execution_count": 26,
   "id": "8ef0026d",
   "metadata": {},
   "outputs": [],
   "source": [
    "def openArray(name,direc='Figures/GraphGen_Figure/output/'):\n",
    "    \n",
    "    with open(f'{direc}/{name}_nameList.pkl', 'rb') as f:\n",
    "        nameList = pickle.load(f)\n",
    "    with open(f'{direc}/{name}_scoreList.pkl', 'rb') as f:\n",
    "        scoreList = pickle.load(f)\n",
    "        \n",
    "    return nameList, scoreList\n",
    "def extract_spr(scoresList):\n",
    "    \n",
    "    outList = []\n",
    "    #get total score and normalize to sequence length, final score needs associated sequence in different array place\n",
    "    for x in scoresList:\n",
    "        inner = []\n",
    "        for y in range(len(x)):\n",
    "            if y == 2:\n",
    "                inner.append(x[y]['total_score']/len(x[1])) #score/res\n",
    "            else:  \n",
    "                inner.append(x[y])\n",
    "        outList.append(inner)\n",
    "        \n",
    "    return outList\n",
    "\n",
    "def buildNum_Column(nameList):\n",
    "    buildNum_List = []\n",
    "    for x in nameList:\n",
    "        buildNum_List.append(int(x.split('_')[0][5:]))\n",
    "        \n",
    "    return buildNum_List\n",
    "        "
   ]
  },
  {
   "cell_type": "code",
   "execution_count": 62,
   "id": "bebd7f04",
   "metadata": {},
   "outputs": [],
   "source": [
    "cols =['name','seq','spr','time']\n",
    "\n",
    "nL1, sL = openArray('refRelax')\n",
    "sL_ref_relax = extract_spr(sL)\n",
    "\n",
    "\n",
    "df_r = pd.DataFrame(sL_ref_relax,columns=cols)\n",
    "df_r['Name']='ref_relax'\n",
    "\n",
    "nL2, sL = openArray('gg_orig')\n",
    "sL_gg_orig = extract_spr(sL)\n",
    "\n",
    "\n",
    "df_o = pd.DataFrame(sL_gg_orig,columns=cols)\n",
    "df_o['Name']='gg_orig'\n",
    "\n",
    "nL3, sL = openArray('gg_new')\n",
    "sL_gg_new = extract_spr(sL)\n",
    "\n",
    "df_g = pd.DataFrame(sL_gg_new,columns=cols)\n",
    "df_g['Name']='gg_new'"
   ]
  },
  {
   "cell_type": "code",
   "execution_count": 63,
   "id": "4f3d8f96",
   "metadata": {},
   "outputs": [],
   "source": [
    "spr ='spr'"
   ]
  },
  {
   "cell_type": "code",
   "execution_count": 64,
   "id": "73fa0218",
   "metadata": {},
   "outputs": [
    {
     "name": "stdout",
     "output_type": "stream",
     "text": [
      "score per res median for new graph gen is : -2.55\n",
      "score per res median for original graph gen is : -2.04\n",
      "score per res median for reference graph gen is : -2.64\n"
     ]
    }
   ],
   "source": [
    "spr ='spr'\n",
    "print(f'score per res median for new graph gen is : {df_g[spr].median():.2f}')\n",
    "print(f'score per res median for original graph gen is : {df_o[spr].median():.2f}')\n",
    "print(f'score per res median for reference graph gen is : {df_r[spr].median():.2f}')"
   ]
  },
  {
   "cell_type": "code",
   "execution_count": 65,
   "id": "caaf6cd6",
   "metadata": {},
   "outputs": [
    {
     "name": "stdout",
     "output_type": "stream",
     "text": [
      "average design time for new graph gen is : 14.64s\n",
      "average design time for original graph gen is : 12.16s\n",
      "average design time for reference graph gen is : 15.31s\n"
     ]
    }
   ],
   "source": [
    "spr ='time'\n",
    "print(f'average design time for new graph gen is : {df_g[spr].mean():.2f}s')\n",
    "print(f'average design time for original graph gen is : {df_o[spr].mean():.2f}s')\n",
    "print(f'average design time for reference graph gen is : {df_r[spr].mean():.2f}s')"
   ]
  },
  {
   "cell_type": "code",
   "execution_count": 66,
   "id": "5cb68a18",
   "metadata": {},
   "outputs": [],
   "source": [
    "#pull s\n",
    "def openArray_ref(direc):\n",
    "    \n",
    "    with open(f'{direc}nameList.pkl', 'rb') as f:\n",
    "        nameList = pickle.load(f)\n",
    "    with open(f'{direc}scoreList.pkl', 'rb') as f:\n",
    "        scoreList = pickle.load(f)\n",
    "        \n",
    "    return nameList, scoreList\n",
    "def make_dict_ref(nameList,scoreList,removeExt=False):\n",
    "    \n",
    "    s = dict()\n",
    "    \n",
    "    for x in range(len(nameList)):\n",
    "        if removeExt:\n",
    "            name = nameList[x][:-4]\n",
    "        else:\n",
    "            name = nameList[x]\n",
    "        s[name] = scoreList[x][2]['total_score']/len(scoreList[x][1])\n",
    "        \n",
    "    return s\n",
    "\n",
    "nLr, sLr = openArray_ref(direc=f'Figures/GraphGen_Figure/output/ref_')\n",
    "ref_dict = make_dict_ref(nLr,sLr,removeExt=False)\n",
    "    "
   ]
  },
  {
   "cell_type": "code",
   "execution_count": 67,
   "id": "28d2669d",
   "metadata": {},
   "outputs": [],
   "source": [
    "df_rr = df_r.copy()\n",
    "df_rr['time']= np.NAN\n",
    "df_rr['Name']='ref_set'\n",
    "df_rr['spr']=df_rr['name'].map(ref_dict)"
   ]
  },
  {
   "cell_type": "code",
   "execution_count": 68,
   "id": "53d3789f",
   "metadata": {},
   "outputs": [
    {
     "data": {
      "text/html": [
       "<div>\n",
       "<style scoped>\n",
       "    .dataframe tbody tr th:only-of-type {\n",
       "        vertical-align: middle;\n",
       "    }\n",
       "\n",
       "    .dataframe tbody tr th {\n",
       "        vertical-align: top;\n",
       "    }\n",
       "\n",
       "    .dataframe thead th {\n",
       "        text-align: right;\n",
       "    }\n",
       "</style>\n",
       "<table border=\"1\" class=\"dataframe\">\n",
       "  <thead>\n",
       "    <tr style=\"text-align: right;\">\n",
       "      <th></th>\n",
       "      <th>name</th>\n",
       "      <th>seq</th>\n",
       "      <th>spr</th>\n",
       "      <th>time</th>\n",
       "      <th>Name</th>\n",
       "    </tr>\n",
       "  </thead>\n",
       "  <tbody>\n",
       "    <tr>\n",
       "      <th>0</th>\n",
       "      <td>0002182ba9e87d7b0d6b7d16b7001923_0001</td>\n",
       "      <td>SLDEILETLKELGVPPELLEEVKKVLEELERRGDPKREEVRRLLEE...</td>\n",
       "      <td>-2.894166</td>\n",
       "      <td>NaN</td>\n",
       "      <td>ref_set</td>\n",
       "    </tr>\n",
       "    <tr>\n",
       "      <th>1</th>\n",
       "      <td>000877380acb95e21726d9df052ec962_0001</td>\n",
       "      <td>DELEERVREALERGDPELLRKILRELVELLKKGDPEARKVLEILEE...</td>\n",
       "      <td>-2.807201</td>\n",
       "      <td>NaN</td>\n",
       "      <td>ref_set</td>\n",
       "    </tr>\n",
       "    <tr>\n",
       "      <th>2</th>\n",
       "      <td>0009c3faef123ed29e447cf47337d656_0001_1</td>\n",
       "      <td>SEDVEETAKELLERGTVEEFLKELKEELKERGDPELEKLLEKAEEL...</td>\n",
       "      <td>-2.799184</td>\n",
       "      <td>NaN</td>\n",
       "      <td>ref_set</td>\n",
       "    </tr>\n",
       "    <tr>\n",
       "      <th>3</th>\n",
       "      <td>000b40b97b3761973c100b7325f5bf41_0001_1</td>\n",
       "      <td>PEEEELKRLAKELGNPELAKLIELLLELLKQGDPDAEEALRLVKEL...</td>\n",
       "      <td>-2.772415</td>\n",
       "      <td>NaN</td>\n",
       "      <td>ref_set</td>\n",
       "    </tr>\n",
       "    <tr>\n",
       "      <th>4</th>\n",
       "      <td>001126bfe8b2f13d0bd52996ae0b77e8_0001_1</td>\n",
       "      <td>SDEELIEEIVEKLGLPPELREVARLIIELVKKGVPPEEVKELAKKL...</td>\n",
       "      <td>-2.904153</td>\n",
       "      <td>NaN</td>\n",
       "      <td>ref_set</td>\n",
       "    </tr>\n",
       "    <tr>\n",
       "      <th>...</th>\n",
       "      <td>...</td>\n",
       "      <td>...</td>\n",
       "      <td>...</td>\n",
       "      <td>...</td>\n",
       "      <td>...</td>\n",
       "    </tr>\n",
       "    <tr>\n",
       "      <th>11551</th>\n",
       "      <td>fff4e785597a4ff34da351291ce419a0_0001</td>\n",
       "      <td>SELEERIEEAIRRGDKDLFERLIRELIKRLKEGDPEAEEILRRVEE...</td>\n",
       "      <td>-2.798456</td>\n",
       "      <td>NaN</td>\n",
       "      <td>ref_set</td>\n",
       "    </tr>\n",
       "    <tr>\n",
       "      <th>11552</th>\n",
       "      <td>fff532a1f3bd52993b00d58dc306e14c_0001_1</td>\n",
       "      <td>SLRELAKEIRRTFPPEEVVELLLELARELGDPEVVRVAEELLERLR...</td>\n",
       "      <td>-2.860219</td>\n",
       "      <td>NaN</td>\n",
       "      <td>ref_set</td>\n",
       "    </tr>\n",
       "    <tr>\n",
       "      <th>11553</th>\n",
       "      <td>fff8daf3a52878a3bf78d4aa4fd68612_0001_1</td>\n",
       "      <td>SIEELLELIKRLLPPELRERVERIIEEAKRLAGGDPELAEELFEKL...</td>\n",
       "      <td>-2.769021</td>\n",
       "      <td>NaN</td>\n",
       "      <td>ref_set</td>\n",
       "    </tr>\n",
       "    <tr>\n",
       "      <th>11554</th>\n",
       "      <td>fffaaf5372bf5d4f67462faa60fe4466_0001</td>\n",
       "      <td>GPEEREEIRKLLERLPPEEVKKLIEKIAKELGLPPEEIEKLKELVE...</td>\n",
       "      <td>-2.908331</td>\n",
       "      <td>NaN</td>\n",
       "      <td>ref_set</td>\n",
       "    </tr>\n",
       "    <tr>\n",
       "      <th>11555</th>\n",
       "      <td>fffab47f11ab9cbb43a0143b90b3e454_0001</td>\n",
       "      <td>SEVEEIKRLVKEIGDPREIKKLVEKLLRELGKYSPEEIRELLEKVE...</td>\n",
       "      <td>-2.818477</td>\n",
       "      <td>NaN</td>\n",
       "      <td>ref_set</td>\n",
       "    </tr>\n",
       "  </tbody>\n",
       "</table>\n",
       "<p>11556 rows × 5 columns</p>\n",
       "</div>"
      ],
      "text/plain": [
       "                                          name  \\\n",
       "0        0002182ba9e87d7b0d6b7d16b7001923_0001   \n",
       "1        000877380acb95e21726d9df052ec962_0001   \n",
       "2      0009c3faef123ed29e447cf47337d656_0001_1   \n",
       "3      000b40b97b3761973c100b7325f5bf41_0001_1   \n",
       "4      001126bfe8b2f13d0bd52996ae0b77e8_0001_1   \n",
       "...                                        ...   \n",
       "11551    fff4e785597a4ff34da351291ce419a0_0001   \n",
       "11552  fff532a1f3bd52993b00d58dc306e14c_0001_1   \n",
       "11553  fff8daf3a52878a3bf78d4aa4fd68612_0001_1   \n",
       "11554    fffaaf5372bf5d4f67462faa60fe4466_0001   \n",
       "11555    fffab47f11ab9cbb43a0143b90b3e454_0001   \n",
       "\n",
       "                                                     seq       spr  time  \\\n",
       "0      SLDEILETLKELGVPPELLEEVKKVLEELERRGDPKREEVRRLLEE... -2.894166   NaN   \n",
       "1      DELEERVREALERGDPELLRKILRELVELLKKGDPEARKVLEILEE... -2.807201   NaN   \n",
       "2      SEDVEETAKELLERGTVEEFLKELKEELKERGDPELEKLLEKAEEL... -2.799184   NaN   \n",
       "3      PEEEELKRLAKELGNPELAKLIELLLELLKQGDPDAEEALRLVKEL... -2.772415   NaN   \n",
       "4      SDEELIEEIVEKLGLPPELREVARLIIELVKKGVPPEEVKELAKKL... -2.904153   NaN   \n",
       "...                                                  ...       ...   ...   \n",
       "11551  SELEERIEEAIRRGDKDLFERLIRELIKRLKEGDPEAEEILRRVEE... -2.798456   NaN   \n",
       "11552  SLRELAKEIRRTFPPEEVVELLLELARELGDPEVVRVAEELLERLR... -2.860219   NaN   \n",
       "11553  SIEELLELIKRLLPPELRERVERIIEEAKRLAGGDPELAEELFEKL... -2.769021   NaN   \n",
       "11554  GPEEREEIRKLLERLPPEEVKKLIEKIAKELGLPPEEIEKLKELVE... -2.908331   NaN   \n",
       "11555  SEVEEIKRLVKEIGDPREIKKLVEKLLRELGKYSPEEIRELLEKVE... -2.818477   NaN   \n",
       "\n",
       "          Name  \n",
       "0      ref_set  \n",
       "1      ref_set  \n",
       "2      ref_set  \n",
       "3      ref_set  \n",
       "4      ref_set  \n",
       "...        ...  \n",
       "11551  ref_set  \n",
       "11552  ref_set  \n",
       "11553  ref_set  \n",
       "11554  ref_set  \n",
       "11555  ref_set  \n",
       "\n",
       "[11556 rows x 5 columns]"
      ]
     },
     "execution_count": 68,
     "metadata": {},
     "output_type": "execute_result"
    }
   ],
   "source": [
    "df_rr"
   ]
  },
  {
   "cell_type": "code",
   "execution_count": 69,
   "id": "8653b5ce",
   "metadata": {},
   "outputs": [],
   "source": [
    "df_tot = pd.concat([df_o,df_g,df_r])"
   ]
  },
  {
   "cell_type": "code",
   "execution_count": 70,
   "id": "d5d94855",
   "metadata": {},
   "outputs": [],
   "source": [
    "df_tot2 = pd.concat([df_o,df_r])"
   ]
  },
  {
   "cell_type": "code",
   "execution_count": 71,
   "id": "33fcf43b",
   "metadata": {},
   "outputs": [],
   "source": [
    "df_tot3 = pd.concat([df_r,df_rr])"
   ]
  },
  {
   "cell_type": "code",
   "execution_count": 72,
   "id": "74a54188",
   "metadata": {},
   "outputs": [
    {
     "data": {
      "text/html": [
       "<div>\n",
       "<style scoped>\n",
       "    .dataframe tbody tr th:only-of-type {\n",
       "        vertical-align: middle;\n",
       "    }\n",
       "\n",
       "    .dataframe tbody tr th {\n",
       "        vertical-align: top;\n",
       "    }\n",
       "\n",
       "    .dataframe thead th {\n",
       "        text-align: right;\n",
       "    }\n",
       "</style>\n",
       "<table border=\"1\" class=\"dataframe\">\n",
       "  <thead>\n",
       "    <tr style=\"text-align: right;\">\n",
       "      <th></th>\n",
       "      <th>name</th>\n",
       "      <th>seq</th>\n",
       "      <th>spr</th>\n",
       "      <th>time</th>\n",
       "      <th>Name</th>\n",
       "    </tr>\n",
       "  </thead>\n",
       "  <tbody>\n",
       "    <tr>\n",
       "      <th>0</th>\n",
       "      <td>0002182ba9e87d7b0d6b7d16b7001923_0001</td>\n",
       "      <td>MIEELLEKALARNASEELLKKAAEKIEEHKKAKSKEYEKALKLLEE...</td>\n",
       "      <td>-2.241017</td>\n",
       "      <td>21.385715</td>\n",
       "      <td>gg_orig</td>\n",
       "    </tr>\n",
       "    <tr>\n",
       "      <th>1</th>\n",
       "      <td>000877380acb95e21726d9df052ec962_0001</td>\n",
       "      <td>SMALEKLKEAMAAKDVEALAAECAALAAARAAGSAEAAAAAAALAA...</td>\n",
       "      <td>-1.887903</td>\n",
       "      <td>10.228325</td>\n",
       "      <td>gg_orig</td>\n",
       "    </tr>\n",
       "    <tr>\n",
       "      <th>2</th>\n",
       "      <td>0009c3faef123ed29e447cf47337d656_0001_1</td>\n",
       "      <td>MEEALEEARRLAEARDAAAAFAAARARAREARREAAEAAAAAAEAA...</td>\n",
       "      <td>-1.891431</td>\n",
       "      <td>10.653046</td>\n",
       "      <td>gg_orig</td>\n",
       "    </tr>\n",
       "    <tr>\n",
       "      <th>3</th>\n",
       "      <td>000b40b97b3761973c100b7325f5bf41_0001_1</td>\n",
       "      <td>MLAEEAIAAAKRAKEAAAAERVRAAAAAVERRAAAAAAALAAFLEH...</td>\n",
       "      <td>-1.736683</td>\n",
       "      <td>7.140037</td>\n",
       "      <td>gg_orig</td>\n",
       "    </tr>\n",
       "    <tr>\n",
       "      <th>4</th>\n",
       "      <td>001126bfe8b2f13d0bd52996ae0b77e8_0001_1</td>\n",
       "      <td>MLEEKAKAIAEELNSDENHVKLALKAMECLLSNEDIEKCLEKAKEE...</td>\n",
       "      <td>-2.295954</td>\n",
       "      <td>29.900236</td>\n",
       "      <td>gg_orig</td>\n",
       "    </tr>\n",
       "  </tbody>\n",
       "</table>\n",
       "</div>"
      ],
      "text/plain": [
       "                                      name  \\\n",
       "0    0002182ba9e87d7b0d6b7d16b7001923_0001   \n",
       "1    000877380acb95e21726d9df052ec962_0001   \n",
       "2  0009c3faef123ed29e447cf47337d656_0001_1   \n",
       "3  000b40b97b3761973c100b7325f5bf41_0001_1   \n",
       "4  001126bfe8b2f13d0bd52996ae0b77e8_0001_1   \n",
       "\n",
       "                                                 seq       spr       time  \\\n",
       "0  MIEELLEKALARNASEELLKKAAEKIEEHKKAKSKEYEKALKLLEE... -2.241017  21.385715   \n",
       "1  SMALEKLKEAMAAKDVEALAAECAALAAARAAGSAEAAAAAAALAA... -1.887903  10.228325   \n",
       "2  MEEALEEARRLAEARDAAAAFAAARARAREARREAAEAAAAAAEAA... -1.891431  10.653046   \n",
       "3  MLAEEAIAAAKRAKEAAAAERVRAAAAAVERRAAAAAAALAAFLEH... -1.736683   7.140037   \n",
       "4  MLEEKAKAIAEELNSDENHVKLALKAMECLLSNEDIEKCLEKAKEE... -2.295954  29.900236   \n",
       "\n",
       "      Name  \n",
       "0  gg_orig  \n",
       "1  gg_orig  \n",
       "2  gg_orig  \n",
       "3  gg_orig  \n",
       "4  gg_orig  "
      ]
     },
     "execution_count": 72,
     "metadata": {},
     "output_type": "execute_result"
    }
   ],
   "source": [
    "df_tot.head()"
   ]
  },
  {
   "cell_type": "code",
   "execution_count": 73,
   "id": "6c398b8a",
   "metadata": {},
   "outputs": [],
   "source": [
    "hex_col = [\"f1ed36\", \"#C2CD23\", \"43a8e4\"]\n",
    "color_codes_wanted = ['yellow', 'green', 'purple']\n"
   ]
  },
  {
   "cell_type": "code",
   "execution_count": 74,
   "id": "e9b500e2",
   "metadata": {},
   "outputs": [],
   "source": [
    "# f1 = sns.histplot(data=df_tot,x='spr',hue='Name',binrange=((-3.5,-1)),palette = hex_col)\n",
    "# f1.figure.savefig('Figures/GraphGen_Figure/hisplot_og.png')"
   ]
  },
  {
   "cell_type": "code",
   "execution_count": 76,
   "id": "6b81173a",
   "metadata": {},
   "outputs": [
    {
     "data": {
      "image/png": "[encoded data removed]",
      "text/plain": [
       "<Figure size 842.4x595.44 with 1 Axes>"
      ]
     },
     "metadata": {},
     "output_type": "display_data"
    }
   ],
   "source": [
    "colorpal = sns.xkcd_palette(['pale purple', 'blue', 'leaf green'])\n",
    "\n",
    "sns.set_palette(sns.color_palette(colorpal))\n",
    "\n",
    "f1 = sns.histplot(data=df_tot,x='spr',hue='Name',binrange=((-3.5,-1)))\n",
    "f1.figure.savefig('Figures/GraphGen_Figure/hisplot_gg_full.svg')\n",
    "f1.figure.savefig('Figures/GraphGen_Figure/hisplot_gg_full.png')"
   ]
  },
  {
   "cell_type": "code",
   "execution_count": 33,
   "id": "58304625",
   "metadata": {},
   "outputs": [
    {
     "data": {
      "image/png": "[encoded data removed]",
      "text/plain": [
       "<Figure size 432x288 with 1 Axes>"
      ]
     },
     "metadata": {
      "needs_background": "light"
     },
     "output_type": "display_data"
    }
   ],
   "source": [
    "df_tot1 = pd.concat([df_o,df_r])\n",
    "f2 = sns.histplot(data=df_tot1,x='spr',hue='Name',binrange=((-3.5,-1)))\n",
    "f2.figure.savefig('Figures/GraphGen_Figure/hisplot_og.png')"
   ]
  },
  {
   "cell_type": "code",
   "execution_count": 34,
   "id": "ef39e8cf",
   "metadata": {},
   "outputs": [
    {
     "data": {
      "image/png": "[encoded data removed]",
      "text/plain": [
       "<Figure size 432x288 with 1 Axes>"
      ]
     },
     "metadata": {
      "needs_background": "light"
     },
     "output_type": "display_data"
    }
   ],
   "source": [
    "df_tot3 = pd.concat([df_r,df_rr,df_o])\n",
    "f3 = sns.histplot(data=df_tot3,x='spr',hue='Name',binrange=((-3.5,-2)), bins=50)\n",
    "f3.figure.savefig('Figures/GraphGen_Figure/ref_hisplot.png')"
   ]
  },
  {
   "cell_type": "code",
   "execution_count": null,
   "id": "d7f3dd36",
   "metadata": {},
   "outputs": [],
   "source": [
    "df_tot1 = pd.concat([df_o,df_r])\n",
    "f4 = sns.histplot(data=df_tot1,x='spr',hue='Name',binrange=((-3.5,-1)))\n",
    "f4.figure.savefig('Figures/GraphGen_Figure/hisplot_ref4.png')"
   ]
  },
  {
   "cell_type": "code",
   "execution_count": 15,
   "id": "9fffee57",
   "metadata": {},
   "outputs": [],
   "source": [
    "#----design test"
   ]
  },
  {
   "cell_type": "code",
   "execution_count": 127,
   "id": "bcfce83c",
   "metadata": {},
   "outputs": [],
   "source": [
    "cols =['name','seq','spr','time','b_num']\n",
    "\n",
    "nL, sL = openArray('gg_new',direc='Figures/DesignTest/')\n",
    "sL_Full= extract_spr(sL)\n",
    "bL = np.array(buildNum_Column(nL))\n",
    "\n",
    "sL_Full = np.hstack((sL_Full,bL.reshape(-1,1)))\n",
    "\n",
    "df_f = pd.DataFrame(sL_Full,columns=cols)\n",
    "df_f['b_num'] = df_f['b_num'].astype('int32')\n",
    "df_f['spr'] = df_f['spr'].astype('float32')\n",
    "df_f['time']=df_f['time'].astype('float32')\n",
    "df_f['Name']='Full'\n",
    "\n",
    "nL_1, sL_1 = openArray('gg_new_onePer',direc='Figures/DesignTest/')\n",
    "sL_op= extract_spr(sL_1)\n",
    "\n",
    "bL1 = np.array(buildNum_Column(nL_1))\n",
    "sL_op = np.hstack((sL_op,bL1.reshape(-1,1)))\n",
    "\n",
    "df_1 = pd.DataFrame(sL_op,columns=cols)\n",
    "df_1['b_num'] = df_f['b_num'].astype('int32')\n",
    "df_1['spr'] = df_1['spr'].astype('float32')\n",
    "df_1['time']=df_1['time'].astype('float32')\n",
    "df_1['Name']='onePer'"
   ]
  },
  {
   "cell_type": "code",
   "execution_count": 128,
   "id": "921b9990",
   "metadata": {},
   "outputs": [
    {
     "data": {
      "text/plain": [
       "159.34623015873015"
      ]
     },
     "execution_count": 128,
     "metadata": {},
     "output_type": "execute_result"
    }
   ],
   "source": [
    "df_f['time'].sum()/504"
   ]
  },
  {
   "cell_type": "code",
   "execution_count": 129,
   "id": "581512f6",
   "metadata": {},
   "outputs": [
    {
     "data": {
      "text/plain": [
       "162.9971691548583"
      ]
     },
     "execution_count": 129,
     "metadata": {},
     "output_type": "execute_result"
    }
   ],
   "source": [
    "df_1['time'].sum()/494"
   ]
  },
  {
   "cell_type": "code",
   "execution_count": 130,
   "id": "852c876d",
   "metadata": {},
   "outputs": [],
   "source": [
    "df_tot = pd.concat([df_f,df_1,df_r])"
   ]
  },
  {
   "cell_type": "code",
   "execution_count": 133,
   "id": "e520f516",
   "metadata": {},
   "outputs": [
    {
     "data": {
      "image/png": "[encoded data removed]",
      "text/plain": [
       "<Figure size 842.4x595.44 with 1 Axes>"
      ]
     },
     "metadata": {},
     "output_type": "display_data"
    }
   ],
   "source": [
    "colorpal = sns.xkcd_palette(['pinkish red', 'wine', 'leaf green'])\n",
    "\n",
    "sns.set_palette(sns.color_palette(colorpal))\n",
    "\n",
    "\n",
    "\n",
    "f1=sns.histplot(data=df_tot,x='spr',hue='Name', stat=\"density\",common_norm=False,binrange=(-3,-2))\n",
    "f1.figure.savefig('Figures/DesignTest/Design_All.svg')"
   ]
  },
  {
   "cell_type": "code",
   "execution_count": 116,
   "id": "982b7516",
   "metadata": {},
   "outputs": [
    {
     "data": {
      "text/plain": [
       "-2.393346"
      ]
     },
     "execution_count": 116,
     "metadata": {},
     "output_type": "execute_result"
    }
   ],
   "source": [
    "df_f['spr'].mean()"
   ]
  },
  {
   "cell_type": "code",
   "execution_count": 117,
   "id": "02f8711f",
   "metadata": {},
   "outputs": [
    {
     "data": {
      "text/plain": [
       "-2.6382395820583557"
      ]
     },
     "execution_count": 117,
     "metadata": {},
     "output_type": "execute_result"
    }
   ],
   "source": [
    "df_r['spr'].median()"
   ]
  },
  {
   "cell_type": "code",
   "execution_count": 118,
   "id": "966b1a85",
   "metadata": {},
   "outputs": [],
   "source": [
    "#bL =np.empty((1,1))\n",
    "bL1 = []\n",
    "bLf = []\n",
    "\n",
    "for x in range(512):\n",
    "    minVal_f = df_f.loc[df_f['b_num']==x]['spr'].min()\n",
    "    minVal_1 = df_1.loc[df_1['b_num']==x]['spr'].min()\n",
    "    \n",
    "    bL1.append([minVal_1])\n",
    "    bLf.append([minVal_f])\n",
    "    \n",
    "    #bL = np.vstack((bL,np.array([minVal]*numBuild).reshape(-1,1)))\n",
    "        "
   ]
  },
  {
   "cell_type": "code",
   "execution_count": 119,
   "id": "659e627a",
   "metadata": {},
   "outputs": [],
   "source": [
    "bL1 = np.array(bL1)\n",
    "bLf = np.array(bLf)\n",
    "bL1 = bL1[~np.isnan(bL1)]\n",
    "bLf = bLf[~np.isnan(bLf)]\n",
    "bL_r = df_r['spr'].to_numpy()"
   ]
  },
  {
   "cell_type": "code",
   "execution_count": 120,
   "id": "6add6bd4",
   "metadata": {},
   "outputs": [],
   "source": [
    "df_1 = pd.DataFrame(bL1,columns=['spr'])\n",
    "df_1['Name'] = 'One Percent'\n",
    "df_f = pd.DataFrame(bLf,columns=['spr'])\n",
    "df_f['Name'] = 'Full'\n",
    "df_r = pd.DataFrame(bL_r,columns=['spr'])\n",
    "df_r['Name'] = 'Reference Relax'"
   ]
  },
  {
   "cell_type": "code",
   "execution_count": 121,
   "id": "ed61f821",
   "metadata": {},
   "outputs": [
    {
     "data": {
      "text/plain": [
       "-2.581749200820923"
      ]
     },
     "execution_count": 121,
     "metadata": {},
     "output_type": "execute_result"
    }
   ],
   "source": [
    "df_1['spr'].median()\n",
    "df_f['spr'].median()"
   ]
  },
  {
   "cell_type": "code",
   "execution_count": 122,
   "id": "03491448",
   "metadata": {},
   "outputs": [
    {
     "data": {
      "text/plain": [
       "494"
      ]
     },
     "execution_count": 122,
     "metadata": {},
     "output_type": "execute_result"
    }
   ],
   "source": [
    "df_1.shape[0]"
   ]
  },
  {
   "cell_type": "code",
   "execution_count": 123,
   "id": "8bf43ee6",
   "metadata": {},
   "outputs": [
    {
     "data": {
      "text/plain": [
       "503"
      ]
     },
     "execution_count": 123,
     "metadata": {},
     "output_type": "execute_result"
    }
   ],
   "source": [
    "df_f.shape[0]"
   ]
  },
  {
   "cell_type": "code",
   "execution_count": null,
   "id": "2b4e21c9",
   "metadata": {},
   "outputs": [],
   "source": []
  },
  {
   "cell_type": "code",
   "execution_count": 124,
   "id": "72179f8e",
   "metadata": {},
   "outputs": [
    {
     "data": {
      "image/png": "[encoded data removed]",
      "text/plain": [
       "<Figure size 842.4x595.44 with 1 Axes>"
      ]
     },
     "metadata": {},
     "output_type": "display_data"
    }
   ],
   "source": [
    "df_tot = pd.concat([df_f,df_1,df_r])\n",
    "f1=sns.histplot(data=df_tot,x='spr',hue='Name', stat=\"density\", common_norm=False,binrange=(-3,-2))"
   ]
  },
  {
   "cell_type": "code",
   "execution_count": 125,
   "id": "99f142b7",
   "metadata": {},
   "outputs": [],
   "source": [
    "f1.figure.savefig('Figures/DesignTest/Norm_Design.png')\n",
    "f1.figure.savefig('Figures/DesignTest/Norm_Design.svg')"
   ]
  },
  {
   "cell_type": "code",
   "execution_count": null,
   "id": "214e0d91",
   "metadata": {},
   "outputs": [],
   "source": []
  }
 ],
 "metadata": {
  "kernelspec": {
   "display_name": "fa_tfpy",
   "language": "python",
   "name": "fa_tfpy"
  },
  "language_info": {
   "codemirror_mode": {
    "name": "ipython",
    "version": 3
   },
   "file_extension": ".py",
   "mimetype": "text/x-python",
   "name": "python",
   "nbconvert_exporter": "python",
   "pygments_lexer": "ipython3",
   "version": "3.8.5"
  }
 },
 "nbformat": 4,
 "nbformat_minor": 5
}
