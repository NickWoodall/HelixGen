{
 "cells": [
  {
   "cell_type": "code",
   "execution_count": 38,
   "id": "8d712b4c",
   "metadata": {},
   "outputs": [
    {
     "name": "stdout",
     "output_type": "stream",
     "text": [
      "device name CPU\n"
     ]
    }
   ],
   "source": [
    "import tensorflow as tf\n",
    "\n",
    "if tf.config.list_physical_devices('GPU'):\n",
    "    device_name = tf.test.gpu_device_name()\n",
    "else:\n",
    "    device_name = 'CPU'\n",
    "device_name = 'CPU' \n",
    "print(f'device name {device_name}')\n",
    "import os\n",
    "import sys\n",
    "\n",
    "from math import cos,sin,tan,asin,acos,radians,sqrt,degrees,atan,atan2,copysign\n",
    "import numpy as np\n",
    "\n",
    "import pandas as pd\n",
    "from sklearn.preprocessing import MinMaxScaler\n",
    "import pickle\n",
    "import scipy\n",
    "from scipy.stats import norm\n",
    "import random\n",
    "import time\n",
    "import timeit\n",
    "import math\n",
    "import localization as lx\n",
    "import gzip\n",
    "\n",
    "import util.npose_util as nu\n",
    "import datetime\n",
    "from sklearn.preprocessing import MinMaxScaler\n",
    "from scipy.spatial import cKDTree\n",
    "\n",
    "\n",
    "import joblib\n",
    "from sklearn.manifold import MDS\n",
    "import argparse\n",
    "from functools import partial\n",
    "from itertools import starmap,repeat,permutations\n",
    "\n",
    "from pymol import cmd, stored, selector\n",
    "\n",
    "import GenerateEndpoints as ge\n",
    "import HelixFit as hf\n",
    "import FitTransform as ft\n",
    "\n",
    "import seaborn as sns\n",
    "import util.RotationMethods as rm\n",
    "\n",
    "import copy\n",
    "\n",
    "\n"
   ]
  },
  {
   "cell_type": "code",
   "execution_count": 29,
   "id": "5e11616a",
   "metadata": {},
   "outputs": [],
   "source": [
    "import Guided_Midpoint_Buttress as gmp"
   ]
  },
  {
   "cell_type": "code",
   "execution_count": 3,
   "id": "ee5fb6af",
   "metadata": {},
   "outputs": [],
   "source": [
    "start_hel, gep= gmp.get_reference_input(batch=1000 )"
   ]
  },
  {
   "cell_type": "code",
   "execution_count": 4,
   "id": "f7b4ca01",
   "metadata": {},
   "outputs": [
    {
     "name": "stdout",
     "output_type": "stream",
     "text": [
      "max next indices 13\n",
      "(1000, 8, 3)\n",
      "Input Size:  100000\n",
      "Passing Filters:  654\n",
      "final pass filter 616\n",
      "max next indices 29\n",
      "(616, 8, 3)\n",
      "Input Size:  61600\n",
      "Passing Filters:  682\n",
      "final pass filter 430\n",
      "max next indices 48\n",
      "(430, 8, 3)\n",
      "Input Size:  43000\n",
      "Passing Filters:  793\n",
      "final pass filter 557\n",
      "max next indices 67\n",
      "(557, 8, 3)\n",
      "Input Size:  55700\n",
      "Passing Filters:  777\n",
      "final pass filter 424\n",
      "max next indices 89\n",
      "(424, 8, 3)\n",
      "Input Size:  42400\n",
      "Passing Filters:  365\n",
      "final pass filter 112\n",
      "max next indices 97\n",
      "(75, 8, 3)\n",
      "Input Size:  7500\n",
      "Passing Filters:  166\n",
      "final pass filter 107\n"
     ]
    }
   ],
   "source": [
    "out_ep = gmp.build_protein_on_guide(start_hel, gep, batch=200, \n",
    "                                 next_mp_dist = 11,mp_deviation_limit = 5)"
   ]
  },
  {
   "cell_type": "code",
   "execution_count": 5,
   "id": "538b5d1f",
   "metadata": {},
   "outputs": [
    {
     "name": "stdout",
     "output_type": "stream",
     "text": [
      " PyMOL not running, entering library mode (experimental)\n"
     ]
    }
   ],
   "source": [
    "gmp.vp(out_ep[0],gep,max_out=100)"
   ]
  },
  {
   "cell_type": "code",
   "execution_count": 14,
   "id": "f9499232",
   "metadata": {},
   "outputs": [],
   "source": [
    "import LoopEndpoints as le"
   ]
  },
  {
   "cell_type": "code",
   "execution_count": 24,
   "id": "8d87e0d7",
   "metadata": {},
   "outputs": [],
   "source": [
    "end_points = out_ep[0][5]\n",
    "length_mod=1\n",
    "dist_cut=6\n",
    "phiQueryNum=10\n",
    "neighbors = 10\n",
    "randMult=10\n",
    "maxPhi_cut=20\n",
    "verbose= True"
   ]
  },
  {
   "cell_type": "code",
   "execution_count": 77,
   "id": "acd571fd",
   "metadata": {},
   "outputs": [
    {
     "data": {
      "text/plain": [
       "(24, 3)"
      ]
     },
     "execution_count": 77,
     "metadata": {},
     "output_type": "execute_result"
    }
   ],
   "source": [
    "end_points.shape"
   ]
  },
  {
   "cell_type": "code",
   "execution_count": 81,
   "id": "a1cf3809",
   "metadata": {},
   "outputs": [
    {
     "name": "stdout",
     "output_type": "stream",
     "text": [
      "first helix: #7\n",
      "first loop: #215\n",
      "second helix: #197\n",
      "hnum 1\n",
      "3 helix: reduced to #20\n",
      "3 helix: #20\n",
      "hnum 2\n",
      "4 helix: reduced to #20\n",
      "4 helix: #20\n",
      "hnum 3\n",
      "5 helix: #2\n",
      "hnum 4\n",
      "rn: 1\n",
      "4 helix: #99\n",
      "hnum 3\n",
      "5 helix: #60\n",
      "hnum 4\n",
      "6 helix: reduced to #120\n",
      "6 helix: #120\n",
      "hnum 5\n",
      "7 helix: #1\n",
      "hnum 6\n",
      "rn: 2\n",
      "6 helix: reduced to #220\n",
      "6 helix: #220\n",
      "hnum 5\n",
      "7 helix: #24\n",
      "hnum 6\n",
      "8 helix: #101\n",
      "hnum 7\n",
      "9 helix: reduced to #220\n",
      "9 helix: #220\n",
      "hnum 8\n",
      "10 helix: reduced to #220\n",
      "10 helix: #220\n",
      "hnum 9\n",
      "11 helix: reduced to #220\n",
      "11 helix: #220\n",
      "hnum 10\n",
      "12 helix: reduced to #220\n",
      "12 helix: #220\n"
     ]
    }
   ],
   "source": [
    "bL, iL, phiList, iL, iL, suc= add_loops(end_points, neighbors=10, length_mod=3, dist_cut=6, phiQueryNum=10, randMult=0, maxPhi_cut=20,\n",
    "              uniquePhi=True, verbose=True)"
   ]
  },
  {
   "cell_type": "code",
   "execution_count": 80,
   "id": "8a0f17a0",
   "metadata": {},
   "outputs": [],
   "source": [
    "def add_loops(end_points, neighbors=10, length_mod=1, dist_cut=6, phiQueryNum=10, randMult=10, maxPhi_cut=20,\n",
    "              uniquePhi=True, verbose=False):\n",
    "    \"\"\"Chains first_helix, first_loop, second helix and the iteratively loop_then_helix to add all loops to endpoints.\"\"\"\n",
    "    \n",
    "    epIn = end_points.copy()\n",
    "    size = int(len(epIn)/2) #number of helixes represented by helical endpoints\n",
    "    \n",
    "   \n",
    "    bL, iL, epGuide = le.first_helix(epIn,length_mod=length_mod)\n",
    "    if verbose:\n",
    "        print(f'first helix: #{iL.shape[0]}')\n",
    "    \n",
    "    if iL.shape[0] == 0:\n",
    "        if verbose:\n",
    "            print('fail')\n",
    "        return bL, iL, phiList, iL, iL, False\n",
    "    \n",
    "    bL, iL, epGuide, epTrue, phiList, loopFeature, xform_True = le.first_loop(bL, iL, epGuide, \n",
    "                                                                neighbors=neighbors, phiQueryNum=phiQueryNum,\n",
    "                                                                           randMult=randMult, distCut=dist_cut)\n",
    "    if verbose:\n",
    "        print(f'first loop: #{iL.shape[0]}')\n",
    "    if iL.shape[0] == 0:\n",
    "        if verbose:\n",
    "            print('fail')\n",
    "        return bL, iL, phiList, iL, iL, False\n",
    "    \n",
    "    hnum=1\n",
    "    bL, iL, epGuide, epTrue, phiList = le.second_helix(bL, iL, epGuide, epTrue, phiList, hnum, loopFeature, \n",
    "                                                   xform_True, length_mod=length_mod, distCut=dist_cut)\n",
    "    if verbose:\n",
    "        print(f'second helix: #{iL.shape[0]}')\n",
    "    \n",
    "    if iL.shape[0] == 0:\n",
    "        if verbose:\n",
    "            print('fail')\n",
    "        return bL, iL, phiList, iL, iL, False\n",
    "    \n",
    "    repeatNumber = 0 \n",
    "    hnum = 0\n",
    "    \n",
    "    bL_s = []\n",
    "    iL_s = []\n",
    "    epGuide_s = []\n",
    "    epTrue_s = []\n",
    "    phiList_s =  []\n",
    "    for x in range(0,(size-1)):\n",
    "        bL_s.append([])\n",
    "        iL_s.append([])\n",
    "        epGuide_s.append([])\n",
    "        epTrue_s.append([])\n",
    "        phiList_s.append([])\n",
    "        \n",
    "    \n",
    "    while hnum<(size-2):\n",
    "        hnum += 1\n",
    "        print('hnum',hnum)\n",
    "        bL, iL, epGuide, epTrue, phiList = le.next_loop_helix(bL, iL, epGuide, epTrue, phiList, hnum, \n",
    "                neighbors=neighbors, phiQueryNum=phiQueryNum, randMult=randMult, distCut=dist_cut,length_mod=length_mod)\n",
    "       \n",
    "        bL_s[hnum] = copy.deepcopy(bL)\n",
    "        iL_s[hnum] = iL.copy()\n",
    "        epGuide_s[hnum] = epGuide.copy()\n",
    "        epTrue_s[hnum] = epTrue.copy()\n",
    "        phiList_s[hnum] = phiList.copy()\n",
    "        \n",
    "        if iL.shape[0] == 0:\n",
    "            \n",
    "            hnum = hnum - 2\n",
    "            \n",
    "            bL = bL_s[hnum] \n",
    "            iL = iL_s[hnum] \n",
    "            epGuide = epGuide_s[hnum] \n",
    "            epTrue = epTrue_s[hnum] \n",
    "            phiList = phiList_s[hnum] \n",
    "            \n",
    "            neighbors += 5\n",
    "            maxPhi_cut += 100\n",
    "            \n",
    "            repeatNumber += 1\n",
    "            print('rn:', repeatNumber)\n",
    "                \n",
    "            if repeatNumber == 4:\n",
    "                if verbose:\n",
    "                    print('fail2')\n",
    "                return bL, iL, phiList, iL, iL, False\n",
    "            \n",
    "        if iL.shape[0] > maxPhi_cut:\n",
    "            indexer = le.random_reduce(bL,num_to_keep = maxPhi_cut)\n",
    "            bL = bL[indexer]\n",
    "            iL = iL[indexer] \n",
    "            epGuide = epGuide[indexer]\n",
    "            epTrue =  epTrue[indexer]\n",
    "            phiList = phiList[indexer]\n",
    "            if verbose:\n",
    "                print(f'{hnum+2} helix: reduced to #{maxPhi_cut}')\n",
    "        if verbose:\n",
    "            print(f'{hnum+2} helix: #{iL.shape[0]}')\n",
    "            \n",
    "         \n",
    "    #only return proteins with a unique set of loops queried from different phi bins\n",
    "    if uniquePhi:\n",
    "        phiList, u_indices = np.unique(phiList,axis=0,return_index=True)\n",
    "        epGuide = epGuide[u_indices]\n",
    "        epTrue = epTrue[u_indices]\n",
    "        iL = iL[u_indices]\n",
    "        bL = bL[u_indices]\n",
    "    \n",
    "    return bL, iL, phiList, epGuide, epTrue, True"
   ]
  },
  {
   "cell_type": "code",
   "execution_count": null,
   "id": "13807d84",
   "metadata": {},
   "outputs": [],
   "source": []
  },
  {
   "cell_type": "code",
   "execution_count": null,
   "id": "565e4eb1",
   "metadata": {},
   "outputs": [],
   "source": []
  },
  {
   "cell_type": "code",
   "execution_count": 47,
   "id": "fa2c9147",
   "metadata": {},
   "outputs": [
    {
     "name": "stdout",
     "output_type": "stream",
     "text": [
      "first helix: #3\n",
      "first loop: #159\n",
      "second helix: #53\n"
     ]
    }
   ],
   "source": [
    "epIn = end_points.copy()\n",
    "size = int(len(epIn)/2) #number of helixes represented by helical endpoints\n",
    "\n",
    "\n",
    "bL, iL, epGuide = le.first_helix(epIn,length_mod=length_mod)\n",
    "if verbose:\n",
    "    print(f'first helix: #{iL.shape[0]}')\n",
    "\n",
    "if iL.shape[0] == 0:\n",
    "    if verbose:\n",
    "        print('fail')\n",
    "    #return bL, iL, phiList, iL, iL, False\n",
    "\n",
    "\n",
    "bL, iL, epGuide, epTrue, phiList, loopFeature, xform_True = le.first_loop(bL, iL, epGuide, \n",
    "                                                                neighbors=neighbors, phiQueryNum=phiQueryNum,\n",
    "                                                                           randMult=randMult, distCut=dist_cut)\n",
    "if verbose:\n",
    "    print(f'first loop: #{iL.shape[0]}')\n",
    "if iL.shape[0] == 0:\n",
    "    if verbose:\n",
    "        print('fail')\n",
    "    #return bL, iL, phiList, iL, iL, False\n",
    "    \n",
    "hnum=1\n",
    "bL, iL, epGuide, epTrue, phiList = le.second_helix(bL, iL, epGuide, epTrue, phiList, hnum, loopFeature, \n",
    "                                               xform_True, length_mod=length_mod, distCut=dist_cut)\n",
    "if verbose:\n",
    "    print(f'second helix: #{iL.shape[0]}')\n",
    "\n",
    "if iL.shape[0] == 0:\n",
    "    if verbose:\n",
    "        print('fail')\n",
    "    #return bL, iL, phiList, iL, iL, False"
   ]
  },
  {
   "cell_type": "code",
   "execution_count": 48,
   "id": "2225bc97",
   "metadata": {},
   "outputs": [],
   "source": [
    "#first next_loop_helix iteration\n",
    "hnum=1\n",
    "bL1, iL1, epGuide1, epTrue1, phiList1 = le.next_loop_helix(bL, iL, epGuide, epTrue, phiList, hnum, \n",
    "            neighbors=neighbors, phiQueryNum=phiQueryNum, randMult=randMult, distCut=dist_cut,length_mod=length_mod)\n"
   ]
  },
  {
   "cell_type": "code",
   "execution_count": 49,
   "id": "954cdc06",
   "metadata": {},
   "outputs": [
    {
     "data": {
      "text/plain": [
       "(1039,)"
      ]
     },
     "execution_count": 49,
     "metadata": {},
     "output_type": "execute_result"
    }
   ],
   "source": [
    "bL1.shape"
   ]
  },
  {
   "cell_type": "code",
   "execution_count": 50,
   "id": "8b9d9146",
   "metadata": {},
   "outputs": [],
   "source": [
    "bL1 = copy.deepcopy(bL)\n",
    "iL1 = iL1.copy()\n",
    "epGuide1 = epGuide1.copy()\n",
    "epTrue1 = epTrue1.copy()\n",
    "phiList1 = phiList1.copy()"
   ]
  },
  {
   "cell_type": "code",
   "execution_count": null,
   "id": "603e2185",
   "metadata": {},
   "outputs": [],
   "source": []
  },
  {
   "cell_type": "code",
   "execution_count": null,
   "id": "4b5c7c98",
   "metadata": {},
   "outputs": [],
   "source": []
  },
  {
   "cell_type": "code",
   "execution_count": null,
   "id": "d01e07d5",
   "metadata": {},
   "outputs": [],
   "source": []
  },
  {
   "cell_type": "code",
   "execution_count": 36,
   "id": "7e3bdf20",
   "metadata": {},
   "outputs": [],
   "source": [
    "#first next_loop_helix iteration\n",
    "hnum=2\n",
    "bL2, iL2, epGuide2, epTrue2, phiList2 = le.next_loop_helix(bL1, iL1, epGuide1, epTrue1, phiList1, hnum, \n",
    "            neighbors=neighbors, phiQueryNum=phiQueryNum, randMult=randMult, distCut=dist_cut,length_mod=length_mod)"
   ]
  },
  {
   "cell_type": "code",
   "execution_count": 37,
   "id": "acf800aa",
   "metadata": {},
   "outputs": [
    {
     "data": {
      "text/plain": [
       "(4111,)"
      ]
     },
     "execution_count": 37,
     "metadata": {},
     "output_type": "execute_result"
    }
   ],
   "source": [
    "bL2.shape"
   ]
  },
  {
   "cell_type": "code",
   "execution_count": null,
   "id": "edc13d0b",
   "metadata": {},
   "outputs": [],
   "source": [
    "bL, iL, epGuide, epTrue, phiList = next_loop_helix(bL, iL, epGuide, epTrue, phiList, x, \n",
    "        neighbors=neighbors, phiQueryNum=phiQueryNum, randMult=randMult, distCut=dist_cut,length_mod=length_mod)"
   ]
  },
  {
   "cell_type": "code",
   "execution_count": null,
   "id": "11f225e7",
   "metadata": {},
   "outputs": [],
   "source": [
    "\n",
    "\n",
    "for x in range(hnum,size-1):\n",
    "    bL, iL, epGuide, epTrue, phiList = next_loop_helix(bL, iL, epGuide, epTrue, phiList, x, \n",
    "            neighbors=neighbors, phiQueryNum=phiQueryNum, randMult=randMult, distCut=dist_cut,length_mod=length_mod)\n",
    "\n",
    "    if iL.shape[0] == 0:\n",
    "        if verbose:\n",
    "            print('fail2')\n",
    "        return bL, iL, phiList, iL, iL, False\n",
    "    elif iL.shape[0] > 40:\n",
    "        indexer = random_reduce(bL,num_to_keep = maxPhi_cut)\n",
    "        bL = bL[indexer]\n",
    "        iL = iL[indexer] \n",
    "        epGuide = epGuide[indexer]\n",
    "        epTrue =  epTrue[indexer]\n",
    "        phiList = phiList[indexer]\n",
    "        if verbose:\n",
    "            print(f'{x+2} helix: reduced to #{maxPhi_cut}')\n",
    "    if verbose:\n",
    "        print(f'{x+2} helix: #{iL.shape[0]}')\n",
    "\n",
    "#only return proteins with a unique set of loops queried from different phi bins\n",
    "if uniquePhi:\n",
    "    phiList, u_indices = np.unique(phiList,axis=0,return_index=True)\n",
    "    epGuide = epGuide[u_indices]\n",
    "    epTrue = epTrue[u_indices]\n",
    "    iL = iL[u_indices]\n",
    "    bL = bL[u_indices]"
   ]
  }
 ],
 "metadata": {
  "kernelspec": {
   "display_name": "fa_tfpy",
   "language": "python",
   "name": "fa_tfpy"
  },
  "language_info": {
   "codemirror_mode": {
    "name": "ipython",
    "version": 3
   },
   "file_extension": ".py",
   "mimetype": "text/x-python",
   "name": "python",
   "nbconvert_exporter": "python",
   "pygments_lexer": "ipython3",
   "version": "3.8.5"
  }
 },
 "nbformat": 4,
 "nbformat_minor": 5
}
