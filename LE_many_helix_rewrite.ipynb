{
 "cells": [
  {
   "cell_type": "code",
   "execution_count": 14,
   "id": "8d712b4c",
   "metadata": {},
   "outputs": [
    {
     "name": "stdout",
     "output_type": "stream",
     "text": [
      "device name CPU\n"
     ]
    }
   ],
   "source": [
    "import tensorflow as tf\n",
    "\n",
    "if tf.config.list_physical_devices('GPU'):\n",
    "    device_name = tf.test.gpu_device_name()\n",
    "else:\n",
    "    device_name = 'CPU'\n",
    "device_name = 'CPU' \n",
    "print(f'device name {device_name}')\n",
    "import os\n",
    "import sys\n",
    "\n",
    "from math import cos,sin,tan,asin,acos,radians,sqrt,degrees,atan,atan2,copysign\n",
    "import numpy as np\n",
    "\n",
    "import pandas as pd\n",
    "from sklearn.preprocessing import MinMaxScaler\n",
    "import pickle\n",
    "import scipy\n",
    "from scipy.stats import norm\n",
    "import random\n",
    "import time\n",
    "import timeit\n",
    "import math\n",
    "import localization as lx\n",
    "import gzip\n",
    "\n",
    "import util.npose_util as nu\n",
    "import datetime\n",
    "from sklearn.preprocessing import MinMaxScaler\n",
    "from scipy.spatial import cKDTree\n",
    "\n",
    "\n",
    "import joblib\n",
    "from sklearn.manifold import MDS\n",
    "import argparse\n",
    "from functools import partial\n",
    "from itertools import starmap,repeat,permutations\n",
    "\n",
    "from pymol import cmd, stored, selector\n",
    "\n",
    "import GenerateEndpoints as ge\n",
    "import HelixFit as hf\n",
    "import FitTransform as ft\n",
    "\n",
    "import seaborn as sns\n",
    "import util.RotationMethods as rm\n",
    "\n",
    "import copy\n",
    "\n",
    "\n",
    "\n",
    "%config Completer.use_jedi = False"
   ]
  },
  {
   "cell_type": "code",
   "execution_count": 3,
   "id": "5e11616a",
   "metadata": {},
   "outputs": [
    {
     "name": "stdout",
     "output_type": "stream",
     "text": [
      "device name CPU\n",
      "WARNING:tensorflow:No training configuration found in the save file, so the model was *not* compiled. Compile it manually.\n"
     ]
    }
   ],
   "source": [
    "import Guided_Midpoint_Buttress as gmp"
   ]
  },
  {
   "cell_type": "code",
   "execution_count": 82,
   "id": "6e90deab",
   "metadata": {},
   "outputs": [],
   "source": [
    "def generate_pos_circle(start, stop, h=30, k=0, r=30, num_points= 100):\n",
    "    \"\"\"Generate guide points originating a the origin for a circle, positive values only. \"\"\"\n",
    "    #(x-h)^2 + (y-k)^2 = r^(2)\n",
    "    # y = sqrt(r^2-(x-h^2))+k\n",
    "    x = np.linspace(start,stop,num=num_points)\n",
    "    z = np.sqrt(np.square(r)-np.square(x-h))+k\n",
    "    y = np.zeros_like(x)\n",
    "    return np.concatenate((x.reshape((-1,1)),y.reshape((-1,1)),z.reshape((-1,1))),axis=1)\n",
    "\n",
    "circ_gp = generate_pos_circle(0,60,h=30,k=0,r=30, num_points= 500)"
   ]
  },
  {
   "cell_type": "code",
   "execution_count": 83,
   "id": "ee5fb6af",
   "metadata": {},
   "outputs": [],
   "source": [
    "start_hel, gep= gmp.get_reference_input(batch=3000 )"
   ]
  },
  {
   "cell_type": "code",
   "execution_count": 84,
   "id": "d4956a0e",
   "metadata": {},
   "outputs": [
    {
     "data": {
      "text/plain": [
       "(500, 3)"
      ]
     },
     "execution_count": 84,
     "metadata": {},
     "output_type": "execute_result"
    }
   ],
   "source": [
    "circ_gp.shape"
   ]
  },
  {
   "cell_type": "code",
   "execution_count": 85,
   "id": "f7b4ca01",
   "metadata": {},
   "outputs": [
    {
     "name": "stdout",
     "output_type": "stream",
     "text": [
      "max next indices 11\n",
      "(3000, 8, 3)\n",
      "Input Size:  300000\n",
      "Passing Filters:  1000\n",
      "final pass filter 921\n",
      "max next indices 62\n",
      "(921, 8, 3)\n",
      "Input Size:  92100\n",
      "Passing Filters:  1000\n",
      "final pass filter 628\n",
      "max next indices 133\n",
      "(628, 8, 3)\n",
      "Input Size:  62800\n",
      "Passing Filters:  1000\n",
      "final pass filter 646\n",
      "max next indices 203\n",
      "(646, 8, 3)\n",
      "Input Size:  64600\n",
      "Passing Filters:  1000\n",
      "final pass filter 592\n",
      "max next indices 270\n",
      "(592, 8, 3)\n",
      "Input Size:  59200\n",
      "Passing Filters:  1000\n",
      "final pass filter 654\n",
      "max next indices 347\n",
      "(654, 8, 3)\n",
      "Input Size:  65400\n",
      "Passing Filters:  1000\n",
      "final pass filter 669\n",
      "max next indices 416\n",
      "(669, 8, 3)\n",
      "Input Size:  66900\n",
      "Passing Filters:  626\n",
      "final pass filter 274\n",
      "max next indices 460\n",
      "(274, 8, 3)\n",
      "Input Size:  27400\n",
      "Passing Filters:  534\n",
      "final pass filter 376\n",
      "max next indices 493\n",
      "(376, 8, 3)\n",
      "Input Size:  37600\n",
      "Passing Filters:  367\n",
      "final pass filter 181\n",
      "max next indices 499\n",
      "(181, 8, 3)\n",
      "Input Size:  18100\n",
      "Passing Filters:  464\n",
      "final pass filter 325\n",
      "max next indices 499\n",
      "(181, 8, 3)\n",
      "Input Size:  18100\n",
      "Passing Filters:  200\n",
      "final pass filter 66\n",
      "max next indices 499\n",
      "(14, 8, 3)\n",
      "Input Size:  1400\n",
      "Passing Filters:  25\n",
      "final pass filter 18\n"
     ]
    }
   ],
   "source": [
    "out_ep = gmp.build_protein_on_guide(start_hel, circ_gp, batch=100, \n",
    "                                 next_mp_dist = 9, mp_deviation_limit = 5)"
   ]
  },
  {
   "cell_type": "code",
   "execution_count": 49,
   "id": "538b5d1f",
   "metadata": {},
   "outputs": [
    {
     "name": "stdout",
     "output_type": "stream",
     "text": [
      " PyMOL not running, entering library mode (experimental)\n"
     ]
    }
   ],
   "source": [
    "gmp.vp(out_ep[0],circ_gp,max_out=100)"
   ]
  },
  {
   "cell_type": "code",
   "execution_count": 48,
   "id": "9fc571a9",
   "metadata": {},
   "outputs": [
    {
     "ename": "IndexError",
     "evalue": "list index out of range",
     "output_type": "error",
     "traceback": [
      "\u001b[1;31m---------------------------------------------------------------------------\u001b[0m",
      "\u001b[1;31mIndexError\u001b[0m                                Traceback (most recent call last)",
      "\u001b[1;32m<ipython-input-48-e907ef78a335>\u001b[0m in \u001b[0;36m<module>\u001b[1;34m\u001b[0m\n\u001b[1;32m----> 1\u001b[1;33m \u001b[0mlen\u001b[0m\u001b[1;33m(\u001b[0m\u001b[0mout_ep\u001b[0m\u001b[1;33m[\u001b[0m\u001b[1;36m1\u001b[0m\u001b[1;33m]\u001b[0m\u001b[1;33m)\u001b[0m\u001b[1;33m\u001b[0m\u001b[1;33m\u001b[0m\u001b[0m\n\u001b[0m",
      "\u001b[1;31mIndexError\u001b[0m: list index out of range"
     ]
    }
   ],
   "source": [
    "len(out_ep[1])"
   ]
  },
  {
   "cell_type": "code",
   "execution_count": 11,
   "id": "83341afd",
   "metadata": {},
   "outputs": [
    {
     "name": "stdout",
     "output_type": "stream",
     "text": [
      "414\n"
     ]
    }
   ],
   "source": [
    "sumL = 0\n",
    "\n",
    "for x in out_ep:\n",
    "    sumL += len(x)\n",
    "print(sumL)"
   ]
  },
  {
   "cell_type": "code",
   "execution_count": 20,
   "id": "f9499232",
   "metadata": {},
   "outputs": [],
   "source": [
    "import LoopEndpoints as le"
   ]
  },
  {
   "cell_type": "code",
   "execution_count": 62,
   "id": "50f06e08",
   "metadata": {},
   "outputs": [],
   "source": [
    "def add_loops(end_points, neighbors=10, length_mod=1, dist_cut=6, phiQueryNum=10, randMult=10, maxPhi_cut=20,\n",
    "              uniquePhi=True, verbose=False, maxReruns = 4):\n",
    "    \"\"\"Chains first_helix, first_loop, second helix and the iteratively loop_then_helix to add all loops to endpoints.\"\"\"\n",
    "    \n",
    "    epIn = end_points.copy()\n",
    "    size = int(len(epIn)/2) #number of helixes represented by helical endpoints\n",
    "    \n",
    "   \n",
    "    bL, iL, epGuide = le.first_helix(epIn,length_mod=length_mod)\n",
    "    if verbose:\n",
    "        print(f'first helix: #{iL.shape[0]}')\n",
    "    \n",
    "    if iL.shape[0] == 0:\n",
    "        if verbose:\n",
    "            print('fail')\n",
    "        return bL, iL, phiList, iL, iL, False\n",
    "    \n",
    "    bL, iL, epGuide, epTrue, phiList, loopFeature, xform_True = le.first_loop(bL, iL, epGuide, \n",
    "                                                                neighbors=neighbors, phiQueryNum=phiQueryNum,\n",
    "                                                                           randMult=randMult, distCut=dist_cut)\n",
    "    if verbose:\n",
    "        print(f'first loop: #{iL.shape[0]}')\n",
    "    if iL.shape[0] == 0:\n",
    "        if verbose:\n",
    "            print('fail')\n",
    "        return bL, iL, phiList, iL, iL, False\n",
    "    \n",
    "    hnum=1\n",
    "    bL, iL, epGuide, epTrue, phiList = le.second_helix(bL, iL, epGuide, epTrue, phiList, hnum, loopFeature, \n",
    "                                                   xform_True, length_mod=length_mod, distCut=dist_cut)\n",
    "    if verbose:\n",
    "        print(f'second helix: #{iL.shape[0]}')\n",
    "    \n",
    "    if iL.shape[0] == 0:\n",
    "        if verbose:\n",
    "            print('fail')\n",
    "        return bL, iL, phiList, iL, iL, False\n",
    "    \n",
    "    repeatNumber = 0 \n",
    "    hnum = 0\n",
    "    \n",
    "    bL_s = []\n",
    "    iL_s = []\n",
    "    epGuide_s = []\n",
    "    epTrue_s = []\n",
    "    phiList_s =  []\n",
    "    for x in range(0,(size-1)):\n",
    "        bL_s.append([])\n",
    "        iL_s.append([])\n",
    "        epGuide_s.append([])\n",
    "        epTrue_s.append([])\n",
    "        phiList_s.append([])\n",
    "        \n",
    "    \n",
    "    while hnum<(size-2):\n",
    "        hnum += 1\n",
    "        print('hnum',hnum)\n",
    "        bL, iL, epGuide, epTrue, phiList = le.next_loop_helix(bL, iL, epGuide, epTrue, phiList, hnum, \n",
    "                neighbors=neighbors, phiQueryNum=phiQueryNum, randMult=randMult, distCut=dist_cut,length_mod=length_mod)\n",
    "       \n",
    "        bL_s[hnum] = copy.deepcopy(bL)\n",
    "        iL_s[hnum] = iL.copy()\n",
    "        epGuide_s[hnum] = epGuide.copy()\n",
    "        epTrue_s[hnum] = epTrue.copy()\n",
    "        phiList_s[hnum] = phiList.copy()\n",
    "        \n",
    "        if iL.shape[0] == 0:\n",
    "            \n",
    "            hnum = hnum - 2\n",
    "            \n",
    "            bL = bL_s[hnum] \n",
    "            iL = iL_s[hnum] \n",
    "            epGuide = epGuide_s[hnum] \n",
    "            epTrue = epTrue_s[hnum] \n",
    "            phiList = phiList_s[hnum] \n",
    "            \n",
    "            neighbors += 5\n",
    "            maxPhi_cut += 100\n",
    "            \n",
    "            repeatNumber += 1\n",
    "            print('rn:', repeatNumber)\n",
    "                \n",
    "            if repeatNumber == maxReruns:\n",
    "                if verbose:\n",
    "                    print('fail2')\n",
    "                return bL, iL, phiList, iL, iL, False\n",
    "            \n",
    "        if iL.shape[0] > maxPhi_cut:\n",
    "            indexer = le.random_reduce(bL,num_to_keep = maxPhi_cut)\n",
    "            bL = bL[indexer]\n",
    "            iL = iL[indexer] \n",
    "            epGuide = epGuide[indexer]\n",
    "            epTrue =  epTrue[indexer]\n",
    "            phiList = phiList[indexer]\n",
    "            if verbose:\n",
    "                print(f'{hnum+2} helix: reduced to #{maxPhi_cut}')\n",
    "        if verbose:\n",
    "            print(f'{hnum+2} helix: #{iL.shape[0]}')\n",
    "            \n",
    "         \n",
    "    #only return proteins with a unique set of loops queried from different phi bins\n",
    "    if uniquePhi:\n",
    "        phiList, u_indices = np.unique(phiList,axis=0,return_index=True)\n",
    "        epGuide = epGuide[u_indices]\n",
    "        epTrue = epTrue[u_indices]\n",
    "        iL = iL[u_indices]\n",
    "        bL = bL[u_indices]\n",
    "    \n",
    "    return bL, iL, phiList, epGuide, epTrue, True"
   ]
  },
  {
   "cell_type": "code",
   "execution_count": 63,
   "id": "8d87e0d7",
   "metadata": {},
   "outputs": [],
   "source": [
    "end_points = out_ep[0][0]\n",
    "length_mod=1\n",
    "dist_cut=6\n",
    "phiQueryNum=10\n",
    "neighbors = 10\n",
    "randMult=10\n",
    "maxPhi_cut=20\n",
    "verbose= True"
   ]
  },
  {
   "cell_type": "code",
   "execution_count": 64,
   "id": "acd571fd",
   "metadata": {},
   "outputs": [
    {
     "data": {
      "text/plain": [
       "(40, 3)"
      ]
     },
     "execution_count": 64,
     "metadata": {},
     "output_type": "execute_result"
    }
   ],
   "source": [
    "end_points.shape"
   ]
  },
  {
   "cell_type": "code",
   "execution_count": 70,
   "id": "a1cf3809",
   "metadata": {},
   "outputs": [
    {
     "name": "stdout",
     "output_type": "stream",
     "text": [
      "first helix: #7\n",
      "first loop: #741\n",
      "second helix: #163\n",
      "hnum 1\n",
      "3 helix: reduced to #50\n",
      "3 helix: #50\n",
      "hnum 2\n",
      "4 helix: reduced to #50\n",
      "4 helix: #50\n",
      "hnum 3\n",
      "rn: 1\n",
      "3 helix: reduced to #150\n",
      "3 helix: #150\n",
      "hnum 2\n",
      "4 helix: reduced to #150\n",
      "4 helix: #150\n",
      "hnum 3\n",
      "5 helix: #13\n",
      "hnum 4\n",
      "6 helix: reduced to #150\n",
      "6 helix: #150\n",
      "hnum 5\n",
      "7 helix: #15\n",
      "hnum 6\n",
      "8 helix: #46\n",
      "hnum 7\n",
      "9 helix: #41\n",
      "hnum 8\n",
      "10 helix: #19\n",
      "hnum 9\n",
      "11 helix: #51\n",
      "hnum 10\n",
      "12 helix: reduced to #150\n",
      "12 helix: #150\n",
      "hnum 11\n",
      "13 helix: reduced to #150\n",
      "13 helix: #150\n",
      "hnum 12\n",
      "14 helix: reduced to #150\n",
      "14 helix: #150\n",
      "hnum 13\n",
      "15 helix: reduced to #150\n",
      "15 helix: #150\n",
      "hnum 14\n",
      "16 helix: reduced to #150\n",
      "16 helix: #150\n",
      "hnum 15\n",
      "17 helix: reduced to #150\n",
      "17 helix: #150\n",
      "hnum 16\n",
      "18 helix: reduced to #150\n",
      "18 helix: #150\n",
      "hnum 17\n",
      "19 helix: reduced to #150\n",
      "19 helix: #150\n",
      "hnum 18\n",
      "20 helix: #27\n"
     ]
    }
   ],
   "source": [
    "bL, iL, phiList, iL, iL, suc= add_loops(end_points, neighbors=50, length_mod=3, dist_cut=6, phiQueryNum=10, randMult=0, maxPhi_cut=50,\n",
    "              uniquePhi=True, verbose=True, maxReruns=10)"
   ]
  },
  {
   "cell_type": "code",
   "execution_count": 73,
   "id": "858ce3c1",
   "metadata": {},
   "outputs": [],
   "source": [
    "outDirec= 'output/'\n",
    "x='alpha'\n",
    "for num,prot in enumerate(bL):\n",
    "    nu.dump_npdb(prot,f'{outDirec}build{x}_{num}.pdb')"
   ]
  },
  {
   "cell_type": "code",
   "execution_count": 72,
   "id": "5c857658",
   "metadata": {},
   "outputs": [
    {
     "data": {
      "text/plain": [
       "7"
      ]
     },
     "execution_count": 72,
     "metadata": {},
     "output_type": "execute_result"
    }
   ],
   "source": [
    "len(bL)"
   ]
  },
  {
   "cell_type": "code",
   "execution_count": 12,
   "id": "9c3d3e9c",
   "metadata": {},
   "outputs": [],
   "source": [
    "import GenerateEndpoints as ge"
   ]
  },
  {
   "cell_type": "code",
   "execution_count": 54,
   "id": "67ae8302",
   "metadata": {},
   "outputs": [],
   "source": [
    "epr = ge.EP_Recon(out_ep[0])"
   ]
  },
  {
   "cell_type": "code",
   "execution_count": 55,
   "id": "11acd3f5",
   "metadata": {},
   "outputs": [],
   "source": [
    "eprn = epr.to_npose()"
   ]
  },
  {
   "cell_type": "code",
   "execution_count": 56,
   "id": "6878669f",
   "metadata": {},
   "outputs": [
    {
     "data": {
      "text/plain": [
       "(5, 20)"
      ]
     },
     "execution_count": 56,
     "metadata": {},
     "output_type": "execute_result"
    }
   ],
   "source": [
    "hll = np.array(epr.helixLength_list)\n",
    "hll.shape"
   ]
  },
  {
   "cell_type": "code",
   "execution_count": 35,
   "id": "95a6a813",
   "metadata": {},
   "outputs": [
    {
     "data": {
      "text/plain": [
       "(388,)"
      ]
     },
     "execution_count": 35,
     "metadata": {},
     "output_type": "execute_result"
    }
   ],
   "source": [
    "eprn.shape"
   ]
  },
  {
   "cell_type": "code",
   "execution_count": 41,
   "id": "7ab4bcbd",
   "metadata": {},
   "outputs": [],
   "source": [
    "clash_num = []\n",
    "for x in range(len(eprn)):\n",
    "    clash_num.append(le.whole_prot_clash_check(eprn[x],hll[x]))"
   ]
  },
  {
   "cell_type": "code",
   "execution_count": 43,
   "id": "ecdd0380",
   "metadata": {},
   "outputs": [],
   "source": [
    "\n",
    "%config Completer.use_jedi = False\n",
    "import matplotlib.pyplot as plt"
   ]
  },
  {
   "cell_type": "code",
   "execution_count": 44,
   "id": "acda2ae3",
   "metadata": {},
   "outputs": [
    {
     "data": {
      "text/plain": [
       "(array([ 12.,  14.,   0.,  71.,   0., 150., 117.,   0.,  22.,   2.]),\n",
       " array([ 4. ,  4.6,  5.2,  5.8,  6.4,  7. ,  7.6,  8.2,  8.8,  9.4, 10. ]),\n",
       " <BarContainer object of 10 artists>)"
      ]
     },
     "execution_count": 44,
     "metadata": {},
     "output_type": "execute_result"
    },
    {
     "data": {
      "image/png": "[encoded data removed]",
      "text/plain": [
       "<Figure size 432x288 with 1 Axes>"
      ]
     },
     "metadata": {
      "needs_background": "light"
     },
     "output_type": "display_data"
    }
   ],
   "source": [
    "plt.hist(clash_num)"
   ]
  },
  {
   "cell_type": "code",
   "execution_count": null,
   "id": "bafa7cfe",
   "metadata": {},
   "outputs": [],
   "source": [
    "#correlate this with successful loopings"
   ]
  },
  {
   "cell_type": "code",
   "execution_count": null,
   "id": "753c8e3a",
   "metadata": {},
   "outputs": [],
   "source": []
  },
  {
   "cell_type": "code",
   "execution_count": null,
   "id": "8b817bb5",
   "metadata": {},
   "outputs": [],
   "source": []
  },
  {
   "cell_type": "code",
   "execution_count": 57,
   "id": "bb1b76fe",
   "metadata": {},
   "outputs": [],
   "source": [
    "outDirec= 'output/'\n",
    "x='alpha'\n",
    "for num,prot in enumerate(eprn):\n",
    "    nu.dump_npdb(prot,f'{outDirec}build{x}_{num}.pdb')"
   ]
  },
  {
   "cell_type": "code",
   "execution_count": 24,
   "id": "8a649462",
   "metadata": {},
   "outputs": [],
   "source": []
  },
  {
   "cell_type": "code",
   "execution_count": 25,
   "id": "1bd8c345",
   "metadata": {},
   "outputs": [],
   "source": []
  },
  {
   "cell_type": "code",
   "execution_count": 22,
   "id": "cf4ff214",
   "metadata": {},
   "outputs": [],
   "source": []
  },
  {
   "cell_type": "code",
   "execution_count": 26,
   "id": "56d905c8",
   "metadata": {},
   "outputs": [
    {
     "data": {
      "text/plain": [
       "<matplotlib.collections.PathCollection at 0x17701202b80>"
      ]
     },
     "execution_count": 26,
     "metadata": {},
     "output_type": "execute_result"
    },
    {
     "data": {
      "image/png": "[encoded data removed]",
      "text/plain": [
       "<Figure size 432x288 with 1 Axes>"
      ]
     },
     "metadata": {
      "needs_background": "light"
     },
     "output_type": "display_data"
    }
   ],
   "source": [
    "plt.scatter(circ_gp[:,0],circ_gp[:,2])"
   ]
  },
  {
   "cell_type": "code",
   "execution_count": null,
   "id": "8c81b87d",
   "metadata": {},
   "outputs": [],
   "source": []
  }
 ],
 "metadata": {
  "kernelspec": {
   "display_name": "fa_tfpy",
   "language": "python",
   "name": "fa_tfpy"
  },
  "language_info": {
   "codemirror_mode": {
    "name": "ipython",
    "version": 3
   },
   "file_extension": ".py",
   "mimetype": "text/x-python",
   "name": "python",
   "nbconvert_exporter": "python",
   "pygments_lexer": "ipython3",
   "version": "3.8.5"
  }
 },
 "nbformat": 4,
 "nbformat_minor": 5
}
