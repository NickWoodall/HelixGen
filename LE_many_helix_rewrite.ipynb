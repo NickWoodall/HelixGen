{
 "cells": [
  {
   "cell_type": "code",
   "execution_count": 1,
   "id": "8d712b4c",
   "metadata": {},
   "outputs": [
    {
     "name": "stdout",
     "output_type": "stream",
     "text": [
      "device name CPU\n"
     ]
    }
   ],
   "source": [
    "import tensorflow as tf\n",
    "\n",
    "if tf.config.list_physical_devices('GPU'):\n",
    "    device_name = tf.test.gpu_device_name()\n",
    "else:\n",
    "    device_name = 'CPU'\n",
    "device_name = 'CPU' \n",
    "print(f'device name {device_name}')\n",
    "import os\n",
    "import sys\n",
    "\n",
    "from math import cos,sin,tan,asin,acos,radians,sqrt,degrees,atan,atan2,copysign\n",
    "import numpy as np\n",
    "\n",
    "import pandas as pd\n",
    "from sklearn.preprocessing import MinMaxScaler\n",
    "import pickle\n",
    "import scipy\n",
    "from scipy.stats import norm\n",
    "import random\n",
    "import time\n",
    "import timeit\n",
    "import math\n",
    "import localization as lx\n",
    "import gzip\n",
    "\n",
    "import util.npose_util as nu\n",
    "import datetime\n",
    "from sklearn.preprocessing import MinMaxScaler\n",
    "from scipy.spatial import cKDTree\n",
    "\n",
    "\n",
    "import joblib\n",
    "from sklearn.manifold import MDS\n",
    "import argparse\n",
    "from functools import partial\n",
    "from itertools import starmap,repeat,permutations\n",
    "\n",
    "from pymol import cmd, stored, selector\n",
    "\n",
    "import GenerateEndpoints as ge\n",
    "import HelixFit as hf\n",
    "import FitTransform as ft\n",
    "\n",
    "import seaborn as sns\n",
    "import util.RotationMethods as rm\n",
    "\n",
    "import copy\n",
    "\n",
    "\n"
   ]
  },
  {
   "cell_type": "code",
   "execution_count": 2,
   "id": "5e11616a",
   "metadata": {},
   "outputs": [
    {
     "name": "stdout",
     "output_type": "stream",
     "text": [
      "device name CPU\n",
      "WARNING:tensorflow:No training configuration found in the save file, so the model was *not* compiled. Compile it manually.\n"
     ]
    }
   ],
   "source": [
    "import Guided_Midpoint_Buttress as gmp"
   ]
  },
  {
   "cell_type": "code",
   "execution_count": 3,
   "id": "ee5fb6af",
   "metadata": {},
   "outputs": [],
   "source": [
    "start_hel, gep= gmp.get_reference_input(batch=1000 )"
   ]
  },
  {
   "cell_type": "code",
   "execution_count": 4,
   "id": "f7b4ca01",
   "metadata": {},
   "outputs": [
    {
     "name": "stdout",
     "output_type": "stream",
     "text": [
      "max next indices 13\n",
      "(1000, 8, 3)\n",
      "Input Size:  100000\n",
      "Passing Filters:  535\n",
      "final pass filter 489\n",
      "max next indices 29\n",
      "(489, 8, 3)\n",
      "Input Size:  48900\n",
      "Passing Filters:  723\n",
      "final pass filter 449\n",
      "max next indices 47\n",
      "(449, 8, 3)\n",
      "Input Size:  44900\n",
      "Passing Filters:  934\n",
      "final pass filter 564\n",
      "max next indices 66\n",
      "(564, 8, 3)\n",
      "Input Size:  56400\n",
      "Passing Filters:  764\n",
      "final pass filter 398\n",
      "max next indices 89\n",
      "(398, 8, 3)\n",
      "Input Size:  39800\n",
      "Passing Filters:  533\n",
      "final pass filter 328\n",
      "max next indices 99\n",
      "(210, 8, 3)\n",
      "Input Size:  21000\n",
      "Passing Filters:  369\n",
      "final pass filter 159\n"
     ]
    }
   ],
   "source": [
    "out_ep = gmp.build_protein_on_guide(start_hel, gep, batch=200, \n",
    "                                 next_mp_dist = 11,mp_deviation_limit = 5)"
   ]
  },
  {
   "cell_type": "code",
   "execution_count": 7,
   "id": "538b5d1f",
   "metadata": {},
   "outputs": [],
   "source": [
    "gmp.vp(out_ep[1],gep,max_out=100)"
   ]
  },
  {
   "cell_type": "code",
   "execution_count": 8,
   "id": "9fc571a9",
   "metadata": {},
   "outputs": [
    {
     "data": {
      "text/plain": [
       "159"
      ]
     },
     "execution_count": 8,
     "metadata": {},
     "output_type": "execute_result"
    }
   ],
   "source": [
    "len(out_ep[1])"
   ]
  },
  {
   "cell_type": "code",
   "execution_count": 9,
   "id": "83341afd",
   "metadata": {},
   "outputs": [
    {
     "name": "stdout",
     "output_type": "stream",
     "text": [
      "277\n"
     ]
    }
   ],
   "source": [
    "sumL = 0\n",
    "\n",
    "for x in out_ep:\n",
    "    sumL += len(x)\n",
    "print(sumL)"
   ]
  },
  {
   "cell_type": "code",
   "execution_count": 10,
   "id": "f9499232",
   "metadata": {},
   "outputs": [],
   "source": [
    "import LoopEndpoints as le"
   ]
  },
  {
   "cell_type": "code",
   "execution_count": 18,
   "id": "50f06e08",
   "metadata": {},
   "outputs": [],
   "source": [
    "def add_loops(end_points, neighbors=10, length_mod=1, dist_cut=6, phiQueryNum=10, randMult=10, maxPhi_cut=20,\n",
    "              uniquePhi=True, verbose=False, maxReruns = 4):\n",
    "    \"\"\"Chains first_helix, first_loop, second helix and the iteratively loop_then_helix to add all loops to endpoints.\"\"\"\n",
    "    \n",
    "    epIn = end_points.copy()\n",
    "    size = int(len(epIn)/2) #number of helixes represented by helical endpoints\n",
    "    \n",
    "   \n",
    "    bL, iL, epGuide = le.first_helix(epIn,length_mod=length_mod)\n",
    "    if verbose:\n",
    "        print(f'first helix: #{iL.shape[0]}')\n",
    "    \n",
    "    if iL.shape[0] == 0:\n",
    "        if verbose:\n",
    "            print('fail')\n",
    "        return bL, iL, phiList, iL, iL, False\n",
    "    \n",
    "    bL, iL, epGuide, epTrue, phiList, loopFeature, xform_True = le.first_loop(bL, iL, epGuide, \n",
    "                                                                neighbors=neighbors, phiQueryNum=phiQueryNum,\n",
    "                                                                           randMult=randMult, distCut=dist_cut)\n",
    "    if verbose:\n",
    "        print(f'first loop: #{iL.shape[0]}')\n",
    "    if iL.shape[0] == 0:\n",
    "        if verbose:\n",
    "            print('fail')\n",
    "        return bL, iL, phiList, iL, iL, False\n",
    "    \n",
    "    hnum=1\n",
    "    bL, iL, epGuide, epTrue, phiList = le.second_helix(bL, iL, epGuide, epTrue, phiList, hnum, loopFeature, \n",
    "                                                   xform_True, length_mod=length_mod, distCut=dist_cut)\n",
    "    if verbose:\n",
    "        print(f'second helix: #{iL.shape[0]}')\n",
    "    \n",
    "    if iL.shape[0] == 0:\n",
    "        if verbose:\n",
    "            print('fail')\n",
    "        return bL, iL, phiList, iL, iL, False\n",
    "    \n",
    "    repeatNumber = 0 \n",
    "    hnum = 0\n",
    "    \n",
    "    bL_s = []\n",
    "    iL_s = []\n",
    "    epGuide_s = []\n",
    "    epTrue_s = []\n",
    "    phiList_s =  []\n",
    "    for x in range(0,(size-1)):\n",
    "        bL_s.append([])\n",
    "        iL_s.append([])\n",
    "        epGuide_s.append([])\n",
    "        epTrue_s.append([])\n",
    "        phiList_s.append([])\n",
    "        \n",
    "    \n",
    "    while hnum<(size-2):\n",
    "        hnum += 1\n",
    "        print('hnum',hnum)\n",
    "        bL, iL, epGuide, epTrue, phiList = le.next_loop_helix(bL, iL, epGuide, epTrue, phiList, hnum, \n",
    "                neighbors=neighbors, phiQueryNum=phiQueryNum, randMult=randMult, distCut=dist_cut,length_mod=length_mod)\n",
    "       \n",
    "        bL_s[hnum] = copy.deepcopy(bL)\n",
    "        iL_s[hnum] = iL.copy()\n",
    "        epGuide_s[hnum] = epGuide.copy()\n",
    "        epTrue_s[hnum] = epTrue.copy()\n",
    "        phiList_s[hnum] = phiList.copy()\n",
    "        \n",
    "        if iL.shape[0] == 0:\n",
    "            \n",
    "            hnum = hnum - 2\n",
    "            \n",
    "            bL = bL_s[hnum] \n",
    "            iL = iL_s[hnum] \n",
    "            epGuide = epGuide_s[hnum] \n",
    "            epTrue = epTrue_s[hnum] \n",
    "            phiList = phiList_s[hnum] \n",
    "            \n",
    "            neighbors += 5\n",
    "            maxPhi_cut += 100\n",
    "            \n",
    "            repeatNumber += 1\n",
    "            print('rn:', repeatNumber)\n",
    "                \n",
    "            if repeatNumber == maxReruns:\n",
    "                if verbose:\n",
    "                    print('fail2')\n",
    "                return bL, iL, phiList, iL, iL, False\n",
    "            \n",
    "        if iL.shape[0] > maxPhi_cut:\n",
    "            indexer = le.random_reduce(bL,num_to_keep = maxPhi_cut)\n",
    "            bL = bL[indexer]\n",
    "            iL = iL[indexer] \n",
    "            epGuide = epGuide[indexer]\n",
    "            epTrue =  epTrue[indexer]\n",
    "            phiList = phiList[indexer]\n",
    "            if verbose:\n",
    "                print(f'{hnum+2} helix: reduced to #{maxPhi_cut}')\n",
    "        if verbose:\n",
    "            print(f'{hnum+2} helix: #{iL.shape[0]}')\n",
    "            \n",
    "         \n",
    "    #only return proteins with a unique set of loops queried from different phi bins\n",
    "    if uniquePhi:\n",
    "        phiList, u_indices = np.unique(phiList,axis=0,return_index=True)\n",
    "        epGuide = epGuide[u_indices]\n",
    "        epTrue = epTrue[u_indices]\n",
    "        iL = iL[u_indices]\n",
    "        bL = bL[u_indices]\n",
    "    \n",
    "    return bL, iL, phiList, epGuide, epTrue, True"
   ]
  },
  {
   "cell_type": "code",
   "execution_count": 11,
   "id": "8d87e0d7",
   "metadata": {},
   "outputs": [],
   "source": [
    "end_points = out_ep[1][79]\n",
    "length_mod=1\n",
    "dist_cut=6\n",
    "phiQueryNum=10\n",
    "neighbors = 10\n",
    "randMult=10\n",
    "maxPhi_cut=20\n",
    "verbose= True"
   ]
  },
  {
   "cell_type": "code",
   "execution_count": 12,
   "id": "acd571fd",
   "metadata": {},
   "outputs": [
    {
     "data": {
      "text/plain": [
       "(28, 3)"
      ]
     },
     "execution_count": 12,
     "metadata": {},
     "output_type": "execute_result"
    }
   ],
   "source": [
    "end_points.shape"
   ]
  },
  {
   "cell_type": "code",
   "execution_count": 14,
   "id": "a1cf3809",
   "metadata": {},
   "outputs": [
    {
     "name": "stdout",
     "output_type": "stream",
     "text": [
      "first helix: #7\n",
      "first loop: #203\n",
      "second helix: #77\n",
      "hnum 1\n",
      "3 helix: reduced to #20\n",
      "3 helix: #20\n",
      "hnum 2\n",
      "4 helix: reduced to #20\n",
      "4 helix: #20\n",
      "hnum 3\n",
      "5 helix: #14\n",
      "hnum 4\n",
      "rn: 1\n",
      "4 helix: reduced to #120\n",
      "4 helix: #120\n",
      "hnum 3\n",
      "5 helix: reduced to #120\n",
      "5 helix: #120\n",
      "hnum 4\n",
      "6 helix: reduced to #120\n",
      "6 helix: #120\n",
      "hnum 5\n",
      "7 helix: reduced to #120\n",
      "7 helix: #120\n",
      "hnum 6\n",
      "8 helix: reduced to #120\n",
      "8 helix: #120\n",
      "hnum 7\n",
      "9 helix: reduced to #120\n",
      "9 helix: #120\n",
      "hnum 8\n",
      "10 helix: reduced to #120\n",
      "10 helix: #120\n",
      "hnum 9\n",
      "11 helix: #51\n",
      "hnum 10\n",
      "12 helix: reduced to #120\n",
      "12 helix: #120\n",
      "hnum 11\n",
      "13 helix: reduced to #120\n",
      "13 helix: #120\n",
      "hnum 12\n",
      "rn: 2\n",
      "12 helix: reduced to #220\n",
      "12 helix: #220\n",
      "hnum 11\n",
      "13 helix: reduced to #220\n",
      "13 helix: #220\n",
      "hnum 12\n",
      "14 helix: #1\n"
     ]
    }
   ],
   "source": [
    "bL, iL, phiList, iL, iL, suc= add_loops(end_points, neighbors=10, length_mod=3, dist_cut=6, phiQueryNum=10, randMult=0, maxPhi_cut=20,\n",
    "              uniquePhi=True, verbose=True)"
   ]
  },
  {
   "cell_type": "code",
   "execution_count": 17,
   "id": "858ce3c1",
   "metadata": {},
   "outputs": [],
   "source": [
    "outDirec= 'output/'\n",
    "x='test'\n",
    "for num,prot in enumerate(bL):\n",
    "    nu.dump_npdb(prot,f'{outDirec}build{x}_{num}.pdb')"
   ]
  },
  {
   "cell_type": "code",
   "execution_count": 13,
   "id": "8a0f17a0",
   "metadata": {},
   "outputs": [],
   "source": [
    "def add_loops(end_points, neighbors=10, length_mod=1, dist_cut=6, phiQueryNum=10, randMult=10, maxPhi_cut=20,\n",
    "              uniquePhi=True, verbose=False, maxReruns = 4):\n",
    "    \"\"\"Chains first_helix, first_loop, second helix and the iteratively loop_then_helix to add all loops to endpoints.\"\"\"\n",
    "    \n",
    "    epIn = end_points.copy()\n",
    "    size = int(len(epIn)/2) #number of helixes represented by helical endpoints\n",
    "    \n",
    "   \n",
    "    bL, iL, epGuide = le.first_helix(epIn,length_mod=length_mod)\n",
    "    if verbose:\n",
    "        print(f'first helix: #{iL.shape[0]}')\n",
    "    \n",
    "    if iL.shape[0] == 0:\n",
    "        if verbose:\n",
    "            print('fail')\n",
    "        return bL, iL, phiList, iL, iL, False\n",
    "    \n",
    "    bL, iL, epGuide, epTrue, phiList, loopFeature, xform_True = le.first_loop(bL, iL, epGuide, \n",
    "                                                                neighbors=neighbors, phiQueryNum=phiQueryNum,\n",
    "                                                                           randMult=randMult, distCut=dist_cut)\n",
    "    if verbose:\n",
    "        print(f'first loop: #{iL.shape[0]}')\n",
    "    if iL.shape[0] == 0:\n",
    "        if verbose:\n",
    "            print('fail')\n",
    "        return bL, iL, phiList, iL, iL, False\n",
    "    \n",
    "    hnum=1\n",
    "    bL, iL, epGuide, epTrue, phiList = le.second_helix(bL, iL, epGuide, epTrue, phiList, hnum, loopFeature, \n",
    "                                                   xform_True, length_mod=length_mod, distCut=dist_cut)\n",
    "    if verbose:\n",
    "        print(f'second helix: #{iL.shape[0]}')\n",
    "    \n",
    "    if iL.shape[0] == 0:\n",
    "        if verbose:\n",
    "            print('fail')\n",
    "        return bL, iL, phiList, iL, iL, False\n",
    "    \n",
    "    repeatNumber = 0 \n",
    "    hnum = 0\n",
    "    \n",
    "    bL_s = []\n",
    "    iL_s = []\n",
    "    epGuide_s = []\n",
    "    epTrue_s = []\n",
    "    phiList_s =  []\n",
    "    for x in range(0,(size-1)):\n",
    "        bL_s.append([])\n",
    "        iL_s.append([])\n",
    "        epGuide_s.append([])\n",
    "        epTrue_s.append([])\n",
    "        phiList_s.append([])\n",
    "        \n",
    "    \n",
    "    while hnum<(size-2):\n",
    "        hnum += 1\n",
    "        print('hnum',hnum)\n",
    "        bL, iL, epGuide, epTrue, phiList = le.next_loop_helix(bL, iL, epGuide, epTrue, phiList, hnum, \n",
    "                neighbors=neighbors, phiQueryNum=phiQueryNum, randMult=randMult, distCut=dist_cut,length_mod=length_mod)\n",
    "       \n",
    "        bL_s[hnum] = copy.deepcopy(bL)\n",
    "        iL_s[hnum] = iL.copy()\n",
    "        epGuide_s[hnum] = epGuide.copy()\n",
    "        epTrue_s[hnum] = epTrue.copy()\n",
    "        phiList_s[hnum] = phiList.copy()\n",
    "        \n",
    "        if iL.shape[0] == 0:\n",
    "            \n",
    "            hnum = hnum - 2\n",
    "            \n",
    "            bL = bL_s[hnum] \n",
    "            iL = iL_s[hnum] \n",
    "            epGuide = epGuide_s[hnum] \n",
    "            epTrue = epTrue_s[hnum] \n",
    "            phiList = phiList_s[hnum] \n",
    "            \n",
    "            neighbors += 5\n",
    "            maxPhi_cut += 100\n",
    "            \n",
    "            repeatNumber += 1\n",
    "            print('rn:', repeatNumber)\n",
    "                \n",
    "            if repeatNumber == maxReruns:\n",
    "                if verbose:\n",
    "                    print('fail2')\n",
    "                return bL, iL, phiList, iL, iL, False\n",
    "            \n",
    "        if iL.shape[0] > maxPhi_cut:\n",
    "            indexer = le.random_reduce(bL,num_to_keep = maxPhi_cut)\n",
    "            bL = bL[indexer]\n",
    "            iL = iL[indexer] \n",
    "            epGuide = epGuide[indexer]\n",
    "            epTrue =  epTrue[indexer]\n",
    "            phiList = phiList[indexer]\n",
    "            if verbose:\n",
    "                print(f'{hnum+2} helix: reduced to #{maxPhi_cut}')\n",
    "        if verbose:\n",
    "            print(f'{hnum+2} helix: #{iL.shape[0]}')\n",
    "            \n",
    "         \n",
    "    #only return proteins with a unique set of loops queried from different phi bins\n",
    "    if uniquePhi:\n",
    "        phiList, u_indices = np.unique(phiList,axis=0,return_index=True)\n",
    "        epGuide = epGuide[u_indices]\n",
    "        epTrue = epTrue[u_indices]\n",
    "        iL = iL[u_indices]\n",
    "        bL = bL[u_indices]\n",
    "    \n",
    "    return bL, iL, phiList, epGuide, epTrue, True"
   ]
  },
  {
   "cell_type": "code",
   "execution_count": null,
   "id": "13807d84",
   "metadata": {},
   "outputs": [],
   "source": []
  },
  {
   "cell_type": "code",
   "execution_count": null,
   "id": "4161a4fd",
   "metadata": {},
   "outputs": [],
   "source": [
    "def generate_parabola(start, stop, h=[20,20,20], k=[20,30,40], num_points = 100):\n",
    "    #create a set of parabolas past through ([0,0]) start of helices to vertex ([[10,20],[10,30],[10,40]])\n",
    "    # (x-h)^2 = -4(a)(y-k)\n",
    "    # Solve for 'a' at x=0, y=0\n",
    "    # (0-h)^2 = -4(a)(0-k)\n",
    "    #      a  =  h^2/4k\n",
    "    h = np.array(h).reshape((-1,1))\n",
    "    k = np.array(k).reshape((-1,1))\n",
    "    a = np.square(h)/(4*k)\n",
    "    \n",
    "    #trace x from 0 to 10\n",
    "    # -4ay +4ak = (x-h)^2\n",
    "    # -4ay = (x-h)^2 - 4ak\n",
    "    #    y = ( (x-h)^2 - 4ak  ) / (-4a)\n",
    "    #    y = (4ak - (x-h)^2)\n",
    "    x = np.repeat(np.expand_dims(np.linspace(start,stop,num=100), axis=0), h.shape[0],axis=0)\n",
    "    z = np.divide(4*a*k -np.square(x-h), (4*a))\n",
    "   \n",
    "    x=np.expand_dims(x,axis=2)\n",
    "    z=np.expand_dims(z,axis=2)\n",
    "    y = np.zeros_like(x)\n",
    "    gen_para =  np.concatenate((x,y,z),axis = 2)\n",
    "    \n",
    "    return gen_para"
   ]
  },
  {
   "cell_type": "code",
   "execution_count": 29,
   "id": "8a649462",
   "metadata": {},
   "outputs": [],
   "source": [
    "def generate_pos_circle(start, stop, h=30, k=0, r=30, num_points= 100):\n",
    "    \"\"\"Generate guide points originating a the origin for a circle, positive values only. \"\"\"\n",
    "    #(x-h)^2 + (y-k)^2 = r^(2)\n",
    "    # y = sqrt(r^2-(x-h^2))+k\n",
    "    x = np.linspace(start,stop,num=100)\n",
    "    z = np.sqrt(np.square(r)-np.square(x-h))+k\n",
    "    y = np.zeros_like(x)\n",
    "    return x,y,z"
   ]
  },
  {
   "cell_type": "code",
   "execution_count": 34,
   "id": "1bd8c345",
   "metadata": {},
   "outputs": [],
   "source": [
    "x,y,z = generate_pos_circle(0,30,h=30,k=0,r=30)"
   ]
  },
  {
   "cell_type": "code",
   "execution_count": 44,
   "id": "7f9ac600",
   "metadata": {},
   "outputs": [],
   "source": [
    "circ = np.concatenate((x.reshape((-1,1)),y.reshape((-1,1)),z.reshape((-1,1))),axis=1)"
   ]
  },
  {
   "cell_type": "code",
   "execution_count": null,
   "id": "cf4ff214",
   "metadata": {},
   "outputs": [],
   "source": []
  }
 ],
 "metadata": {
  "kernelspec": {
   "display_name": "fa_tfpy",
   "language": "python",
   "name": "fa_tfpy"
  },
  "language_info": {
   "codemirror_mode": {
    "name": "ipython",
    "version": 3
   },
   "file_extension": ".py",
   "mimetype": "text/x-python",
   "name": "python",
   "nbconvert_exporter": "python",
   "pygments_lexer": "ipython3",
   "version": "3.8.5"
  }
 },
 "nbformat": 4,
 "nbformat_minor": 5
}
