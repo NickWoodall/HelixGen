{
 "cells": [
  {
   "cell_type": "code",
   "execution_count": 1,
   "id": "8d712b4c",
   "metadata": {},
   "outputs": [
    {
     "name": "stdout",
     "output_type": "stream",
     "text": [
      "device name CPU\n",
      "device name CPU\n",
      "WARNING:tensorflow:No training configuration found in the save file, so the model was *not* compiled. Compile it manually.\n"
     ]
    }
   ],
   "source": [
    "import tensorflow as tf\n",
    "\n",
    "if tf.config.list_physical_devices('GPU'):\n",
    "    device_name = tf.test.gpu_device_name()\n",
    "else:\n",
    "    device_name = 'CPU'\n",
    "device_name = 'CPU' \n",
    "print(f'device name {device_name}')\n",
    "import os\n",
    "import sys\n",
    "\n",
    "from math import cos,sin,tan,asin,acos,radians,sqrt,degrees,atan,atan2,copysign\n",
    "import numpy as np\n",
    "\n",
    "import pandas as pd\n",
    "from sklearn.preprocessing import MinMaxScaler\n",
    "import pickle\n",
    "import scipy\n",
    "from scipy.stats import norm\n",
    "import random\n",
    "import time\n",
    "import timeit\n",
    "import math\n",
    "import localization as lx\n",
    "import gzip\n",
    "\n",
    "import util.npose_util as nu\n",
    "import datetime\n",
    "from sklearn.preprocessing import MinMaxScaler\n",
    "from scipy.spatial import cKDTree\n",
    "\n",
    "\n",
    "import joblib\n",
    "from sklearn.manifold import MDS\n",
    "import argparse\n",
    "from functools import partial\n",
    "from itertools import starmap,repeat,permutations\n",
    "\n",
    "from pymol import cmd, stored, selector\n",
    "\n",
    "import GenerateEndpoints as ge\n",
    "import HelixFit as hf\n",
    "import FitTransform as ft\n",
    "\n",
    "import seaborn as sns\n",
    "import util.RotationMethods as rm\n",
    "\n",
    "import GenerateEndpoints as ge\n",
    "import matplotlib.pyplot as plt\n",
    "\n",
    "import copy\n",
    "import Guided_Midpoint_Buttress as gmp"
   ]
  },
  {
   "cell_type": "code",
   "execution_count": 2,
   "id": "6aa56920",
   "metadata": {},
   "outputs": [],
   "source": [
    "def add_loops(end_points, neighbors=10, length_mod=1, dist_cut=6, phiQueryNum=10, randMult=10, maxPhi_cut=20,\n",
    "              uniquePhi=True, verbose=False, maxReruns = 4):\n",
    "    \"\"\"Chains first_helix, first_loop, second helix and the iteratively loop_then_helix to add all loops to endpoints.\"\"\"\n",
    "    \n",
    "    epIn = end_points.copy()\n",
    "    size = int(len(epIn)/2) #number of helixes represented by helical endpoints\n",
    "    \n",
    "   \n",
    "    bL, iL, epGuide = le.first_helix(epIn,length_mod=length_mod)\n",
    "    if verbose:\n",
    "        print(f'first helix: #{iL.shape[0]}')\n",
    "    \n",
    "    if iL.shape[0] == 0:\n",
    "        if verbose:\n",
    "            print('fail')\n",
    "        return bL, iL, phiList, iL, iL, False\n",
    "    \n",
    "    bL, iL, epGuide, epTrue, phiList, loopFeature, xform_True = le.first_loop(bL, iL, epGuide, \n",
    "                                                                neighbors=neighbors, phiQueryNum=phiQueryNum,\n",
    "                                                                           randMult=randMult, distCut=dist_cut)\n",
    "    if verbose:\n",
    "        print(f'first loop: #{iL.shape[0]}')\n",
    "    if iL.shape[0] == 0:\n",
    "        if verbose:\n",
    "            print('fail')\n",
    "        return bL, iL, phiList, iL, iL, False\n",
    "    \n",
    "    hnum=1\n",
    "    bL, iL, epGuide, epTrue, phiList = le.second_helix(bL, iL, epGuide, epTrue, phiList, hnum, loopFeature, \n",
    "                                                   xform_True, length_mod=length_mod, distCut=dist_cut)\n",
    "    if verbose:\n",
    "        print(f'second helix: #{iL.shape[0]}')\n",
    "    \n",
    "    if iL.shape[0] == 0:\n",
    "        if verbose:\n",
    "            print('fail')\n",
    "        return bL, iL, phiList, iL, iL, False\n",
    "    \n",
    "    repeatNumber = 0 \n",
    "    hnum = 0\n",
    "    \n",
    "    bL_s = []\n",
    "    iL_s = []\n",
    "    epGuide_s = []\n",
    "    epTrue_s = []\n",
    "    phiList_s =  []\n",
    "    for x in range(0,(size-1)):\n",
    "        bL_s.append([])\n",
    "        iL_s.append([])\n",
    "        epGuide_s.append([])\n",
    "        epTrue_s.append([])\n",
    "        phiList_s.append([])\n",
    "        \n",
    "    \n",
    "    while hnum<(size-2):\n",
    "        hnum += 1\n",
    "        print('hnum',hnum)\n",
    "        bL, iL, epGuide, epTrue, phiList = le.next_loop_helix(bL, iL, epGuide, epTrue, phiList, hnum, \n",
    "                neighbors=neighbors, phiQueryNum=phiQueryNum, randMult=randMult, distCut=dist_cut,length_mod=length_mod)\n",
    "       \n",
    "        bL_s[hnum] = copy.deepcopy(bL)\n",
    "        iL_s[hnum] = iL.copy()\n",
    "        epGuide_s[hnum] = epGuide.copy()\n",
    "        epTrue_s[hnum] = epTrue.copy()\n",
    "        phiList_s[hnum] = phiList.copy()\n",
    "        \n",
    "        if iL.shape[0] == 0:\n",
    "            \n",
    "            hnum = hnum - 2\n",
    "            \n",
    "            bL = bL_s[hnum] \n",
    "            iL = iL_s[hnum] \n",
    "            epGuide = epGuide_s[hnum] \n",
    "            epTrue = epTrue_s[hnum] \n",
    "            phiList = phiList_s[hnum] \n",
    "            \n",
    "            neighbors += 5\n",
    "            maxPhi_cut += 100\n",
    "            \n",
    "            repeatNumber += 1\n",
    "            print('rn:', repeatNumber)\n",
    "                \n",
    "            if repeatNumber == maxReruns:\n",
    "                if verbose:\n",
    "                    print('fail2')\n",
    "                return bL, iL, phiList, iL, iL, False\n",
    "            \n",
    "        if iL.shape[0] > maxPhi_cut:\n",
    "            indexer = le.random_reduce(bL,num_to_keep = maxPhi_cut)\n",
    "            bL = bL[indexer]\n",
    "            iL = iL[indexer] \n",
    "            epGuide = epGuide[indexer]\n",
    "            epTrue =  epTrue[indexer]\n",
    "            phiList = phiList[indexer]\n",
    "            if verbose:\n",
    "                print(f'{hnum+2} helix: reduced to #{maxPhi_cut}')\n",
    "        if verbose:\n",
    "            print(f'{hnum+2} helix: #{iL.shape[0]}')\n",
    "            \n",
    "         \n",
    "    #only return proteins with a unique set of loops queried from different phi bins\n",
    "    if uniquePhi:\n",
    "        phiList, u_indices = np.unique(phiList,axis=0,return_index=True)\n",
    "        epGuide = epGuide[u_indices]\n",
    "        epTrue = epTrue[u_indices]\n",
    "        iL = iL[u_indices]\n",
    "        bL = bL[u_indices]\n",
    "    \n",
    "    return bL, iL, phiList, epGuide, epTrue, True"
   ]
  },
  {
   "cell_type": "code",
   "execution_count": 3,
   "id": "6e90deab",
   "metadata": {},
   "outputs": [],
   "source": [
    "#generate guide points\n",
    "\n",
    "def generate_parabola(start, stop, h=[20,20,20], k=[20,30,40], num_points = 100):\n",
    "    #create a set of parabolas past through ([0,0]) start of helices to vertex ([[10,20],[10,30],[10,40]])\n",
    "    # (x-h)^2 = -4(a)(y-k)\n",
    "    # Solve for 'a' at x=0, y=0\n",
    "    # (0-h)^2 = -4(a)(0-k)\n",
    "    #      a  =  h^2/4k\n",
    "    h = np.array(h).reshape((-1,1))\n",
    "    k = np.array(k).reshape((-1,1))\n",
    "    a = np.square(h)/(4*k)\n",
    "    \n",
    "    #trace x from 0 to 10\n",
    "    # -4ay +4ak = (x-h)^2\n",
    "    # -4ay = (x-h)^2 - 4ak\n",
    "    #    y = ( (x-h)^2 - 4ak  ) / (-4a)\n",
    "    #    y = (4ak - (x-h)^2)\n",
    "    x = np.repeat(np.expand_dims(np.linspace(start,stop,num=100), axis=0), h.shape[0],axis=0)\n",
    "    z = np.divide(4*a*k -np.square(x-h), (4*a))\n",
    "   \n",
    "    x=np.expand_dims(x,axis=2)\n",
    "    z=np.expand_dims(z,axis=2)\n",
    "    y = np.zeros_like(x)\n",
    "    gen_para =  np.concatenate((x,y,z),axis = 2)\n",
    "    \n",
    "    return gen_para\n",
    "    \n",
    "#rotate parabola around the x axis\n",
    "# angleDeg = 90\n",
    "# gpi = 1\n",
    "# xfr=nu.xform_from_axis_angle_deg([1,0,0],angleDeg)\n",
    "# gp = np.hstack((g_para[gpi],np.ones_like(g_para[gpi,:,gpi].reshape((-1,1)))  ))\n",
    "# gp_z=nu.xform_npose(xfr,gp)[:,:3]\n",
    "# gp_z.shape\n",
    "\n",
    "# plt.scatter(gp_z[:,0], gp_z[:,2], alpha=0.5)\n",
    "# plt.axis('equal')\n",
    "# plt.show()\n",
    "\n",
    "\n",
    "def generate_pos_circle(start, stop, h=30, k=0, r=30, num_points= 100):\n",
    "    \"\"\"Generate guide points originating a the origin for a circle, positive values only. \"\"\"\n",
    "    #(x-h)^2 + (y-k)^2 = r^(2)\n",
    "    # y = sqrt(r^2-(x-h^2))+k\n",
    "    x = np.linspace(start,stop,num=num_points)\n",
    "    z = np.sqrt(np.square(r)-np.square(x-h))+k\n",
    "    y = np.zeros_like(x)\n",
    "    return np.concatenate((x.reshape((-1,1)),y.reshape((-1,1)),z.reshape((-1,1))),axis=1)\n",
    "\n",
    "def add_xline(inputP, line_length, num=60):\n",
    "    line = np.zeros((num,3))\n",
    "    line[:,0] = np.linspace(0, line_length, num=num)\n",
    "    cline = inputP[-1]+line\n",
    "    ci_line = np.concatenate((inputP,cline),axis=0)\n",
    "    \n",
    "    return ci_line\n",
    "\n",
    "circ_gp = generate_pos_circle(0,60,h=60,k=0,r=60, num_points= 200)\n",
    "ci_line = add_xline(circ_gp[:-1], 20, num=60)"
   ]
  },
  {
   "cell_type": "code",
   "execution_count": 4,
   "id": "fc8005d4",
   "metadata": {},
   "outputs": [],
   "source": [
    "# nump = 100\n",
    "# ini = np.zeros((nump,3))\n",
    "\n",
    "# ini[:20,2] = np.linspace(0,20,num=20)\n",
    "# ini[20:,2] = 20\n",
    "# ini[20:,1] = np.linspace(0,40,num=80)"
   ]
  },
  {
   "cell_type": "code",
   "execution_count": null,
   "id": "098ce8e1",
   "metadata": {},
   "outputs": [],
   "source": []
  },
  {
   "cell_type": "code",
   "execution_count": 5,
   "id": "ee5fb6af",
   "metadata": {},
   "outputs": [],
   "source": [
    "start_hel = gmp.get_reference_input(batch=3000)"
   ]
  },
  {
   "cell_type": "code",
   "execution_count": 6,
   "id": "d99f11c2",
   "metadata": {},
   "outputs": [
    {
     "name": "stdout",
     "output_type": "stream",
     "text": [
      "max next indices 2\n",
      "(3000, 8, 3)\n",
      "Input Size:  300000\n",
      "Passing Filters:  1000\n",
      "clash keep 901\n",
      "final pass filter 901\n",
      "max next indices 12\n",
      "(901, 8, 3)\n",
      "Input Size:  90100\n",
      "Passing Filters:  1000\n",
      "clash keep 490\n",
      "final pass filter 490\n",
      "max next indices 28\n",
      "(490, 8, 3)\n",
      "Input Size:  49000\n",
      "Passing Filters:  1000\n",
      "clash keep 270\n",
      "final pass filter 270\n",
      "max next indices 46\n",
      "(270, 8, 3)\n",
      "Input Size:  27000\n",
      "Passing Filters:  1000\n",
      "clash keep 308\n",
      "final pass filter 308\n",
      "max next indices 67\n",
      "(308, 8, 3)\n",
      "Input Size:  30800\n",
      "Passing Filters:  1000\n",
      "clash keep 290\n",
      "final pass filter 290\n",
      "max next indices 98\n",
      "(290, 8, 3)\n",
      "Input Size:  29000\n",
      "Passing Filters:  940\n",
      "clash keep 132\n",
      "final pass filter 132\n",
      "max next indices 123\n",
      "(132, 8, 3)\n",
      "Input Size:  13200\n",
      "Passing Filters:  320\n",
      "clash keep 95\n",
      "final pass filter 95\n",
      "max next indices 154\n",
      "(95, 8, 3)\n",
      "Input Size:  9500\n",
      "Passing Filters:  266\n",
      "clash keep 44\n",
      "final pass filter 44\n",
      "max next indices 189\n",
      "(44, 8, 3)\n",
      "Input Size:  4400\n",
      "Passing Filters:  167\n",
      "clash keep 70\n",
      "final pass filter 70\n",
      "max next indices 195\n",
      "(6, 8, 3)\n",
      "Input Size:  600\n",
      "Passing Filters:  2\n",
      "clash keep 2\n",
      "final pass filter 2\n",
      "Wall time: 3min 53s\n"
     ]
    }
   ],
   "source": [
    "%%time\n",
    "out_ep = gmp.build_protein_on_guide_clash(start_hel, circ_gp, batch=10, \n",
    "                                 next_mp_dist=9, mp_deviation_limit = 5,maxOut=1000,maxClash_num=5)"
   ]
  },
  {
   "cell_type": "code",
   "execution_count": 7,
   "id": "f7b4ca01",
   "metadata": {},
   "outputs": [
    {
     "name": "stdout",
     "output_type": "stream",
     "text": [
      "Wall time: 0 ns\n"
     ]
    }
   ],
   "source": [
    "%%time\n",
    "# circ_gp = generate_pos_circle(0,60,h=60,k=0,r=60, num_points= 200)\n",
    "# ci_line = add_xline(circ_gp, 20, num=60)\n",
    "# out_ep = gmp.build_protein_on_guide(start_hel, ci_line, batch=400, \n",
    "#                                  next_mp_dist=10, mp_deviation_limit = 5,maxOut=1000)\n",
    "\n",
    "\n",
    "# out_ep = gmp.build_protein_on_guide(start_hel, ci_line, batch=50, \n",
    "#                                  next_mp_dist=10, mp_deviation_limit = 5,maxOut=1000)"
   ]
  },
  {
   "cell_type": "code",
   "execution_count": 7,
   "id": "83341afd",
   "metadata": {
    "scrolled": true
   },
   "outputs": [
    {
     "name": "stdout",
     "output_type": "stream",
     "text": [
      "0 64\n",
      "1 2\n",
      "total 66\n"
     ]
    }
   ],
   "source": [
    "sumL = 0\n",
    "\n",
    "for i,x in enumerate(out_ep):\n",
    "    sumL += len(x)\n",
    "    print(i, len(x))\n",
    "print('total',sumL)"
   ]
  },
  {
   "cell_type": "code",
   "execution_count": 8,
   "id": "5713af64",
   "metadata": {},
   "outputs": [
    {
     "name": "stdout",
     "output_type": "stream",
     "text": [
      " PyMOL not running, entering library mode (experimental)\n"
     ]
    }
   ],
   "source": [
    "gmp.vp(out_ep[0],circ_gp,max_out=100)"
   ]
  },
  {
   "cell_type": "code",
   "execution_count": null,
   "id": "ea8db315",
   "metadata": {},
   "outputs": [],
   "source": []
  },
  {
   "cell_type": "code",
   "execution_count": null,
   "id": "3ebaeac5",
   "metadata": {},
   "outputs": [],
   "source": []
  },
  {
   "cell_type": "code",
   "execution_count": null,
   "id": "ecd72be9",
   "metadata": {},
   "outputs": [],
   "source": []
  },
  {
   "cell_type": "code",
   "execution_count": null,
   "id": "ce031147",
   "metadata": {},
   "outputs": [],
   "source": []
  },
  {
   "cell_type": "code",
   "execution_count": 31,
   "id": "bab14f5b",
   "metadata": {},
   "outputs": [
    {
     "data": {
      "text/plain": [
       "(array([1., 0., 0., 0., 0., 0., 0., 0., 0., 2.]),\n",
       " array([10. , 10.2, 10.4, 10.6, 10.8, 11. , 11.2, 11.4, 11.6, 11.8, 12. ]),\n",
       " <BarContainer object of 10 artists>)"
      ]
     },
     "execution_count": 31,
     "metadata": {},
     "output_type": "execute_result"
    },
    {
     "data": {
      "image/png": "[encoded data removed]",
      "text/plain": [
       "<Figure size 432x288 with 1 Axes>"
      ]
     },
     "metadata": {
      "needs_background": "light"
     },
     "output_type": "display_data"
    }
   ],
   "source": [
    "import LoopEndpoints as le\n",
    "#code to \n",
    "epr = ge.EP_Recon(out_ep[0])\n",
    "eprn = epr.to_npose()\n",
    "hll = np.array(epr.helixLength_list)\n",
    "hll.shape\n",
    "clash_num = []\n",
    "for x in range(len(eprn)):\n",
    "    clash_num.append(le.whole_prot_clash_check(eprn[x],hll[x]))\n",
    "plt.hist(clash_num)   "
   ]
  },
  {
   "cell_type": "code",
   "execution_count": 20,
   "id": "f9499232",
   "metadata": {},
   "outputs": [],
   "source": []
  },
  {
   "cell_type": "code",
   "execution_count": 17,
   "id": "50f06e08",
   "metadata": {},
   "outputs": [],
   "source": [
    "cn_bon = np.nonzero((clash_num)[0]<16)"
   ]
  },
  {
   "cell_type": "code",
   "execution_count": null,
   "id": "3777ab75",
   "metadata": {},
   "outputs": [],
   "source": []
  },
  {
   "cell_type": "code",
   "execution_count": 18,
   "id": "22ec74dd",
   "metadata": {},
   "outputs": [
    {
     "data": {
      "text/plain": [
       "(array([0], dtype=int64),)"
      ]
     },
     "execution_count": 18,
     "metadata": {},
     "output_type": "execute_result"
    }
   ],
   "source": [
    "cn_bon"
   ]
  },
  {
   "cell_type": "code",
   "execution_count": 9,
   "id": "8d87e0d7",
   "metadata": {},
   "outputs": [],
   "source": [
    "import LoopEndpoints as le\n",
    "end_points = out_ep[0][0]\n",
    "length_mod=1\n",
    "dist_cut=6\n",
    "phiQueryNum=10\n",
    "neighbors = 10\n",
    "randMult=10\n",
    "maxPhi_cut=20\n",
    "verbose= True"
   ]
  },
  {
   "cell_type": "code",
   "execution_count": 10,
   "id": "acd571fd",
   "metadata": {},
   "outputs": [
    {
     "data": {
      "text/plain": [
       "(40, 3)"
      ]
     },
     "execution_count": 10,
     "metadata": {},
     "output_type": "execute_result"
    }
   ],
   "source": [
    "end_points.shape"
   ]
  },
  {
   "cell_type": "code",
   "execution_count": 21,
   "id": "a1cf3809",
   "metadata": {},
   "outputs": [
    {
     "name": "stdout",
     "output_type": "stream",
     "text": [
      "first helix: #7\n",
      "first loop: #448\n",
      "second helix: #626\n",
      "hnum 1\n",
      "3 helix: reduced to #60\n",
      "3 helix: #60\n",
      "hnum 2\n",
      "4 helix: reduced to #60\n",
      "4 helix: #60\n",
      "hnum 3\n",
      "5 helix: reduced to #60\n",
      "5 helix: #60\n",
      "hnum 4\n",
      "6 helix: reduced to #60\n",
      "6 helix: #60\n",
      "hnum 5\n",
      "7 helix: reduced to #60\n",
      "7 helix: #60\n",
      "hnum 6\n",
      "8 helix: reduced to #60\n",
      "8 helix: #60\n",
      "hnum 7\n",
      "9 helix: reduced to #60\n",
      "9 helix: #60\n",
      "hnum 8\n",
      "10 helix: reduced to #60\n",
      "10 helix: #60\n",
      "hnum 9\n",
      "11 helix: reduced to #60\n",
      "11 helix: #60\n",
      "hnum 10\n",
      "12 helix: reduced to #60\n",
      "12 helix: #60\n",
      "hnum 11\n",
      "13 helix: reduced to #60\n",
      "13 helix: #60\n",
      "hnum 12\n",
      "14 helix: reduced to #60\n",
      "14 helix: #60\n",
      "hnum 13\n",
      "15 helix: reduced to #60\n",
      "15 helix: #60\n",
      "hnum 14\n",
      "16 helix: reduced to #60\n",
      "16 helix: #60\n",
      "hnum 15\n",
      "17 helix: reduced to #60\n",
      "17 helix: #60\n",
      "hnum 16\n",
      "18 helix: reduced to #60\n",
      "18 helix: #60\n",
      "hnum 17\n",
      "19 helix: #43\n",
      "hnum 18\n",
      "20 helix: reduced to #60\n",
      "20 helix: #60\n",
      "Wall time: 57.7 s\n"
     ]
    }
   ],
   "source": [
    "%%time\n",
    "bL, iL, phiList, epGuide, epTrue, suc= add_loops(end_points, neighbors=20, length_mod=3, dist_cut=6, phiQueryNum=10, randMult=0, maxPhi_cut=60,\n",
    "              uniquePhi=True, verbose=True, maxReruns=1)"
   ]
  },
  {
   "cell_type": "code",
   "execution_count": 16,
   "id": "de193094",
   "metadata": {},
   "outputs": [],
   "source": [
    "outDirec= 'output/'\n",
    "x='gamma'\n",
    "for num,prot in enumerate(bL):\n",
    "    if num>200:\n",
    "        break\n",
    "    nu.dump_npdb(prot,f'{outDirec}build{x}_{num}.pdb')"
   ]
  },
  {
   "cell_type": "code",
   "execution_count": 17,
   "id": "a185bfe7",
   "metadata": {},
   "outputs": [],
   "source": [
    "epr = ge.EP_Recon([out_ep[0][0]])\n",
    "eprn = epr.to_npose()\n",
    "hll = np.array(epr.helixLength_list)"
   ]
  },
  {
   "cell_type": "code",
   "execution_count": 329,
   "id": "484c828a",
   "metadata": {},
   "outputs": [
    {
     "data": {
      "text/plain": [
       "1"
      ]
     },
     "execution_count": 329,
     "metadata": {},
     "output_type": "execute_result"
    }
   ],
   "source": [
    "hf.HelicalProtein.makePointPDB(epGuide[16] ,f'guide.pdb',outDirec='output/')    "
   ]
  },
  {
   "cell_type": "code",
   "execution_count": 330,
   "id": "d1a20db4",
   "metadata": {},
   "outputs": [
    {
     "data": {
      "text/plain": [
       "1"
      ]
     },
     "execution_count": 330,
     "metadata": {},
     "output_type": "execute_result"
    }
   ],
   "source": [
    "hf.HelicalProtein.makePointPDB(epTrue[16] ,f'true.pdb',outDirec='output/')    "
   ]
  },
  {
   "cell_type": "code",
   "execution_count": 20,
   "id": "6fb8680c",
   "metadata": {},
   "outputs": [],
   "source": [
    "outDirec= 'output/'\n",
    "nu.dump_npdb(eprn[0],f'{outDirec}buildHel.pdb')"
   ]
  },
  {
   "cell_type": "code",
   "execution_count": 58,
   "id": "f2355146",
   "metadata": {},
   "outputs": [],
   "source": [
    "outDirec= 'output/'\n",
    "x='gu'\n",
    "for num,prot in enumerate(epGuide):\n",
    "    nu.dump_npdb(prot,f'{outDirec}build{x}_{num}.pdb')"
   ]
  },
  {
   "cell_type": "code",
   "execution_count": 327,
   "id": "377f8dfd",
   "metadata": {},
   "outputs": [
    {
     "data": {
      "text/plain": [
       "(200, 52, 4)"
      ]
     },
     "execution_count": 327,
     "metadata": {},
     "output_type": "execute_result"
    }
   ],
   "source": [
    "epGuide.shape"
   ]
  },
  {
   "cell_type": "code",
   "execution_count": 328,
   "id": "88e8fb70",
   "metadata": {
    "scrolled": true
   },
   "outputs": [
    {
     "data": {
      "text/plain": [
       "200"
      ]
     },
     "execution_count": 328,
     "metadata": {},
     "output_type": "execute_result"
    }
   ],
   "source": [
    "len(bL)"
   ]
  },
  {
   "cell_type": "code",
   "execution_count": 310,
   "id": "9c3d3e9c",
   "metadata": {},
   "outputs": [],
   "source": [
    "\n",
    "nu.dump_npdb(bL[121][5*36:],f'{outDirec}build_CircleLine.pdb')"
   ]
  },
  {
   "cell_type": "code",
   "execution_count": 21,
   "id": "acda2ae3",
   "metadata": {},
   "outputs": [
    {
     "data": {
      "text/plain": [
       "(array([ 1.,  2.,  2.,  0., 20., 18.,  0., 27., 42.,  4.]),\n",
       " array([21. , 21.7, 22.4, 23.1, 23.8, 24.5, 25.2, 25.9, 26.6, 27.3, 28. ]),\n",
       " <BarContainer object of 10 artists>)"
      ]
     },
     "execution_count": 21,
     "metadata": {},
     "output_type": "execute_result"
    },
    {
     "data": {
      "image/png": "[encoded data removed]",
      "text/plain": [
       "<Figure size 432x288 with 1 Axes>"
      ]
     },
     "metadata": {
      "needs_background": "light"
     },
     "output_type": "display_data"
    }
   ],
   "source": []
  },
  {
   "cell_type": "code",
   "execution_count": null,
   "id": "bafa7cfe",
   "metadata": {},
   "outputs": [],
   "source": [
    "#correlate this with successful loopings"
   ]
  },
  {
   "cell_type": "code",
   "execution_count": null,
   "id": "753c8e3a",
   "metadata": {},
   "outputs": [],
   "source": []
  },
  {
   "cell_type": "code",
   "execution_count": null,
   "id": "8b817bb5",
   "metadata": {},
   "outputs": [],
   "source": []
  },
  {
   "cell_type": "code",
   "execution_count": 251,
   "id": "bb1b76fe",
   "metadata": {},
   "outputs": [],
   "source": [
    "\n",
    "outDirec= 'output/'\n",
    "x='beta'\n",
    "for num,prot in enumerate(eprn):\n",
    "    nu.dump_npdb(prot,f'{outDirec}build{x}_{num}.pdb')"
   ]
  },
  {
   "cell_type": "code",
   "execution_count": 24,
   "id": "8a649462",
   "metadata": {},
   "outputs": [],
   "source": []
  },
  {
   "cell_type": "code",
   "execution_count": 25,
   "id": "1bd8c345",
   "metadata": {},
   "outputs": [],
   "source": []
  },
  {
   "cell_type": "code",
   "execution_count": 22,
   "id": "cf4ff214",
   "metadata": {},
   "outputs": [],
   "source": []
  },
  {
   "cell_type": "code",
   "execution_count": 26,
   "id": "56d905c8",
   "metadata": {},
   "outputs": [
    {
     "data": {
      "text/plain": [
       "<matplotlib.collections.PathCollection at 0x17701202b80>"
      ]
     },
     "execution_count": 26,
     "metadata": {},
     "output_type": "execute_result"
    },
    {
     "data": {
      "image/png": "[encoded data removed]",
      "text/plain": [
       "<Figure size 432x288 with 1 Axes>"
      ]
     },
     "metadata": {
      "needs_background": "light"
     },
     "output_type": "display_data"
    }
   ],
   "source": [
    "plt.scatter(circ_gp[:,0],circ_gp[:,2])"
   ]
  },
  {
   "cell_type": "code",
   "execution_count": null,
   "id": "8c81b87d",
   "metadata": {},
   "outputs": [],
   "source": []
  }
 ],
 "metadata": {
  "kernelspec": {
   "display_name": "fa_tfpy",
   "language": "python",
   "name": "fa_tfpy"
  },
  "language_info": {
   "codemirror_mode": {
    "name": "ipython",
    "version": 3
   },
   "file_extension": ".py",
   "mimetype": "text/x-python",
   "name": "python",
   "nbconvert_exporter": "python",
   "pygments_lexer": "ipython3",
   "version": "3.8.5"
  }
 },
 "nbformat": 4,
 "nbformat_minor": 5
}
