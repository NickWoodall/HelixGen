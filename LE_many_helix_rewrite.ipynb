{
 "cells": [
  {
   "cell_type": "code",
   "execution_count": 1,
   "id": "8d712b4c",
   "metadata": {},
   "outputs": [
    {
     "name": "stdout",
     "output_type": "stream",
     "text": [
      "device name /device:GPU:0\n",
      "WARNING:tensorflow:No training configuration found in the save file, so the model was *not* compiled. Compile it manually.\n"
     ]
    }
   ],
   "source": [
    "import tensorflow as tf\n",
    "tf.config.list_physical_devices('GPU')\n",
    "import os\n",
    "import sys\n",
    "\n",
    "from math import cos,sin,tan,asin,acos,radians,sqrt,degrees,atan,atan2,copysign\n",
    "import numpy as np\n",
    "\n",
    "import pandas as pd\n",
    "from sklearn.preprocessing import MinMaxScaler\n",
    "import pickle\n",
    "import scipy\n",
    "from scipy.stats import norm\n",
    "import random\n",
    "import time\n",
    "import timeit\n",
    "import math\n",
    "import localization as lx\n",
    "import gzip\n",
    "\n",
    "import util.npose_util as nu\n",
    "import datetime\n",
    "from sklearn.preprocessing import MinMaxScaler\n",
    "from scipy.spatial import cKDTree\n",
    "\n",
    "\n",
    "import joblib\n",
    "from sklearn.manifold import MDS\n",
    "import argparse\n",
    "from functools import partial\n",
    "from itertools import starmap,repeat,permutations\n",
    "\n",
    "from pymol import cmd, stored, selector\n",
    "\n",
    "import GenerateEndpoints as ge\n",
    "import HelixFit as hf\n",
    "import FitTransform as ft\n",
    "\n",
    "import seaborn as sns\n",
    "import util.RotationMethods as rm\n",
    "\n",
    "import GenerateEndpoints as ge\n",
    "import matplotlib.pyplot as plt\n",
    "\n",
    "import copy\n",
    "import Guided_Midpoint_Buttress as gmp"
   ]
  },
  {
   "cell_type": "code",
   "execution_count": 2,
   "id": "6aa56920",
   "metadata": {},
   "outputs": [],
   "source": [
    "def add_loops(end_points, neighbors=10, length_mod=1, dist_cut=6, phiQueryNum=10, randMult=10, maxPhi_cut=20,\n",
    "              uniquePhi=True, verbose=False, maxReruns = 4):\n",
    "    \"\"\"Chains first_helix, first_loop, second helix and the iteratively loop_then_helix to add all loops to endpoints.\"\"\"\n",
    "    \n",
    "    epIn = end_points.copy()\n",
    "    size = int(len(epIn)/2) #number of helixes represented by helical endpoints\n",
    "    \n",
    "   \n",
    "    bL, iL, epGuide = le.first_helix(epIn,length_mod=length_mod)\n",
    "    if verbose:\n",
    "        print(f'first helix: #{iL.shape[0]}')\n",
    "    \n",
    "    if iL.shape[0] == 0:\n",
    "        if verbose:\n",
    "            print('fail')\n",
    "        return bL, iL, phiList, iL, iL, False\n",
    "    \n",
    "    bL, iL, epGuide, epTrue, phiList, loopFeature, xform_True = le.first_loop(bL, iL, epGuide, \n",
    "                                                                neighbors=neighbors, phiQueryNum=phiQueryNum,\n",
    "                                                                           randMult=randMult, distCut=dist_cut)\n",
    "    if verbose:\n",
    "        print(f'first loop: #{iL.shape[0]}')\n",
    "    if iL.shape[0] == 0:\n",
    "        if verbose:\n",
    "            print('fail')\n",
    "        return bL, iL, phiList, iL, iL, False\n",
    "    \n",
    "    hnum=1\n",
    "    bL, iL, epGuide, epTrue, phiList = le.second_helix(bL, iL, epGuide, epTrue, phiList, hnum, loopFeature, \n",
    "                                                   xform_True, length_mod=length_mod, distCut=dist_cut)\n",
    "    if verbose:\n",
    "        print(f'second helix: #{iL.shape[0]}')\n",
    "    \n",
    "    if iL.shape[0] == 0:\n",
    "        if verbose:\n",
    "            print('fail')\n",
    "        return bL, iL, phiList, iL, iL, False\n",
    "    \n",
    "    repeatNumber = 0 \n",
    "    hnum = 0\n",
    "    \n",
    "    bL_s = []\n",
    "    iL_s = []\n",
    "    epGuide_s = []\n",
    "    epTrue_s = []\n",
    "    phiList_s =  []\n",
    "    for x in range(0,(size-1)):\n",
    "        bL_s.append([])\n",
    "        iL_s.append([])\n",
    "        epGuide_s.append([])\n",
    "        epTrue_s.append([])\n",
    "        phiList_s.append([])\n",
    "        \n",
    "    \n",
    "    while hnum<(size-2):\n",
    "        hnum += 1\n",
    "        if verbose:\n",
    "            print('hnum',hnum)\n",
    "        bL, iL, epGuide, epTrue, phiList = le.next_loop_helix(bL, iL, epGuide, epTrue, phiList, hnum, \n",
    "                neighbors=neighbors, phiQueryNum=phiQueryNum, randMult=randMult, distCut=dist_cut,length_mod=length_mod)\n",
    "       \n",
    "        bL_s[hnum] = copy.deepcopy(bL)\n",
    "        iL_s[hnum] = iL.copy()\n",
    "        epGuide_s[hnum] = epGuide.copy()\n",
    "        epTrue_s[hnum] = epTrue.copy()\n",
    "        phiList_s[hnum] = phiList.copy()\n",
    "        \n",
    "        if iL.shape[0] == 0:\n",
    "            \n",
    "            hnum = hnum - 2\n",
    "            \n",
    "            bL = bL_s[hnum] \n",
    "            iL = iL_s[hnum] \n",
    "            epGuide = epGuide_s[hnum] \n",
    "            epTrue = epTrue_s[hnum] \n",
    "            phiList = phiList_s[hnum] \n",
    "            \n",
    "            neighbors += 5\n",
    "            maxPhi_cut += 100\n",
    "            \n",
    "            repeatNumber += 1\n",
    "            print('rn:', repeatNumber)\n",
    "                \n",
    "            if repeatNumber == maxReruns:\n",
    "                if verbose:\n",
    "                    print('fail2')\n",
    "                return bL, iL, phiList, iL, iL, False\n",
    "            \n",
    "        if iL.shape[0] > maxPhi_cut:\n",
    "            indexer = le.random_reduce(bL,num_to_keep = maxPhi_cut)\n",
    "            bL = bL[indexer]\n",
    "            iL = iL[indexer] \n",
    "            epGuide = epGuide[indexer]\n",
    "            epTrue =  epTrue[indexer]\n",
    "            phiList = phiList[indexer]\n",
    "            if verbose:\n",
    "                print(f'{hnum+2} helix: reduced to #{maxPhi_cut}')\n",
    "        if verbose:\n",
    "            print(f'{hnum+2} helix: #{iL.shape[0]}')\n",
    "            \n",
    "         \n",
    "    #only return proteins with a unique set of loops queried from different phi bins\n",
    "    if uniquePhi:\n",
    "        phiList, u_indices = np.unique(phiList,axis=0,return_index=True)\n",
    "        epGuide = epGuide[u_indices]\n",
    "        epTrue = epTrue[u_indices]\n",
    "        iL = iL[u_indices]\n",
    "        bL = bL[u_indices]\n",
    "    \n",
    "    return bL, iL, phiList, epGuide, epTrue, True"
   ]
  },
  {
   "cell_type": "code",
   "execution_count": 3,
   "id": "6e90deab",
   "metadata": {},
   "outputs": [],
   "source": [
    "#generate guide points\n",
    "\n",
    "def generate_parabola(start, stop, h=[20,20,20], k=[20,30,40], num_points = 100):\n",
    "    #create a set of parabolas past through ([0,0]) start of helices to vertex ([[10,20],[10,30],[10,40]])\n",
    "    # (x-h)^2 = -4(a)(y-k)\n",
    "    # Solve for 'a' at x=0, y=0\n",
    "    # (0-h)^2 = -4(a)(0-k)\n",
    "    #      a  =  h^2/4k\n",
    "    h = np.array(h).reshape((-1,1))\n",
    "    k = np.array(k).reshape((-1,1))\n",
    "    a = np.square(h)/(4*k)\n",
    "    \n",
    "    #trace x from 0 to 10\n",
    "    # -4ay +4ak = (x-h)^2\n",
    "    # -4ay = (x-h)^2 - 4ak\n",
    "    #    y = ( (x-h)^2 - 4ak  ) / (-4a)\n",
    "    #    y = (4ak - (x-h)^2)\n",
    "    x = np.repeat(np.expand_dims(np.linspace(start,stop,num=100), axis=0), h.shape[0],axis=0)\n",
    "    z = np.divide(4*a*k -np.square(x-h), (4*a))\n",
    "   \n",
    "    x=np.expand_dims(x,axis=2)\n",
    "    z=np.expand_dims(z,axis=2)\n",
    "    y = np.zeros_like(x)\n",
    "    gen_para =  np.concatenate((x,y,z),axis = 2)\n",
    "    \n",
    "    return gen_para\n",
    "    \n",
    "#rotate parabola around the x axis\n",
    "# angleDeg = 90\n",
    "# gpi = 1\n",
    "# xfr=nu.xform_from_axis_angle_deg([1,0,0],angleDeg)\n",
    "# gp = np.hstack((g_para[gpi],np.ones_like(g_para[gpi,:,gpi].reshape((-1,1)))  ))\n",
    "# gp_z=nu.xform_npose(xfr,gp)[:,:3]\n",
    "# gp_z.shape\n",
    "\n",
    "# plt.scatter(gp_z[:,0], gp_z[:,2], alpha=0.5)\n",
    "# plt.axis('equal')\n",
    "# plt.show()\n",
    "\n",
    "\n",
    "def generate_pos_circle(start, stop, h=30, k=0, r=30, num_points= 100):\n",
    "    \"\"\"Generate guide points originating a the origin for a circle, positive values only. \"\"\"\n",
    "    #(x-h)^2 + (y-k)^2 = r^(2)\n",
    "    # y = sqrt(r^2-(x-h^2))+k\n",
    "    x = np.linspace(start,stop,num=num_points)\n",
    "    z = np.sqrt(np.square(r)-np.square(x-h))+k\n",
    "    y = np.zeros_like(x)\n",
    "    return np.concatenate((x.reshape((-1,1)),y.reshape((-1,1)),z.reshape((-1,1))),axis=1)\n",
    "\n",
    "def add_xline(inputP, line_length, num=60):\n",
    "    line = np.zeros((num,3))\n",
    "    line[:,0] = np.linspace(0, line_length, num=num)\n",
    "    cline = inputP[-1]+line\n",
    "    ci_line = np.concatenate((inputP,cline),axis=0)\n",
    "    \n",
    "    return ci_line\n",
    "\n",
    "circ_gp = generate_pos_circle(0,30,h=30,k=0,r=30, num_points= 100)\n",
    "ci_line = add_xline(circ_gp[:-1], 10, num=30)"
   ]
  },
  {
   "cell_type": "code",
   "execution_count": 4,
   "id": "fc8005d4",
   "metadata": {},
   "outputs": [],
   "source": [
    "# nump = 100\n",
    "# ini = np.zeros((nump,3))\n",
    "\n",
    "# ini[:20,2] = np.linspace(0,20,num=20)\n",
    "# ini[20:,2] = 20\n",
    "# ini[20:,1] = np.linspace(0,40,num=80)"
   ]
  },
  {
   "cell_type": "code",
   "execution_count": null,
   "id": "907fa129",
   "metadata": {},
   "outputs": [],
   "source": []
  },
  {
   "cell_type": "code",
   "execution_count": null,
   "id": "098ce8e1",
   "metadata": {},
   "outputs": [],
   "source": []
  },
  {
   "cell_type": "code",
   "execution_count": 29,
   "id": "ee5fb6af",
   "metadata": {},
   "outputs": [],
   "source": [
    "start_hel = gmp.get_reference_input(batch=50)"
   ]
  },
  {
   "cell_type": "code",
   "execution_count": 30,
   "id": "d99f11c2",
   "metadata": {},
   "outputs": [],
   "source": [
    "# %%time\n",
    "# out_ep = gmp.build_protein_on_guide_clash(start_hel, circ_gp, batch=10, \n",
    "#                                  next_mp_dist=9, mp_deviation_limit = 5,maxOut=1000,maxClash_num=5)"
   ]
  },
  {
   "cell_type": "code",
   "execution_count": 31,
   "id": "f7b4ca01",
   "metadata": {},
   "outputs": [
    {
     "name": "stdout",
     "output_type": "stream",
     "text": [
      "max next indices 6\n",
      "(50, 8, 3)\n",
      "Input Size: 10000\n",
      "backprop time :  3.4611117839813232\n",
      "Passing Filters: 1259 \n",
      "MDS time:  30.030803680419922\n",
      "clash time:  0.6573450565338135\n",
      "final pass filter 947\n",
      "max next indices 25\n",
      "(947, 8, 3)\n",
      "Input Size: 189400\n",
      "backprop time :  14.388966798782349\n",
      "Passing Filters: 2000 \n",
      "MDS time:  45.295198917388916\n",
      "clash time:  1.0050263404846191\n",
      "final pass filter 571\n",
      "max next indices 58\n",
      "(571, 8, 3)\n",
      "Input Size: 114200\n",
      "backprop time :  10.108299970626831\n",
      "Passing Filters: 2000 \n",
      "MDS time:  45.021082162857056\n",
      "clash time:  0.9189817905426025\n",
      "final pass filter 167\n",
      "max next indices 95\n",
      "(167, 8, 3)\n",
      "Input Size: 33400\n",
      "backprop time :  5.075440883636475\n",
      "Passing Filters: 1525 \n",
      "MDS time:  33.112364053726196\n",
      "clash time:  0.8465487957000732\n",
      "final pass filter 204\n",
      "max next indices 116\n",
      "(204, 8, 3)\n",
      "Input Size: 40800\n",
      "backprop time :  5.38405442237854\n",
      "Passing Filters: 2000 \n",
      "MDS time:  45.573134899139404\n",
      "clash time:  0.6207783222198486\n",
      "final pass filter 94\n",
      "max next indices 124\n",
      "(51, 8, 3)\n",
      "Input Size: 10200\n",
      "backprop time :  3.864866018295288\n",
      "Passing Filters: 22 \n",
      "MDS time:  0.5070004463195801\n",
      "clash time:  0.003000020980834961\n",
      "final pass filter 0\n",
      "Wall time: 4min 6s\n"
     ]
    }
   ],
   "source": [
    "%%time\n",
    "# ci_line = add_xline(circ_gp, 20, num=60)\n",
    "out_ep = gmp.build_protein_on_guide_clash(start_hel, ci_line, batch=200, \n",
    "                                 next_mp_dist=10, mp_deviation_limit = 5,maxOut=2000, maxClash_num=3)\n",
    "\n",
    "\n",
    "# out_ep = gmp.build_protein_on_guide(start_hel, ci_line, batch=50, \n",
    "#                                  next_mp_dist=10, mp_deviation_limit = 5,maxOut=1000)"
   ]
  },
  {
   "cell_type": "code",
   "execution_count": 32,
   "id": "83341afd",
   "metadata": {
    "scrolled": true
   },
   "outputs": [
    {
     "name": "stdout",
     "output_type": "stream",
     "text": [
      "0 43\n",
      "total 43\n"
     ]
    }
   ],
   "source": [
    "sumL = 0\n",
    "\n",
    "for i,x in enumerate(out_ep):\n",
    "    sumL += len(x)\n",
    "    print(i, len(x))\n",
    "print('total',sumL)"
   ]
  },
  {
   "cell_type": "code",
   "execution_count": 58,
   "id": "a4efec7c",
   "metadata": {},
   "outputs": [
    {
     "data": {
      "text/plain": [
       "(43, 24, 3)"
      ]
     },
     "execution_count": 58,
     "metadata": {},
     "output_type": "execute_result"
    }
   ],
   "source": [
    "out_ep[0].shape"
   ]
  },
  {
   "cell_type": "code",
   "execution_count": 50,
   "id": "5713af64",
   "metadata": {},
   "outputs": [],
   "source": [
    "gmp.vp(out_ep[0],ci_line,name='ci_line4',max_out=1000)"
   ]
  },
  {
   "cell_type": "code",
   "execution_count": 12,
   "id": "c0387ce3",
   "metadata": {},
   "outputs": [],
   "source": [
    "gmp.vp(out_ep[1],ci_line,name='testzzz',max_out=1000)"
   ]
  },
  {
   "cell_type": "code",
   "execution_count": 43,
   "id": "3ebaeac5",
   "metadata": {},
   "outputs": [
    {
     "data": {
      "text/plain": [
       "1"
      ]
     },
     "execution_count": 43,
     "metadata": {},
     "output_type": "execute_result"
    }
   ],
   "source": [
    "hf.HelicalProtein.makePointPDB(circ_gp,'ci_line.pdb',outDirec='output/')"
   ]
  },
  {
   "cell_type": "code",
   "execution_count": 36,
   "id": "bab14f5b",
   "metadata": {},
   "outputs": [
    {
     "data": {
      "text/plain": [
       "(array([ 2.,  1., 16.,  1.,  0.,  7.,  8.,  5.,  2.,  1.]),\n",
       " array([ 2. ,  2.8,  3.6,  4.4,  5.2,  6. ,  6.8,  7.6,  8.4,  9.2, 10. ]),\n",
       " <BarContainer object of 10 artists>)"
      ]
     },
     "execution_count": 36,
     "metadata": {},
     "output_type": "execute_result"
    },
    {
     "data": {
      "image/png": "[encoded data removed]",
      "text/plain": [
       "<Figure size 432x288 with 1 Axes>"
      ]
     },
     "metadata": {
      "needs_background": "light"
     },
     "output_type": "display_data"
    }
   ],
   "source": [
    "import LoopEndpoints as le\n",
    "#code to \n",
    "epr = ge.EP_Recon(out_ep[0])\n",
    "eprn = epr.to_npose()\n",
    "hll = np.array(epr.helixLength_list)\n",
    "hll.shape\n",
    "clash_num = []\n",
    "for x in range(len(eprn)):\n",
    "    clash_num.append(le.whole_prot_clash_check(eprn[x],hll[x]))\n",
    "plt.hist(clash_num)   "
   ]
  },
  {
   "cell_type": "code",
   "execution_count": 37,
   "id": "f9499232",
   "metadata": {},
   "outputs": [
    {
     "data": {
      "text/plain": [
       "4"
      ]
     },
     "execution_count": 37,
     "metadata": {},
     "output_type": "execute_result"
    }
   ],
   "source": [
    "clash_num[0]"
   ]
  },
  {
   "cell_type": "code",
   "execution_count": 38,
   "id": "5affa322",
   "metadata": {},
   "outputs": [],
   "source": [
    "cn_bon = np.nonzero(np.array(clash_num)<10)[0]"
   ]
  },
  {
   "cell_type": "code",
   "execution_count": 39,
   "id": "fd465cf3",
   "metadata": {},
   "outputs": [
    {
     "data": {
      "text/plain": [
       "array([ 0,  1,  2,  3,  4,  5,  7,  8,  9, 10, 11, 12, 13, 14, 15, 16, 17,\n",
       "       18, 19, 20, 21, 22, 23, 24, 25, 26, 27, 28, 29, 30, 31, 32, 33, 34,\n",
       "       35, 36, 37, 38, 39, 40, 41, 42], dtype=int64)"
      ]
     },
     "execution_count": 39,
     "metadata": {},
     "output_type": "execute_result"
    }
   ],
   "source": [
    "cn_bon"
   ]
  },
  {
   "cell_type": "code",
   "execution_count": 25,
   "id": "8d87e0d7",
   "metadata": {},
   "outputs": [],
   "source": [
    "import LoopEndpoints as le\n",
    "end_points = out_ep[0][0]\n",
    "length_mod=1\n",
    "dist_cut=2\n",
    "phiQueryNum=10\n",
    "neighbors = 10\n",
    "randMult=10\n",
    "maxPhi_cut=20\n",
    "verbose= True"
   ]
  },
  {
   "cell_type": "code",
   "execution_count": null,
   "id": "acd571fd",
   "metadata": {},
   "outputs": [],
   "source": [
    "end_points.shape"
   ]
  },
  {
   "cell_type": "code",
   "execution_count": 42,
   "id": "564a09c8",
   "metadata": {},
   "outputs": [
    {
     "name": "stdout",
     "output_type": "stream",
     "text": [
      "hnum 1\n",
      "hnum 2\n",
      "hnum 3\n",
      "hnum 4\n",
      "hnum 5\n",
      "hnum 6\n",
      "hnum 7\n",
      "hnum 8\n",
      "hnum 9\n",
      "rn: 1\n",
      "5\n",
      "10.01742434501648\n",
      "\n",
      "hnum 1\n",
      "hnum 2\n",
      "hnum 3\n",
      "hnum 4\n",
      "hnum 5\n",
      "hnum 6\n",
      "hnum 7\n",
      "hnum 8\n",
      "hnum 9\n",
      "hnum 10\n",
      "27\n",
      "17.64916729927063\n",
      "\n",
      "hnum 1\n",
      "hnum 2\n",
      "hnum 3\n",
      "hnum 4\n",
      "hnum 5\n",
      "hnum 6\n",
      "hnum 7\n",
      "hnum 8\n",
      "hnum 9\n",
      "hnum 10\n",
      "23\n",
      "38.70766758918762\n",
      "\n",
      "hnum 1\n",
      "hnum 2\n",
      "hnum 3\n",
      "hnum 4\n",
      "hnum 5\n",
      "hnum 6\n",
      "hnum 7\n",
      "hnum 8\n",
      "hnum 9\n",
      "hnum 10\n",
      "rn: 1\n",
      "952\n",
      "28.209567070007324\n",
      "\n",
      "hnum 1\n",
      "rn: 1\n",
      "0\n",
      "1.7138888835906982\n",
      "\n",
      "hnum 1\n",
      "hnum 2\n",
      "hnum 3\n",
      "hnum 4\n",
      "hnum 5\n",
      "hnum 6\n",
      "hnum 7\n",
      "hnum 8\n",
      "hnum 9\n",
      "hnum 10\n",
      "50\n",
      "37.65041375160217\n",
      "\n",
      "hnum 1\n",
      "rn: 1\n",
      "0\n",
      "1.5404753684997559\n",
      "\n",
      "hnum 1\n",
      "hnum 2\n",
      "hnum 3\n",
      "hnum 4\n",
      "hnum 5\n",
      "hnum 6\n",
      "hnum 7\n",
      "hnum 8\n",
      "hnum 9\n",
      "hnum 10\n",
      "71\n",
      "40.133684396743774\n",
      "\n",
      "hnum 1\n",
      "hnum 2\n",
      "hnum 3\n",
      "hnum 4\n",
      "hnum 5\n",
      "hnum 6\n",
      "hnum 7\n",
      "rn: 1\n",
      "45\n",
      "21.131162881851196\n",
      "\n",
      "hnum 1\n",
      "rn: 1\n",
      "0\n",
      "1.5734493732452393\n",
      "\n",
      "hnum 1\n",
      "hnum 2\n",
      "hnum 3\n",
      "hnum 4\n",
      "hnum 5\n",
      "hnum 6\n",
      "hnum 7\n",
      "hnum 8\n",
      "hnum 9\n",
      "hnum 10\n",
      "33\n",
      "38.80829906463623\n",
      "\n",
      "hnum 1\n",
      "hnum 2\n",
      "hnum 3\n",
      "hnum 4\n",
      "hnum 5\n",
      "hnum 6\n",
      "hnum 7\n",
      "hnum 8\n",
      "hnum 9\n",
      "hnum 10\n",
      "18\n",
      "18.030289888381958\n",
      "\n",
      "hnum 1\n",
      "hnum 2\n",
      "hnum 3\n",
      "hnum 4\n",
      "hnum 5\n",
      "hnum 6\n",
      "hnum 7\n",
      "hnum 8\n",
      "hnum 9\n",
      "hnum 10\n",
      "46\n",
      "32.95307159423828\n",
      "\n",
      "hnum 1\n",
      "rn: 1\n",
      "0\n",
      "1.5871963500976562\n",
      "\n",
      "hnum 1\n",
      "hnum 2\n",
      "hnum 3\n",
      "hnum 4\n",
      "hnum 5\n",
      "hnum 6\n",
      "hnum 7\n",
      "hnum 8\n",
      "hnum 9\n",
      "hnum 10\n",
      "28\n",
      "34.17046070098877\n",
      "\n",
      "hnum 1\n",
      "hnum 2\n",
      "hnum 3\n",
      "hnum 4\n",
      "hnum 5\n",
      "hnum 6\n",
      "hnum 7\n",
      "hnum 8\n",
      "hnum 9\n",
      "hnum 10\n",
      "42\n",
      "38.3037109375\n",
      "\n",
      "hnum 1\n",
      "hnum 2\n",
      "hnum 3\n",
      "hnum 4\n",
      "hnum 5\n",
      "hnum 6\n",
      "hnum 7\n",
      "hnum 8\n",
      "hnum 9\n",
      "hnum 10\n",
      "6\n",
      "34.63546395301819\n",
      "\n",
      "hnum 1\n",
      "hnum 2\n",
      "hnum 3\n",
      "hnum 4\n",
      "hnum 5\n",
      "hnum 6\n",
      "hnum 7\n",
      "hnum 8\n",
      "hnum 9\n",
      "hnum 10\n",
      "rn: 1\n",
      "418\n",
      "25.331068754196167\n",
      "\n",
      "hnum 1\n",
      "hnum 2\n",
      "hnum 3\n",
      "hnum 4\n",
      "hnum 5\n",
      "hnum 6\n",
      "hnum 7\n",
      "hnum 8\n",
      "hnum 9\n",
      "hnum 10\n",
      "33\n",
      "31.058945894241333\n",
      "\n",
      "hnum 1\n",
      "hnum 2\n",
      "hnum 3\n",
      "hnum 4\n",
      "hnum 5\n",
      "hnum 6\n",
      "hnum 7\n",
      "hnum 8\n",
      "rn: 1\n",
      "1074\n",
      "10.876429796218872\n",
      "\n",
      "hnum 1\n",
      "hnum 2\n",
      "hnum 3\n",
      "hnum 4\n",
      "hnum 5\n",
      "hnum 6\n",
      "hnum 7\n",
      "hnum 8\n",
      "rn: 1\n",
      "1317\n",
      "11.752186298370361\n",
      "\n",
      "hnum 1\n",
      "hnum 2\n",
      "hnum 3\n",
      "hnum 4\n",
      "hnum 5\n",
      "hnum 6\n",
      "hnum 7\n",
      "hnum 8\n",
      "hnum 9\n",
      "hnum 10\n",
      "18\n",
      "20.849478006362915\n",
      "\n",
      "hnum 1\n",
      "hnum 2\n",
      "hnum 3\n",
      "hnum 4\n",
      "hnum 5\n",
      "hnum 6\n",
      "hnum 7\n",
      "hnum 8\n",
      "rn: 1\n",
      "9\n",
      "19.304198265075684\n",
      "\n",
      "hnum 1\n",
      "hnum 2\n",
      "hnum 3\n",
      "hnum 4\n",
      "hnum 5\n",
      "hnum 6\n",
      "hnum 7\n",
      "hnum 8\n",
      "rn: 1\n",
      "825\n",
      "10.717260122299194\n",
      "\n",
      "hnum 1\n",
      "hnum 2\n",
      "hnum 3\n",
      "hnum 4\n",
      "hnum 5\n",
      "hnum 6\n",
      "hnum 7\n",
      "hnum 8\n",
      "hnum 9\n",
      "hnum 10\n",
      "4\n",
      "30.19555115699768\n",
      "\n",
      "hnum 1\n",
      "hnum 2\n",
      "hnum 3\n",
      "hnum 4\n",
      "hnum 5\n",
      "hnum 6\n",
      "hnum 7\n",
      "hnum 8\n",
      "hnum 9\n",
      "hnum 10\n",
      "rn: 1\n",
      "1222\n",
      "30.71764612197876\n",
      "\n",
      "hnum 1\n",
      "hnum 2\n",
      "hnum 3\n",
      "hnum 4\n",
      "hnum 5\n",
      "hnum 6\n",
      "hnum 7\n",
      "hnum 8\n",
      "rn: 1\n",
      "2150\n",
      "11.988813400268555\n",
      "\n",
      "hnum 1\n",
      "hnum 2\n",
      "hnum 3\n",
      "hnum 4\n",
      "hnum 5\n",
      "hnum 6\n",
      "hnum 7\n",
      "hnum 8\n",
      "hnum 9\n",
      "hnum 10\n",
      "11\n",
      "33.28020095825195\n",
      "\n",
      "hnum 1\n",
      "hnum 2\n",
      "hnum 3\n",
      "hnum 4\n",
      "hnum 5\n",
      "hnum 6\n",
      "hnum 7\n",
      "rn: 1\n",
      "25\n",
      "20.12393617630005\n",
      "\n",
      "hnum 1\n",
      "hnum 2\n",
      "hnum 3\n",
      "hnum 4\n",
      "hnum 5\n",
      "hnum 6\n",
      "hnum 7\n",
      "hnum 8\n",
      "hnum 9\n",
      "hnum 10\n",
      "9\n",
      "33.050639390945435\n",
      "\n",
      "hnum 1\n",
      "hnum 2\n",
      "hnum 3\n",
      "hnum 4\n",
      "hnum 5\n",
      "hnum 6\n",
      "hnum 7\n",
      "hnum 8\n",
      "hnum 9\n",
      "hnum 10\n",
      "70\n",
      "43.087571144104004\n",
      "\n",
      "hnum 1\n",
      "hnum 2\n",
      "hnum 3\n",
      "hnum 4\n",
      "hnum 5\n",
      "hnum 6\n",
      "hnum 7\n",
      "hnum 8\n",
      "hnum 9\n",
      "hnum 10\n",
      "rn: 1\n",
      "883\n",
      "29.423649549484253\n",
      "\n",
      "hnum 1\n",
      "hnum 2\n",
      "hnum 3\n",
      "hnum 4\n",
      "hnum 5\n",
      "hnum 6\n",
      "rn: 1\n",
      "209\n",
      "18.670644760131836\n",
      "\n",
      "hnum 1\n",
      "hnum 2\n",
      "hnum 3\n",
      "hnum 4\n",
      "hnum 5\n",
      "hnum 6\n",
      "hnum 7\n",
      "hnum 8\n",
      "hnum 9\n",
      "hnum 10\n",
      "50\n",
      "17.279597282409668\n",
      "\n",
      "hnum 1\n",
      "hnum 2\n",
      "hnum 3\n",
      "hnum 4\n",
      "hnum 5\n",
      "hnum 6\n",
      "hnum 7\n",
      "hnum 8\n",
      "hnum 9\n",
      "hnum 10\n",
      "12\n",
      "27.902414321899414\n",
      "\n",
      "hnum 1\n",
      "hnum 2\n",
      "hnum 3\n",
      "hnum 4\n",
      "hnum 5\n",
      "hnum 6\n",
      "hnum 7\n",
      "hnum 8\n",
      "hnum 9\n",
      "hnum 10\n",
      "5\n",
      "30.754518270492554\n",
      "\n",
      "hnum 1\n",
      "hnum 2\n",
      "hnum 3\n",
      "hnum 4\n",
      "hnum 5\n",
      "hnum 6\n",
      "hnum 7\n",
      "hnum 8\n",
      "hnum 9\n",
      "rn: 1\n",
      "9\n",
      "21.42961812019348\n",
      "\n",
      "hnum 1\n",
      "hnum 2\n",
      "hnum 3\n",
      "hnum 4\n",
      "hnum 5\n",
      "hnum 6\n",
      "hnum 7\n",
      "hnum 8\n",
      "hnum 9\n",
      "hnum 10\n",
      "38\n",
      "23.776195287704468\n",
      "\n",
      "hnum 1\n",
      "hnum 2\n",
      "hnum 3\n",
      "hnum 4\n",
      "hnum 5\n",
      "hnum 6\n",
      "hnum 7\n",
      "hnum 8\n",
      "hnum 9\n",
      "hnum 10\n",
      "15\n",
      "18.627574682235718\n",
      "\n",
      "hnum 1\n",
      "hnum 2\n",
      "hnum 3\n",
      "hnum 4\n",
      "hnum 5\n",
      "hnum 6\n",
      "hnum 7\n",
      "hnum 8\n",
      "hnum 9\n",
      "hnum 10\n",
      "47\n",
      "26.382918119430542\n",
      "\n",
      "hnum 1\n",
      "hnum 2\n",
      "hnum 3\n",
      "hnum 4\n",
      "hnum 5\n",
      "hnum 6\n",
      "hnum 7\n",
      "hnum 8\n",
      "hnum 9\n",
      "hnum 10\n",
      "1\n",
      "13.956275463104248\n",
      "\n",
      "hnum 1\n",
      "hnum 2\n",
      "hnum 3\n",
      "hnum 4\n",
      "hnum 5\n",
      "hnum 6\n",
      "hnum 7\n",
      "hnum 8\n",
      "hnum 9\n",
      "hnum 10\n",
      "45\n",
      "24.175596475601196\n",
      "\n",
      "hnum 1\n",
      "hnum 2\n",
      "hnum 3\n",
      "hnum 4\n",
      "hnum 5\n",
      "hnum 6\n",
      "hnum 7\n",
      "rn: 1\n",
      "63\n",
      "20.634740352630615\n",
      "\n"
     ]
    }
   ],
   "source": [
    "\n",
    "timeList = []\n",
    "bL_List = []\n",
    "sucList = []\n",
    "\n",
    "for x in range(out_ep[0].shape[0]):\n",
    "    s = time.time()\n",
    "    end_points = out_ep[0][x]\n",
    "    bL, iL, phiList, epGuide, epTrue, suc= add_loops(end_points, neighbors=200, length_mod=3, dist_cut=3, phiQueryNum=10, randMult=0, maxPhi_cut=1000,\n",
    "                  uniquePhi=True, verbose=False, maxReruns=1)\n",
    "    print(len(bL))\n",
    "    \n",
    "    bL_List.append(bL)\n",
    "    sucList.append(suc)\n",
    "    \n",
    "    print(time.time()-s)\n",
    "    timeList.append(time.time()-s)\n",
    "    \n",
    "    print()\n",
    "    \n",
    "    "
   ]
  },
  {
   "cell_type": "code",
   "execution_count": 44,
   "id": "13c1db7a",
   "metadata": {},
   "outputs": [
    {
     "name": "stdout",
     "output_type": "stream",
     "text": [
      "[False, True, True, False, False, True, False, True, False, False, True, True, True, False, True, True, True, False, True, False, False, True, False, False, True, False, False, True, False, True, True, False, False, True, True, True, False, True, True, True, True, True, False]\n"
     ]
    }
   ],
   "source": [
    "print(sucList)"
   ]
  },
  {
   "cell_type": "code",
   "execution_count": 49,
   "id": "f0369050",
   "metadata": {},
   "outputs": [
    {
     "data": {
      "text/plain": [
       "23.25581395348837"
      ]
     },
     "execution_count": 49,
     "metadata": {},
     "output_type": "execute_result"
    }
   ],
   "source": [
    "1000/43"
   ]
  },
  {
   "cell_type": "code",
   "execution_count": 54,
   "id": "5105f8c7",
   "metadata": {},
   "outputs": [
    {
     "name": "stdout",
     "output_type": "stream",
     "text": [
      "10.02\n",
      "17.65\n",
      "38.71\n",
      "28.21\n",
      "1.71\n",
      "37.65\n",
      "1.54\n",
      "40.13\n",
      "21.13\n",
      "1.57\n",
      "38.81\n",
      "18.03\n",
      "32.95\n",
      "1.59\n",
      "34.17\n",
      "38.30\n",
      "34.64\n",
      "25.33\n",
      "31.06\n",
      "10.88\n",
      "11.75\n",
      "20.85\n",
      "19.30\n",
      "10.72\n",
      "30.20\n",
      "30.72\n",
      "11.99\n",
      "33.28\n",
      "20.12\n",
      "33.05\n",
      "43.09\n",
      "29.42\n",
      "18.67\n",
      "17.28\n",
      "27.90\n",
      "30.75\n",
      "21.43\n",
      "23.78\n",
      "18.63\n",
      "26.38\n",
      "13.96\n",
      "24.18\n",
      "20.63\n"
     ]
    }
   ],
   "source": [
    "tsum = 0\n",
    "for x in timeList:\n",
    "    print(f'{x:0.2f}')\n",
    "    "
   ]
  },
  {
   "cell_type": "code",
   "execution_count": null,
   "id": "48cb58ca",
   "metadata": {},
   "outputs": [],
   "source": []
  },
  {
   "cell_type": "code",
   "execution_count": 57,
   "id": "d9dd922d",
   "metadata": {},
   "outputs": [],
   "source": [
    "# for i,c in enumerate(bL_List):\n",
    "#     outDirec= 'output/c_line4_full_Loop/looped_outputs/'\n",
    "#     name_out=f'loop_{i}_'\n",
    "#     if sucList[i]:\n",
    "#         for num,prot in enumerate(c):\n",
    "#             nu.dump_npdb(prot,f'{outDirec}{name_out}_{num}.pdb')"
   ]
  },
  {
   "cell_type": "code",
   "execution_count": 56,
   "id": "cafdd5bb",
   "metadata": {},
   "outputs": [],
   "source": [
    "# bsum = 0\n",
    "# for i,c in enumerate(bL_List):\n",
    "#     if sucList[i]:\n",
    "#         print(len(c))\n",
    "#     else:\n",
    "#         print(0)\n",
    "        \n",
    "# print(bsum)"
   ]
  },
  {
   "cell_type": "code",
   "execution_count": 66,
   "id": "a1cf3809",
   "metadata": {},
   "outputs": [
    {
     "name": "stdout",
     "output_type": "stream",
     "text": [
      "first helix: #7\n",
      "first loop: #1212\n",
      "second helix: #202\n",
      "hnum 1\n",
      "3 helix: reduced to #1000\n",
      "3 helix: #1000\n",
      "hnum 2\n",
      "4 helix: reduced to #1000\n",
      "4 helix: #1000\n",
      "hnum 3\n",
      "5 helix: reduced to #1000\n",
      "5 helix: #1000\n",
      "hnum 4\n",
      "6 helix: #14\n",
      "hnum 5\n",
      "rn: 1\n",
      "fail2\n",
      "Wall time: 4min 24s\n"
     ]
    }
   ],
   "source": [
    "%%time\n",
    "\n",
    "bL, iL, phiList, epGuide, epTrue, suc= add_loops(end_points, neighbors=200, length_mod=3, dist_cut=3, phiQueryNum=10, randMult=0, maxPhi_cut=1000,\n",
    "              uniquePhi=True, verbose=True, maxReruns=1)"
   ]
  },
  {
   "cell_type": "code",
   "execution_count": 48,
   "id": "de193094",
   "metadata": {},
   "outputs": [],
   "source": [
    "for i,bL1 in enumerate(bL_List):\n",
    "\n",
    "    outDirec= 'output/'\n",
    "    x='gamma'\n",
    "    for num,prot in enumerate(bL):\n",
    "        if num>200:\n",
    "            break\n",
    "        nu.dump_npdb(prot,f'{outDirec}build{x}_{num}.pdb')"
   ]
  },
  {
   "cell_type": "code",
   "execution_count": 17,
   "id": "a185bfe7",
   "metadata": {},
   "outputs": [],
   "source": [
    "epr = ge.EP_Recon([out_ep[0][0]])\n",
    "eprn = epr.to_npose()\n",
    "hll = np.array(epr.helixLength_list)"
   ]
  },
  {
   "cell_type": "code",
   "execution_count": 62,
   "id": "2799752b",
   "metadata": {},
   "outputs": [],
   "source": [
    "epr = ge.EP_Recon([out_ep[0][41]])\n",
    "eprn = epr.to_npose()\n",
    "\n",
    "outDirec= 'output/'\n",
    "nu.dump_npdb(eprn[0],f'{outDirec}example41.pdb')\n"
   ]
  },
  {
   "cell_type": "code",
   "execution_count": null,
   "id": "9b5550e7",
   "metadata": {},
   "outputs": [],
   "source": [
    "outDirec= 'output/'\n",
    "x='eprn'\n",
    "for num,prot in enumerate(epGuide):\n",
    "    nu.dump_npdb(prot,f'{outDirec}build{x}_{num}.pdb')"
   ]
  },
  {
   "cell_type": "code",
   "execution_count": 329,
   "id": "484c828a",
   "metadata": {},
   "outputs": [
    {
     "data": {
      "text/plain": [
       "1"
      ]
     },
     "execution_count": 329,
     "metadata": {},
     "output_type": "execute_result"
    }
   ],
   "source": [
    "hf.HelicalProtein.makePointPDB(epGuide[16] ,f'guide.pdb',outDirec='output/')    "
   ]
  },
  {
   "cell_type": "code",
   "execution_count": 330,
   "id": "d1a20db4",
   "metadata": {},
   "outputs": [
    {
     "data": {
      "text/plain": [
       "1"
      ]
     },
     "execution_count": 330,
     "metadata": {},
     "output_type": "execute_result"
    }
   ],
   "source": [
    "hf.HelicalProtein.makePointPDB(epTrue[16] ,f'true.pdb',outDirec='output/')    "
   ]
  },
  {
   "cell_type": "code",
   "execution_count": 20,
   "id": "6fb8680c",
   "metadata": {},
   "outputs": [],
   "source": [
    "outDirec= 'output/'\n",
    "nu.dump_npdb(eprn[0],f'{outDirec}buildHel.pdb')"
   ]
  },
  {
   "cell_type": "code",
   "execution_count": 58,
   "id": "f2355146",
   "metadata": {},
   "outputs": [],
   "source": [
    "outDirec= 'output/'\n",
    "x='gu'\n",
    "for num,prot in enumerate(epGuide):\n",
    "    nu.dump_npdb(prot,f'{outDirec}build{x}_{num}.pdb')"
   ]
  },
  {
   "cell_type": "code",
   "execution_count": 327,
   "id": "377f8dfd",
   "metadata": {},
   "outputs": [
    {
     "data": {
      "text/plain": [
       "(200, 52, 4)"
      ]
     },
     "execution_count": 327,
     "metadata": {},
     "output_type": "execute_result"
    }
   ],
   "source": [
    "epGuide.shape"
   ]
  },
  {
   "cell_type": "code",
   "execution_count": 328,
   "id": "88e8fb70",
   "metadata": {
    "scrolled": true
   },
   "outputs": [
    {
     "data": {
      "text/plain": [
       "200"
      ]
     },
     "execution_count": 328,
     "metadata": {},
     "output_type": "execute_result"
    }
   ],
   "source": [
    "len(bL)"
   ]
  },
  {
   "cell_type": "code",
   "execution_count": 310,
   "id": "9c3d3e9c",
   "metadata": {},
   "outputs": [],
   "source": [
    "\n",
    "nu.dump_npdb(bL[121][5*36:],f'{outDirec}build_CircleLine.pdb')"
   ]
  },
  {
   "cell_type": "code",
   "execution_count": 21,
   "id": "acda2ae3",
   "metadata": {},
   "outputs": [
    {
     "data": {
      "text/plain": [
       "(array([ 1.,  2.,  2.,  0., 20., 18.,  0., 27., 42.,  4.]),\n",
       " array([21. , 21.7, 22.4, 23.1, 23.8, 24.5, 25.2, 25.9, 26.6, 27.3, 28. ]),\n",
       " <BarContainer object of 10 artists>)"
      ]
     },
     "execution_count": 21,
     "metadata": {},
     "output_type": "execute_result"
    },
    {
     "data": {
      "image/png": "[encoded data removed]",
      "text/plain": [
       "<Figure size 432x288 with 1 Axes>"
      ]
     },
     "metadata": {
      "needs_background": "light"
     },
     "output_type": "display_data"
    }
   ],
   "source": []
  },
  {
   "cell_type": "code",
   "execution_count": null,
   "id": "bafa7cfe",
   "metadata": {},
   "outputs": [],
   "source": [
    "#correlate this with successful loopings"
   ]
  },
  {
   "cell_type": "code",
   "execution_count": null,
   "id": "753c8e3a",
   "metadata": {},
   "outputs": [],
   "source": []
  },
  {
   "cell_type": "code",
   "execution_count": null,
   "id": "8b817bb5",
   "metadata": {},
   "outputs": [],
   "source": []
  },
  {
   "cell_type": "code",
   "execution_count": 251,
   "id": "bb1b76fe",
   "metadata": {},
   "outputs": [],
   "source": [
    "\n",
    "outDirec= 'output/'\n",
    "x='beta'\n",
    "for num,prot in enumerate(eprn):\n",
    "    nu.dump_npdb(prot,f'{outDirec}build{x}_{num}.pdb')"
   ]
  },
  {
   "cell_type": "code",
   "execution_count": 24,
   "id": "8a649462",
   "metadata": {},
   "outputs": [],
   "source": []
  },
  {
   "cell_type": "code",
   "execution_count": 25,
   "id": "1bd8c345",
   "metadata": {},
   "outputs": [],
   "source": []
  },
  {
   "cell_type": "code",
   "execution_count": 22,
   "id": "cf4ff214",
   "metadata": {},
   "outputs": [],
   "source": []
  },
  {
   "cell_type": "code",
   "execution_count": 26,
   "id": "56d905c8",
   "metadata": {},
   "outputs": [
    {
     "data": {
      "text/plain": [
       "<matplotlib.collections.PathCollection at 0x17701202b80>"
      ]
     },
     "execution_count": 26,
     "metadata": {},
     "output_type": "execute_result"
    },
    {
     "data": {
      "image/png": "[encoded data removed]",
      "text/plain": [
       "<Figure size 432x288 with 1 Axes>"
      ]
     },
     "metadata": {
      "needs_background": "light"
     },
     "output_type": "display_data"
    }
   ],
   "source": [
    "plt.scatter(circ_gp[:,0],circ_gp[:,2])"
   ]
  },
  {
   "cell_type": "code",
   "execution_count": null,
   "id": "8c81b87d",
   "metadata": {},
   "outputs": [],
   "source": []
  },
  {
   "cell_type": "markdown",
   "id": "aefe630e",
   "metadata": {},
   "source": [
    "| 7 | 7 |   |   |   |   |   |   |   |   |   |   |\n",
    "|---|---|---|---|---|---|---|---|---|---|---|---|\n",
    "|   | 6 |   |   |   |   |   |   |   |   |   |   |\n",
    "|   | 5 |   |   |   |   |   |   |   |   |   |   |\n",
    "|   |   |   |   |   |   |   |   |   |   |   |   |\n",
    "|   |   |   |   |   |   |   |   |   |   |   |   |\n",
    "|   |   |   |   |   |   |   |   |   |   |   |   |\n",
    "|   |   |   |   |   |   |   |   |   |   |   |   |\n",
    "|   |   |   |   |   |   |   |   |   |   |   |   |\n",
    "|   |   |   |   |   |   |   |   |   |   |   |   |\n",
    "|   |   |   |   |   |   |   |   |   |   |   |   |\n",
    "|   |   |   |   |   |   |   |   |   |   |   |   |"
   ]
  },
  {
   "cell_type": "code",
   "execution_count": null,
   "id": "b1e09161",
   "metadata": {},
   "outputs": [],
   "source": []
  }
 ],
 "metadata": {
  "kernelspec": {
   "display_name": "fa_tfpy",
   "language": "python",
   "name": "fa_tfpy"
  },
  "language_info": {
   "codemirror_mode": {
    "name": "ipython",
    "version": 3
   },
   "file_extension": ".py",
   "mimetype": "text/x-python",
   "name": "python",
   "nbconvert_exporter": "python",
   "pygments_lexer": "ipython3",
   "version": "3.8.5"
  }
 },
 "nbformat": 4,
 "nbformat_minor": 5
}
